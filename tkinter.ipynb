{
 "cells": [
  {
   "cell_type": "code",
   "execution_count": 9,
   "metadata": {},
   "outputs": [],
   "source": [
    "from tkinter import *\n",
    "from tkinter.ttk import *\n",
    "from tkinter import messagebox"
   ]
  },
  {
   "cell_type": "code",
   "execution_count": 16,
   "metadata": {},
   "outputs": [],
   "source": [
    "\n",
    "window = Tk()\n",
    "window.title('this is a title')\n",
    "\n",
    "window.geometry('1000x500') # size of window\n",
    "\n",
    "# Label\n",
    "lbl = Label(window, text = 'Type somethin', font = ('Arial Bold', 50)) # creating a label\n",
    "lbl.grid(row=0, column=0) # label wont show up without this\n",
    "\n",
    "# Entry class\n",
    "txt = Entry(window, width = 10)\n",
    "txt.grid(row = 0, column=2)\n",
    "txt.focus() # text cursor will be here at the beginning\n",
    "\n",
    "# Combo\n",
    "\n",
    "combo = Combobox(window)\n",
    "combo['values'] = (1,2,3,4,\"text\")\n",
    "combo.current(1) #set the selected item\n",
    "combo.grid(row=1, column=0)\n",
    "# Use combo.get() to get the seleced item\n",
    "    \n",
    "\n",
    "# Checkbox\n",
    "chk = Checkbutton(window, text = 'Choose')\n",
    "chk.grid(row = 0, column = 3)\n",
    "\n",
    "# Radio button\n",
    "rad1 = Radiobutton(window, text = 'first', value = 1)\n",
    "rad2 = Radiobutton(window, text = 'second', value = 2)\n",
    "rad3 = Radiobutton(window, text = 'third', value = 3)\n",
    "\n",
    "rad1.grid(row = 1, column =1)\n",
    "rad2.grid(row = 1, column =2)\n",
    "rad3.grid(row = 1, column =3)\n",
    "\n",
    "\n",
    "\n",
    "# Button\n",
    "def clicked():\n",
    "    res = 'You typed ' + txt.get()\n",
    "    lbl.configure(text = res)\n",
    "\n",
    "btn =  Button(window, text = 'Dont click',  command = clicked)\n",
    "btn.grid(column = 1, row = 0)\n",
    "\n",
    "window.mainloop() # nothing will appear if we do not call this"
   ]
  },
  {
   "cell_type": "code",
   "execution_count": 21,
   "metadata": {},
   "outputs": [],
   "source": [
    "## Getting the values from radio buttons\n",
    "window1 = Tk()\n",
    "window1.title('Another one')\n",
    "window1.geometry('300x200')\n",
    "\n",
    "selected = IntVar()\n",
    "\n",
    "rad1 = Radiobutton(window1, text = 'first', value = 1, variable = selected)\n",
    "rad2 = Radiobutton(window1, text = 'second', value = 2, variable = selected)\n",
    "rad3 = Radiobutton(window1, text = 'third', value = 3, variable = selected)\n",
    "rad1.grid(row = 0, column =1)\n",
    "rad2.grid(row = 0, column =2)\n",
    "rad3.grid(row = 0, column =3)\n",
    "\n",
    "def clicked():\n",
    "    print(selected.get())\n",
    "\n",
    "button = Button(window1, text = 'Its a button', command = clicked)\n",
    "button.grid(row = 1, column = 1)    \n",
    "\n",
    "## pop up message\n",
    "def clicked():\n",
    "    messagebox.showinfo('Really?','You click that one out of everyhting?')\n",
    "    \n",
    "btn = Button(window1, text = 'click for pop up', command = clicked)\n",
    "btn.grid(row = 1, column=1)\n",
    "\n",
    "# Spinbox\n",
    "spin = Spinbox(window1, from_ = 20, to = 25, width = 10)\n",
    "spin.grid(row = 1, column = 2)\n",
    "\n",
    "window1.mainloop()"
   ]
  },
  {
   "cell_type": "code",
   "execution_count": null,
   "metadata": {},
   "outputs": [],
   "source": []
  }
 ],
 "metadata": {
  "kernelspec": {
   "display_name": "Python 3",
   "language": "python",
   "name": "python3"
  },
  "language_info": {
   "codemirror_mode": {
    "name": "ipython",
    "version": 3
   },
   "file_extension": ".py",
   "mimetype": "text/x-python",
   "name": "python",
   "nbconvert_exporter": "python",
   "pygments_lexer": "ipython3",
   "version": "3.7.3"
  }
 },
 "nbformat": 4,
 "nbformat_minor": 2
}
