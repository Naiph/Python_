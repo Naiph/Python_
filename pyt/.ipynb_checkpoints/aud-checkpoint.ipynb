{
 "cells": [
  {
   "cell_type": "code",
   "execution_count": 1,
   "metadata": {},
   "outputs": [],
   "source": [
    "from gtts import gTTS\n",
    "import os"
   ]
  },
  {
   "cell_type": "code",
   "execution_count": 2,
   "metadata": {},
   "outputs": [],
   "source": [
    "os.chdir(\"/home/naiph/Test\")\n",
    "path = '/home/naiph/Downloads'\n",
    "name = 'inception1.txt'\n",
    "\n",
    "subfile = open(path + '/' + name)\n",
    "\n",
    "natext = subfile.read()\n",
    "t = natext[:100]\n",
    "#for some reason, the text cannot go beyond 100 chars\n",
    "obj = gTTS(text = t, lang = 'en')\n",
    "\n",
    "obj.save(\"nafile.mp3\")"
   ]
  },
  {
   "cell_type": "code",
   "execution_count": null,
   "metadata": {},
   "outputs": [],
   "source": []
  }
 ],
 "metadata": {
  "kernelspec": {
   "display_name": "Python 3",
   "language": "python",
   "name": "python3"
  },
  "language_info": {
   "codemirror_mode": {
    "name": "ipython",
    "version": 3
   },
   "file_extension": ".py",
   "mimetype": "text/x-python",
   "name": "python",
   "nbconvert_exporter": "python",
   "pygments_lexer": "ipython3",
   "version": "3.7.3"
  }
 },
 "nbformat": 4,
 "nbformat_minor": 2
}
