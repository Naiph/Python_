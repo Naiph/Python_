{
 "cells": [
  {
   "cell_type": "code",
   "execution_count": 3,
   "metadata": {},
   "outputs": [],
   "source": [
    "from selenium import webdriver"
   ]
  },
  {
   "cell_type": "code",
   "execution_count": null,
   "metadata": {},
   "outputs": [],
   "source": [
    "#ph = input('Enter the 10 digit phone number')\n",
    "\n",
    "ph = '8007535999'\n",
    "text = '''\n",
    "Interested in a career in data science? Start with Python and end with projects that impress the world! 🌎\n",
    "\n",
    "AlgoAsylum presents \"Python for Data Science: Basics to Advanced\" 🐍\n",
    "\n",
    "Course starting on February 11th, 2020\n",
    "\n",
    "Course duration: 6 weeks 🕙\n",
    "\n",
    "Trainer: Dr. Shrirang Karandikar (Ph.D. from the University of Minnesota, previously worked with IBM Research, Intel, Shell, etc., 20+ Publications and 6 Patents). 🎖\n",
    "\n",
    "Please go through the PDF for the full syllabus, testimonials and the complete trainer's profile.\n",
    "\n",
    "Register on the link below to get a call from us ☎:\n",
    "https://docs.google.com/forms/d/e/1FAIpQLSc9TK8aezFXc2VssYikwXvC3mILjb2IWn2O9B6pls7d124ecA/viewform?usp=sf_link\n",
    "\n",
    "For more details contact\n",
    "Krishna: +91 8686363417 / 7798798492\n",
    "Email: krishna@algoasylum.com\n",
    "Address: 3rd Floor, Senani. 36, Ex-Servicemen Colony, Paud Road\n",
    "Location: https://goo.gl/maps/uCSgP3n6Bxx\n",
    "''' \n",
    "\n",
    "browser = webdriver.Firefox()\n",
    "browser.get('https://api.whatsapp.com/send?phone=+91' + ph)\n",
    "elem1 = browser.find_element_by_id('action-button')\n",
    "elem1.click()\n",
    "\n",
    "elem2 = browser.find_element_by_class_name('_3u328 copyable-text selectable-text')\n",
    "elem2.send_keys(text)\n",
    "\n",
    "elem3 = browser.find_element_by_name('send')\n",
    "elem3.click()\n",
    "\n",
    "elem4 = browser.find_element_by_name('clip')\n",
    "elem4.click()\n"
   ]
  },
  {
   "cell_type": "code",
   "execution_count": null,
   "metadata": {},
   "outputs": [],
   "source": [
    "import pyautogui, time\n",
    "pyautogui.click(1279, 343)\n",
    "# document Point(x=1279, y=343)\n",
    "# search Point(x=1189, y=51)\n",
    "#time.sleep(2)\n",
    "#pyautogui.click(1189, 51)\n",
    "time.sleep(2)\n",
    "pyautogui.typewrite('AlgoAsylum.pdf')\n"
   ]
  },
  {
   "cell_type": "code",
   "execution_count": null,
   "metadata": {},
   "outputs": [],
   "source": []
  },
  {
   "cell_type": "code",
   "execution_count": null,
   "metadata": {},
   "outputs": [],
   "source": []
  }
 ],
 "metadata": {
  "kernelspec": {
   "display_name": "Python 3",
   "language": "python",
   "name": "python3"
  },
  "language_info": {
   "codemirror_mode": {
    "name": "ipython",
    "version": 3
   },
   "file_extension": ".py",
   "mimetype": "text/x-python",
   "name": "python",
   "nbconvert_exporter": "python",
   "pygments_lexer": "ipython3",
   "version": "3.7.3"
  }
 },
 "nbformat": 4,
 "nbformat_minor": 2
}
