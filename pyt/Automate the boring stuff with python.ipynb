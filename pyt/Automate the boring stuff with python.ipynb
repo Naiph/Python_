{
 "cells": [
  {
   "cell_type": "code",
   "execution_count": 40,
   "metadata": {},
   "outputs": [],
   "source": [
    "from numpy import *\n",
    "import random`"
   ]
  },
  {
   "cell_type": "code",
   "execution_count": 30,
   "metadata": {},
   "outputs": [
    {
     "data": {
      "text/plain": [
       "0.0015926529164868282"
      ]
     },
     "execution_count": 30,
     "metadata": {},
     "output_type": "execute_result"
    }
   ],
   "source": [
    "sin(3.14)"
   ]
  },
  {
   "cell_type": "code",
   "execution_count": 13,
   "metadata": {},
   "outputs": [],
   "source": [
    "a = 5"
   ]
  },
  {
   "cell_type": "code",
   "execution_count": 15,
   "metadata": {},
   "outputs": [
    {
     "data": {
      "text/plain": [
       "94080875705504"
      ]
     },
     "execution_count": 15,
     "metadata": {},
     "output_type": "execute_result"
    }
   ],
   "source": [
    "id(a)"
   ]
  },
  {
   "cell_type": "code",
   "execution_count": 21,
   "metadata": {},
   "outputs": [],
   "source": [
    "b = 5.0 "
   ]
  },
  {
   "cell_type": "code",
   "execution_count": 22,
   "metadata": {},
   "outputs": [
    {
     "data": {
      "text/plain": [
       "140711053013256"
      ]
     },
     "execution_count": 22,
     "metadata": {},
     "output_type": "execute_result"
    }
   ],
   "source": [
    "id(b)"
   ]
  },
  {
   "cell_type": "code",
   "execution_count": 26,
   "metadata": {},
   "outputs": [
    {
     "data": {
      "text/plain": [
       "True"
      ]
     },
     "execution_count": 26,
     "metadata": {},
     "output_type": "execute_result"
    }
   ],
   "source": [
    "True or False"
   ]
  },
  {
   "cell_type": "code",
   "execution_count": 32,
   "metadata": {},
   "outputs": [],
   "source": [
    "import pyperclip"
   ]
  },
  {
   "cell_type": "code",
   "execution_count": 1,
   "metadata": {},
   "outputs": [],
   "source": [
    "None"
   ]
  },
  {
   "cell_type": "code",
   "execution_count": 2,
   "metadata": {},
   "outputs": [
    {
     "name": "stdout",
     "output_type": "stream",
     "text": [
      "\n"
     ]
    }
   ],
   "source": [
    "a = print()"
   ]
  },
  {
   "cell_type": "code",
   "execution_count": 35,
   "metadata": {},
   "outputs": [
    {
     "name": "stdout",
     "output_type": "stream",
     "text": [
      "a\n",
      "b\n"
     ]
    }
   ],
   "source": [
    "print('a')\n",
    "print('b')"
   ]
  },
  {
   "cell_type": "code",
   "execution_count": 37,
   "metadata": {},
   "outputs": [
    {
     "name": "stdout",
     "output_type": "stream",
     "text": [
      "ab\n"
     ]
    }
   ],
   "source": [
    "print('a', end = '')\n",
    "print('b')"
   ]
  },
  {
   "cell_type": "code",
   "execution_count": 58,
   "metadata": {},
   "outputs": [
    {
     "data": {
      "text/plain": [
       "1.0"
      ]
     },
     "execution_count": 58,
     "metadata": {},
     "output_type": "execute_result"
    }
   ],
   "source": [
    "c = 5 / 5 \n",
    "c"
   ]
  },
  {
   "cell_type": "code",
   "execution_count": 65,
   "metadata": {},
   "outputs": [
    {
     "name": "stdout",
     "output_type": "stream",
     "text": [
      "Whats your name?\n",
      "L\n",
      "Hello L, welcome to guess the number game\n",
      "Rules: You get 5 guesses to guess the number. Its any number from 0 to 10\n",
      "Guess the number\n",
      "4\n",
      "Guess higher\n",
      "Guess the number\n",
      "3\n",
      "Guess higher\n",
      "Guess the number\n",
      "2\n",
      "Guess higher\n",
      "Guess the number\n",
      "1\n",
      "Guess higher\n",
      "Guess the number\n",
      "0\n",
      "Guess higher\n",
      "Nope. The secret number was 10\n"
     ]
    }
   ],
   "source": [
    "print(\"Whats your name?\")\n",
    "name = input()\n",
    "print(\"Hello \" + name + \", welcome to guess the number game\")\n",
    "print(\"Rules: You get 5 guesses to guess the number. Its any number from 0 to 10\")\n",
    "mynum = random.randint(0,11)\n",
    "for i in range(5):\n",
    "    print(\"Guess the number\")\n",
    "    g = int(input())\n",
    "    \n",
    "    if (g == mynum):\n",
    "        print(\"Conrats. You've won. You have guessed it in \" + str(i+1) + \" tries\")\n",
    "        break\n",
    "    elif (g < mynum):\n",
    "        print(\"Guess higher\")\n",
    "        #continue\n",
    "    elif (g > mynum):\n",
    "        print(\"Guess lower\")\n",
    "        #continue\n",
    "print(\"Nope. The secret number was \" + str(mynum))\n",
    "        \n",
    "        "
   ]
  },
  {
   "cell_type": "code",
   "execution_count": 4,
   "metadata": {},
   "outputs": [
    {
     "data": {
      "text/plain": [
       "True"
      ]
     },
     "execution_count": 4,
     "metadata": {},
     "output_type": "execute_result"
    }
   ],
   "source": [
    "name1 = 'Krishankanth'\n",
    "'s' in name1\n",
    "\n",
    "#for i in name1:\n",
    " #   print(\" \" + i)"
   ]
  },
  {
   "cell_type": "code",
   "execution_count": 4,
   "metadata": {},
   "outputs": [
    {
     "name": "stdout",
     "output_type": "stream",
     "text": [
      "Zophie a cat\n",
      "Zophie the cat\n"
     ]
    }
   ],
   "source": [
    "name = 'Zophie a cat'\n",
    "newName = name[:7] + 'the' + name[8:]\n",
    "\n",
    "print(name)\n",
    "print(newName)"
   ]
  },
  {
   "cell_type": "code",
   "execution_count": null,
   "metadata": {},
   "outputs": [],
   "source": []
  },
  {
   "cell_type": "code",
   "execution_count": 90,
   "metadata": {},
   "outputs": [
    {
     "name": "stdout",
     "output_type": "stream",
     "text": [
      "asd\n"
     ]
    }
   ],
   "source": [
    "d = {1:\"a\", 2:\"as\", 3:'asd'}\n",
    "es = {2:\"as\", 1:\"a\", 3:\"asd\"}\n",
    "\n",
    "print(d[3])"
   ]
  },
  {
   "cell_type": "code",
   "execution_count": 7,
   "metadata": {},
   "outputs": [
    {
     "name": "stdout",
     "output_type": "stream",
     "text": [
      "<generator object <genexpr> at 0x7f43983c66d8>\n",
      "[0, 1, 2, 3, 4]\n"
     ]
    }
   ],
   "source": [
    "g = (i for i in range(5))\n",
    "k = [i for i in range(5)]\n",
    "print(g)\n",
    "print(k)"
   ]
  },
  {
   "cell_type": "code",
   "execution_count": 36,
   "metadata": {
    "scrolled": true
   },
   "outputs": [
    {
     "name": "stdout",
     "output_type": "stream",
     "text": [
      "*_*_*_*_*_*_*_*_*_\n",
      "*_*_*_*_*_*_*_*_\n",
      "*_*_*_*_*_*_*_\n",
      "*_*_*_*_*_*_\n",
      "*_*_*_*_*_\n",
      "*_*_*_*_\n",
      "*_*_*_\n",
      "*_*_\n",
      "*_\n",
      "\n"
     ]
    }
   ],
   "source": [
    "a = '*_'\n",
    "for i in reversed(range(10)):\n",
    "    k = (a*i)\n",
    "    print(k)\n"
   ]
  },
  {
   "cell_type": "code",
   "execution_count": 12,
   "metadata": {},
   "outputs": [
    {
     "name": "stdout",
     "output_type": "stream",
     "text": [
      "*_*_*_*_*_*_*_*_*_*_\n",
      "*_*_*_*_*_*_*_*_*_*_\n",
      "*_*_*_*_*_*_*_*_*_*_\n",
      "*_*_*_*_*_*_*_*_*_*_\n",
      "*_*_*_*_*_*_*_*_*_*_\n",
      "*_*_*_*_*_*_*_*_*_*_\n",
      "*_*_*_*_*_*_*_*_*_*_\n",
      "*_*_*_*_*_*_*_*_*_*_\n",
      "*_*_*_*_*_*_*_*_*_*_\n",
      "*_*_*_*_*_*_*_*_*_*_\n"
     ]
    }
   ],
   "source": [
    "a = '*_'\n",
    "a *= 10\n",
    "for i in range(10):\n",
    "    print(a)\n",
    "    \n"
   ]
  },
  {
   "cell_type": "code",
   "execution_count": 39,
   "metadata": {},
   "outputs": [],
   "source": [
    "spam = 50 \n",
    "cheese = 100\n",
    "cheese = spam\n",
    "id(spam)"
   ]
  },
  {
   "cell_type": "code",
   "execution_count": 40,
   "metadata": {},
   "outputs": [
    {
     "name": "stdout",
     "output_type": "stream",
     "text": [
      "50\n",
      "50\n"
     ]
    }
   ],
   "source": [
    "print(spam)\n",
    "print(cheese)"
   ]
  },
  {
   "cell_type": "code",
   "execution_count": 47,
   "metadata": {},
   "outputs": [
    {
     "name": "stdout",
     "output_type": "stream",
     "text": [
      "asd, asdf, uyoewr, \n"
     ]
    }
   ],
   "source": [
    "list1 = ['asd', 'asdf', 'uyoewr']\n",
    "strr = ''\n",
    "for i in list1:\n",
    "    strr = strr + i + \", \"\n",
    "print(strr)"
   ]
  },
  {
   "cell_type": "code",
   "execution_count": 56,
   "metadata": {},
   "outputs": [
    {
     "data": {
      "text/plain": [
       "[2, 2, 3, 4, 5, 10]"
      ]
     },
     "execution_count": 56,
     "metadata": {},
     "output_type": "execute_result"
    }
   ],
   "source": [
    "a = [3,2,5,10,2,4]\n",
    "#print(sorted(a))\n",
    "a.sort()\n",
    "a"
   ]
  },
  {
   "cell_type": "code",
   "execution_count": 57,
   "metadata": {},
   "outputs": [
    {
     "data": {
      "text/plain": [
       "[3, 2, 5, 10, 2, 4]"
      ]
     },
     "execution_count": 57,
     "metadata": {},
     "output_type": "execute_result"
    }
   ],
   "source": [
    "a = [3,2,5,10,2,4]\n",
    "sorted(a)\n",
    "a"
   ]
  },
  {
   "cell_type": "code",
   "execution_count": 11,
   "metadata": {},
   "outputs": [
    {
     "name": "stdout",
     "output_type": "stream",
     "text": [
      "a is 2,b is 3,c is 1\n"
     ]
    }
   ],
   "source": [
    "a = 1\n",
    "b = 2\n",
    "c = 3\n",
    "a,b,c =c,a,b = b,a,c = c,b,a\n",
    "print(\"a is {},b is {},c is {}\".format(a,b,c))"
   ]
  },
  {
   "cell_type": "code",
   "execution_count": 14,
   "metadata": {},
   "outputs": [
    {
     "data": {
      "text/plain": [
       "[2, 4, 5]"
      ]
     },
     "execution_count": 14,
     "metadata": {},
     "output_type": "execute_result"
    }
   ],
   "source": [
    "#sorted and .sort on tuples\n",
    "a = (5,2,4)\n",
    "sorted(a)\n",
    "#a.sort()"
   ]
  },
  {
   "cell_type": "code",
   "execution_count": null,
   "metadata": {},
   "outputs": [],
   "source": []
  },
  {
   "cell_type": "code",
   "execution_count": null,
   "metadata": {},
   "outputs": [],
   "source": [
    "# problem:\n",
    "# There are some cups and some marbles in it. ()----()----()----....()\n",
    "# The sum of the number of marbles in 1st and last, 2nd and second last,... remain the same.\n",
    "# A cup is missing which is not first or last. Find the number of marbles in its counterpart"
   ]
  },
  {
   "cell_type": "code",
   "execution_count": null,
   "metadata": {},
   "outputs": [],
   "source": []
  },
  {
   "cell_type": "code",
   "execution_count": null,
   "metadata": {},
   "outputs": [],
   "source": []
  },
  {
   "cell_type": "code",
   "execution_count": null,
   "metadata": {},
   "outputs": [],
   "source": []
  },
  {
   "cell_type": "code",
   "execution_count": null,
   "metadata": {},
   "outputs": [],
   "source": []
  }
 ],
 "metadata": {
  "kernelspec": {
   "display_name": "Python 3",
   "language": "python",
   "name": "python3"
  },
  "language_info": {
   "codemirror_mode": {
    "name": "ipython",
    "version": 3
   },
   "file_extension": ".py",
   "mimetype": "text/x-python",
   "name": "python",
   "nbconvert_exporter": "python",
   "pygments_lexer": "ipython3",
   "version": "3.7.3"
  }
 },
 "nbformat": 4,
 "nbformat_minor": 2
}
