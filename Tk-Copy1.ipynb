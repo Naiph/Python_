{
 "cells": [
  {
   "cell_type": "code",
   "execution_count": 32,
   "metadata": {},
   "outputs": [],
   "source": [
    "from tkinter import *\n",
    "from tkinter import messagebox"
   ]
  },
  {
   "cell_type": "code",
   "execution_count": 42,
   "metadata": {},
   "outputs": [],
   "source": [
    "window = Tk()\n",
    "window.title('Title')\n",
    "window.geometry('1000x500') # size of window\n",
    "\n",
    "\n",
    "lbl = Label(window, text = 'Select your lot', font = ('Arial Bold', 20)) # creating a label\n",
    "lbl.grid(row=0, column=0) # label wont show up without this\n",
    "    \n",
    "\n",
    "    \n",
    "\n",
    "buttons = []\n",
    "\n",
    "for i in range(8):\n",
    "    buttons.append(Button(window, text = 'Park here', bg = 'green', command = clicked))\n",
    "    \n",
    "def clicked(a):\n",
    "    a.configure(bg = 'red', text = 'Selected')\n",
    "\n",
    "\n",
    "    \n",
    "btn1 =  Button(window, text = 'Park here', bg = 'green', command = clicked1)\n",
    "btn1.grid(column = 1, row = 1)\n",
    "\n",
    "# ---------\n",
    "\n",
    "\n",
    "name = Label(window, text = 'Enter your Name').grid(column = 0,row=2)\n",
    "txt1 = Entry(window, width = 10)\n",
    "txt1.grid(column = 0, row = 3)\n",
    "txt1.focus() # text cursor will be here at the beginning\n",
    "\n",
    "time = Label(window, text = 'How long will you be parking for?').grid(column = 0, row = 4)\n",
    "txt2 = Entry(window, width = 10).grid(column = 0, row = 5)\n",
    "\n",
    "phone = Label(window, text= 'Enter your phone no.').grid(column=0, row=6)\n",
    "txt3 = Entry(window, width = 10).grid(column=0, row=7)\n",
    "\n",
    "window.mainloop() # nothing will appear if we do not call this"
   ]
  },
  {
   "cell_type": "code",
   "execution_count": null,
   "metadata": {},
   "outputs": [],
   "source": []
  },
  {
   "cell_type": "code",
   "execution_count": null,
   "metadata": {},
   "outputs": [],
   "source": []
  }
 ],
 "metadata": {
  "kernelspec": {
   "display_name": "Python 3",
   "language": "python",
   "name": "python3"
  },
  "language_info": {
   "codemirror_mode": {
    "name": "ipython",
    "version": 3
   },
   "file_extension": ".py",
   "mimetype": "text/x-python",
   "name": "python",
   "nbconvert_exporter": "python",
   "pygments_lexer": "ipython3",
   "version": "3.7.3"
  }
 },
 "nbformat": 4,
 "nbformat_minor": 2
}
