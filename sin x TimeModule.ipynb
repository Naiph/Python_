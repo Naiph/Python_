{
 "cells": [
  {
   "cell_type": "code",
   "execution_count": 1,
   "metadata": {},
   "outputs": [
    {
     "data": {
      "text/plain": [
       "24"
      ]
     },
     "execution_count": 1,
     "metadata": {},
     "output_type": "execute_result"
    }
   ],
   "source": [
    "def fact(a):\n",
    "    if a == 0:\n",
    "        return 1\n",
    "    return a * fact(a-1)\n",
    "\n",
    "fact(4)"
   ]
  },
  {
   "cell_type": "markdown",
   "metadata": {},
   "source": [
    "Sin x without any optimization"
   ]
  },
  {
   "cell_type": "code",
   "execution_count": 2,
   "metadata": {},
   "outputs": [
    {
     "name": "stdout",
     "output_type": "stream",
     "text": [
      "0.7083415985107422 ms\n"
     ]
    }
   ],
   "source": [
    "#%%timeit\n",
    "import time\n",
    "\n",
    "start = time.time()\n",
    "\n",
    "a = 3.1415\n",
    "## power, fact, sign, term, summ\n",
    "def sin1(x):\n",
    "    summ = 0\n",
    "    \n",
    "    for i in range(10):\n",
    "        p = x**((2 * i) + 1)\n",
    "        sign = (-1)**i\n",
    "        f = fact(2 * i +1)\n",
    "        term = sign * p / f\n",
    "        summ = summ + term\n",
    "    return summ\n",
    "\n",
    "sin1(a)\n",
    "\n",
    "end = time.time()\n",
    "print(str((end - start) * 1000 )+ ' ms')\n"
   ]
  },
  {
   "cell_type": "markdown",
   "metadata": {},
   "source": [
    "Sin x with sign optimized"
   ]
  },
  {
   "cell_type": "code",
   "execution_count": 3,
   "metadata": {},
   "outputs": [
    {
     "name": "stdout",
     "output_type": "stream",
     "text": [
      "0.6084442138671875 ms\n"
     ]
    }
   ],
   "source": [
    "#%%timeit\n",
    "import time\n",
    "\n",
    "start = time.time()\n",
    "\n",
    "def sin1(x):\n",
    "    summ = 0\n",
    "    sign = -1\n",
    "    for i in range(10):\n",
    "        p = x**((2 * i) + 1)\n",
    "        sign = sign * (-1)\n",
    "        f = fact(2 * i +1)\n",
    "        term = sign * p / f\n",
    "        summ = summ + term\n",
    "    return summ\n",
    "sin1(a)\n",
    "\n",
    "end = time.time()\n",
    "print(str((end - start) * 1000 )+ ' ms')"
   ]
  },
  {
   "cell_type": "markdown",
   "metadata": {},
   "source": [
    "Sin x power and sign optimized"
   ]
  },
  {
   "cell_type": "code",
   "execution_count": 4,
   "metadata": {},
   "outputs": [
    {
     "name": "stdout",
     "output_type": "stream",
     "text": [
      "0.4611015319824219 ms\n"
     ]
    }
   ],
   "source": [
    "#%%timeit\n",
    "\n",
    "import time\n",
    "\n",
    "start = time.time()\n",
    "\n",
    "def sin1(x):\n",
    "    summ = 0\n",
    "    sign = -1\n",
    "    p = 1/x\n",
    "    for i in range(10):\n",
    "        #p = x**((2 * i) + 1)\n",
    "        p = p * x * x\n",
    "        sign = sign * (-1)\n",
    "        f = fact(2 * i +1)\n",
    "        term = sign * p / f\n",
    "        summ = summ + term\n",
    "    return summ\n",
    "sin1(a)\n",
    "\n",
    "end = time.time()\n",
    "print(str((end - start) * 1000 )+ ' ms')"
   ]
  },
  {
   "cell_type": "markdown",
   "metadata": {},
   "source": [
    "Sin x power, sign and factorial optimized"
   ]
  },
  {
   "cell_type": "code",
   "execution_count": 15,
   "metadata": {},
   "outputs": [
    {
     "name": "stdout",
     "output_type": "stream",
     "text": [
      "0.5252361297607422 ms\n"
     ]
    }
   ],
   "source": [
    "#%%timeit\n",
    "import time\n",
    "\n",
    "start = time.time()\n",
    "\n",
    "\n",
    "a = 3.1415\n",
    "summ = 0\n",
    "def sin1(x):\n",
    "    summ = 0\n",
    "    sign = -1\n",
    "    p = 1/x\n",
    "    f = 1\n",
    "    for i in range(10):\n",
    "        #p = x**((2 * i) + 1)\n",
    "        p = p * x * x\n",
    "        sign = sign * (-1)\n",
    "        #f = fact(2 * i +1)\n",
    "        if i > 0:\n",
    "            #f = f * fact(2*i + 1 + 2) why this doesnt work\n",
    "            f = f * (2*i) * (2*i + 1)\n",
    "        term = sign * p / f\n",
    "        summ = summ + term\n",
    "    return summ\n",
    "sin1(a)\n",
    "end = time.time()\n",
    "print(str((end - start) * 1000 )+ ' ms')\n",
    "\n"
   ]
  },
  {
   "cell_type": "code",
   "execution_count": null,
   "metadata": {},
   "outputs": [],
   "source": []
  },
  {
   "cell_type": "code",
   "execution_count": null,
   "metadata": {},
   "outputs": [],
   "source": []
  }
 ],
 "metadata": {
  "kernelspec": {
   "display_name": "Python 3",
   "language": "python",
   "name": "python3"
  },
  "language_info": {
   "codemirror_mode": {
    "name": "ipython",
    "version": 3
   },
   "file_extension": ".py",
   "mimetype": "text/x-python",
   "name": "python",
   "nbconvert_exporter": "python",
   "pygments_lexer": "ipython3",
   "version": "3.7.3"
  }
 },
 "nbformat": 4,
 "nbformat_minor": 2
}
