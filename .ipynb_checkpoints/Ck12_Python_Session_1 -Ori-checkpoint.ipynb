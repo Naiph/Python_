{
 "cells": [
  {
   "cell_type": "code",
   "execution_count": 18,
   "metadata": {},
   "outputs": [
    {
     "data": {
      "text/plain": [
       "24"
      ]
     },
     "execution_count": 18,
     "metadata": {},
     "output_type": "execute_result"
    }
   ],
   "source": [
    "def fact(a):\n",
    "    if a == 0:\n",
    "        return 1\n",
    "    return a * fact(a-1)\n",
    "\n",
    "fact(4)"
   ]
  },
  {
   "cell_type": "markdown",
   "metadata": {},
   "source": [
    "Sin x without any optimization"
   ]
  },
  {
   "cell_type": "code",
   "execution_count": 20,
   "metadata": {},
   "outputs": [
    {
     "name": "stdout",
     "output_type": "stream",
     "text": [
      "27.7 µs ± 6.76 µs per loop (mean ± std. dev. of 7 runs, 10000 loops each)\n"
     ]
    }
   ],
   "source": [
    "#%%timeit\n",
    "a = 3.1415\n",
    "## power, fact, sign, term, summ\n",
    "def sin1(x):\n",
    "    summ = 0\n",
    "    \n",
    "    for i in range(10):\n",
    "        p = x**((2 * i) + 1)\n",
    "        sign = (-1)**i\n",
    "        f = fact(2 * i +1)\n",
    "        term = sign * p / f\n",
    "        summ = summ + term\n",
    "    return summ\n",
    "\n",
    "sin1(a)"
   ]
  },
  {
   "cell_type": "markdown",
   "metadata": {},
   "source": [
    "Sin x with sign optimized"
   ]
  },
  {
   "cell_type": "code",
   "execution_count": 19,
   "metadata": {},
   "outputs": [
    {
     "name": "stdout",
     "output_type": "stream",
     "text": [
      "23.1 µs ± 1.7 µs per loop (mean ± std. dev. of 7 runs, 10000 loops each)\n"
     ]
    }
   ],
   "source": [
    "#%%timeit\n",
    "def sin1(x):\n",
    "    summ = 0\n",
    "    sign = -1\n",
    "    for i in range(10):\n",
    "        p = x**((2 * i) + 1)\n",
    "        sign = sign * (-1)\n",
    "        f = fact(2 * i +1)\n",
    "        term = sign * p / f\n",
    "        summ = summ + term\n",
    "    return summ\n",
    "sin1(a)"
   ]
  },
  {
   "cell_type": "markdown",
   "metadata": {},
   "source": [
    "Sin x power and sign optimized"
   ]
  },
  {
   "cell_type": "code",
   "execution_count": 21,
   "metadata": {},
   "outputs": [
    {
     "name": "stdout",
     "output_type": "stream",
     "text": [
      "20.6 µs ± 1.25 µs per loop (mean ± std. dev. of 7 runs, 10000 loops each)\n"
     ]
    }
   ],
   "source": [
    "#%%timeit\n",
    "def sin1(x):\n",
    "    summ = 0\n",
    "    sign = -1\n",
    "    p = 1/x\n",
    "    for i in range(10):\n",
    "        #p = x**((2 * i) + 1)\n",
    "        p = p * x * x\n",
    "        sign = sign * (-1)\n",
    "        f = fact(2 * i +1)\n",
    "        term = sign * p / f\n",
    "        summ = summ + term\n",
    "    return summ\n",
    "sin1(a)"
   ]
  },
  {
   "cell_type": "markdown",
   "metadata": {},
   "source": [
    "Sin x power, sign and factorial optimized"
   ]
  },
  {
   "cell_type": "code",
   "execution_count": 30,
   "metadata": {},
   "outputs": [
    {
     "name": "stdout",
     "output_type": "stream",
     "text": [
      "4.55 µs ± 222 ns per loop (mean ± std. dev. of 7 runs, 100000 loops each)\n"
     ]
    }
   ],
   "source": [
    "#%%timeit\n",
    "a = 3.1415\n",
    "summ = 0\n",
    "def sin1(x):\n",
    "    summ = 0\n",
    "    sign = -1\n",
    "    p = 1/x\n",
    "    f = 1\n",
    "    for i in range(10):\n",
    "        #p = x**((2 * i) + 1)\n",
    "        p = p * x * x\n",
    "        sign = sign * (-1)\n",
    "        #f = fact(2 * i +1)\n",
    "        if i > 0:\n",
    "            #f = f * fact(2*i + 1 + 2) why this doesnt work\n",
    "            f = f * (2*i) * (2*i + 1)\n",
    "        term = sign * p / f\n",
    "        summ = summ + term\n",
    "    return summ\n",
    "sin1(a)"
   ]
  },
  {
   "cell_type": "code",
   "execution_count": null,
   "metadata": {},
   "outputs": [],
   "source": []
  }
 ],
 "metadata": {
  "kernelspec": {
   "display_name": "Python 3",
   "language": "python",
   "name": "python3"
  },
  "language_info": {
   "codemirror_mode": {
    "name": "ipython",
    "version": 3
   },
   "file_extension": ".py",
   "mimetype": "text/x-python",
   "name": "python",
   "nbconvert_exporter": "python",
   "pygments_lexer": "ipython3",
   "version": "3.7.3"
  }
 },
 "nbformat": 4,
 "nbformat_minor": 2
}
