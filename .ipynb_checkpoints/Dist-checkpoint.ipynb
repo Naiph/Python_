{
 "cells": [
  {
   "cell_type": "code",
   "execution_count": 39,
   "metadata": {},
   "outputs": [],
   "source": [
    "import random\n",
    "import math\n",
    "from scipy.spatial import distance\n",
    "import matplotlib.pyplot as plt\n",
    "%matplotlib inline"
   ]
  },
  {
   "cell_type": "code",
   "execution_count": 228,
   "metadata": {},
   "outputs": [
    {
     "data": {
      "text/plain": [
       "<matplotlib.collections.PathCollection at 0x7effa794cba8>"
      ]
     },
     "execution_count": 228,
     "metadata": {},
     "output_type": "execute_result"
    },
    {
     "data": {
      "image/png": "[encoded data removed]",
      "text/plain": [
       "<Figure size 432x288 with 1 Axes>"
      ]
     },
     "metadata": {
      "needs_background": "light"
     },
     "output_type": "display_data"
    }
   ],
   "source": [
    "xmax = 10\n",
    "ymax = 10\n",
    "\n",
    "x_vals = []\n",
    "for i in range(xmax):\n",
    "    a = random.randint(0,xmax)\n",
    "    x_vals.append(a)\n",
    "\n",
    "y_vals = []\n",
    "for i in range(ymax):\n",
    "    a = random.randint(0,ymax)\n",
    "    y_vals.append(a)\n",
    "\n",
    "points = []\n",
    "for i in range(xmax):\n",
    "    p = [x_vals[i],y_vals[i]]\n",
    "    points.append(p)\n",
    "plt.scatter(x_vals, y_vals, s=100, c=(0,0,0), alpha=0.5)"
   ]
  },
  {
   "cell_type": "code",
   "execution_count": 229,
   "metadata": {
    "scrolled": true
   },
   "outputs": [
    {
     "data": {
      "text/plain": [
       "{'Dawood': [2, 3],\n",
       " 'Bin': [5, 4],\n",
       " 'Laden': [2, 1],\n",
       " 'Shakeel': [5, 8],\n",
       " 'Ibrahim': [0, 0],\n",
       " 'Bushi': [0, 2],\n",
       " 'Kasab': [1, 3],\n",
       " 'Osama': [9, 6],\n",
       " 'Rajan': [3, 5],\n",
       " 'Veerappan': [3, 0]}"
      ]
     },
     "execution_count": 229,
     "metadata": {},
     "output_type": "execute_result"
    }
   ],
   "source": [
    "names = ['Dawood', 'Bin', 'Laden', 'Shakeel', 'Ibrahim', 'Bushi', 'Kasab', 'Osama', 'Rajan', 'Veerappan']\n",
    "# len(points) == len(names) = True\n",
    "people = dict(zip(names,points))\n",
    "people"
   ]
  },
  {
   "cell_type": "code",
   "execution_count": 230,
   "metadata": {},
   "outputs": [
    {
     "data": {
      "text/plain": [
       "4.242640687119285"
      ]
     },
     "execution_count": 230,
     "metadata": {},
     "output_type": "execute_result"
    }
   ],
   "source": [
    "a = [1,2]\n",
    "b = [4,5]\n",
    "dst = distance.euclidean(a,b)\n",
    "dst"
   ]
  },
  {
   "cell_type": "code",
   "execution_count": 231,
   "metadata": {
    "scrolled": false
   },
   "outputs": [
    {
     "name": "stdout",
     "output_type": "stream",
     "text": [
      "dist of Dawood to Dawood is 0.0\n",
      "dist of Dawood to Bin is 3.1622776601683795\n",
      "dist of Dawood to Laden is 2.0\n",
      "dist of Dawood to Shakeel is 5.830951894845301\n",
      "dist of Dawood to Ibrahim is 3.605551275463989\n",
      "dist of Dawood to Bushi is 2.23606797749979\n",
      "dist of Dawood to Kasab is 1.0\n",
      "dist of Dawood to Osama is 7.615773105863909\n",
      "dist of Dawood to Rajan is 2.23606797749979\n",
      "dist of Dawood to Veerappan is 3.1622776601683795\n",
      "\n",
      "\n",
      "dist of Bin to Dawood is 3.1622776601683795\n",
      "dist of Bin to Bin is 0.0\n",
      "dist of Bin to Laden is 4.242640687119285\n",
      "dist of Bin to Shakeel is 4.0\n",
      "dist of Bin to Ibrahim is 6.4031242374328485\n",
      "dist of Bin to Bushi is 5.385164807134504\n",
      "dist of Bin to Kasab is 4.123105625617661\n",
      "dist of Bin to Osama is 4.47213595499958\n",
      "dist of Bin to Rajan is 2.23606797749979\n",
      "dist of Bin to Veerappan is 4.47213595499958\n",
      "\n",
      "\n",
      "dist of Laden to Dawood is 2.0\n",
      "dist of Laden to Bin is 4.242640687119285\n",
      "dist of Laden to Laden is 0.0\n",
      "dist of Laden to Shakeel is 7.615773105863909\n",
      "dist of Laden to Ibrahim is 2.23606797749979\n",
      "dist of Laden to Bushi is 2.23606797749979\n",
      "dist of Laden to Kasab is 2.23606797749979\n",
      "dist of Laden to Osama is 8.602325267042627\n",
      "dist of Laden to Rajan is 4.123105625617661\n",
      "dist of Laden to Veerappan is 1.4142135623730951\n",
      "\n",
      "\n",
      "dist of Shakeel to Dawood is 5.830951894845301\n",
      "dist of Shakeel to Bin is 4.0\n",
      "dist of Shakeel to Laden is 7.615773105863909\n",
      "dist of Shakeel to Shakeel is 0.0\n",
      "dist of Shakeel to Ibrahim is 9.433981132056603\n",
      "dist of Shakeel to Bushi is 7.810249675906654\n",
      "dist of Shakeel to Kasab is 6.4031242374328485\n",
      "dist of Shakeel to Osama is 4.47213595499958\n",
      "dist of Shakeel to Rajan is 3.605551275463989\n",
      "dist of Shakeel to Veerappan is 8.246211251235321\n",
      "\n",
      "\n",
      "dist of Ibrahim to Dawood is 3.605551275463989\n",
      "dist of Ibrahim to Bin is 6.4031242374328485\n",
      "dist of Ibrahim to Laden is 2.23606797749979\n",
      "dist of Ibrahim to Shakeel is 9.433981132056603\n",
      "dist of Ibrahim to Ibrahim is 0.0\n",
      "dist of Ibrahim to Bushi is 2.0\n",
      "dist of Ibrahim to Kasab is 3.1622776601683795\n",
      "dist of Ibrahim to Osama is 10.816653826391969\n",
      "dist of Ibrahim to Rajan is 5.830951894845301\n",
      "dist of Ibrahim to Veerappan is 3.0\n",
      "\n",
      "\n",
      "dist of Bushi to Dawood is 2.23606797749979\n",
      "dist of Bushi to Bin is 5.385164807134504\n",
      "dist of Bushi to Laden is 2.23606797749979\n",
      "dist of Bushi to Shakeel is 7.810249675906654\n",
      "dist of Bushi to Ibrahim is 2.0\n",
      "dist of Bushi to Bushi is 0.0\n",
      "dist of Bushi to Kasab is 1.4142135623730951\n",
      "dist of Bushi to Osama is 9.848857801796104\n",
      "dist of Bushi to Rajan is 4.242640687119285\n",
      "dist of Bushi to Veerappan is 3.605551275463989\n",
      "\n",
      "\n",
      "dist of Kasab to Dawood is 1.0\n",
      "dist of Kasab to Bin is 4.123105625617661\n",
      "dist of Kasab to Laden is 2.23606797749979\n",
      "dist of Kasab to Shakeel is 6.4031242374328485\n",
      "dist of Kasab to Ibrahim is 3.1622776601683795\n",
      "dist of Kasab to Bushi is 1.4142135623730951\n",
      "dist of Kasab to Kasab is 0.0\n",
      "dist of Kasab to Osama is 8.54400374531753\n",
      "dist of Kasab to Rajan is 2.8284271247461903\n",
      "dist of Kasab to Veerappan is 3.605551275463989\n",
      "\n",
      "\n",
      "dist of Osama to Dawood is 7.615773105863909\n",
      "dist of Osama to Bin is 4.47213595499958\n",
      "dist of Osama to Laden is 8.602325267042627\n",
      "dist of Osama to Shakeel is 4.47213595499958\n",
      "dist of Osama to Ibrahim is 10.816653826391969\n",
      "dist of Osama to Bushi is 9.848857801796104\n",
      "dist of Osama to Kasab is 8.54400374531753\n",
      "dist of Osama to Osama is 0.0\n",
      "dist of Osama to Rajan is 6.082762530298219\n",
      "dist of Osama to Veerappan is 8.48528137423857\n",
      "\n",
      "\n",
      "dist of Rajan to Dawood is 2.23606797749979\n",
      "dist of Rajan to Bin is 2.23606797749979\n",
      "dist of Rajan to Laden is 4.123105625617661\n",
      "dist of Rajan to Shakeel is 3.605551275463989\n",
      "dist of Rajan to Ibrahim is 5.830951894845301\n",
      "dist of Rajan to Bushi is 4.242640687119285\n",
      "dist of Rajan to Kasab is 2.8284271247461903\n",
      "dist of Rajan to Osama is 6.082762530298219\n",
      "dist of Rajan to Rajan is 0.0\n",
      "dist of Rajan to Veerappan is 5.0\n",
      "\n",
      "\n",
      "dist of Veerappan to Dawood is 3.1622776601683795\n",
      "dist of Veerappan to Bin is 4.47213595499958\n",
      "dist of Veerappan to Laden is 1.4142135623730951\n",
      "dist of Veerappan to Shakeel is 8.246211251235321\n",
      "dist of Veerappan to Ibrahim is 3.0\n",
      "dist of Veerappan to Bushi is 3.605551275463989\n",
      "dist of Veerappan to Kasab is 3.605551275463989\n",
      "dist of Veerappan to Osama is 8.48528137423857\n",
      "dist of Veerappan to Rajan is 5.0\n",
      "dist of Veerappan to Veerappan is 0.0\n",
      "\n",
      "\n"
     ]
    }
   ],
   "source": [
    "for i in range(len(points)):\n",
    "    for j in range(len(points)):\n",
    "        res = distance.euclidean(points[i],points[j])\n",
    "        print('dist of ' + names[i] + ' to ' + names[j] + ' is ' + str(res))\n",
    "    print('\\n')\n"
   ]
  },
  {
   "cell_type": "code",
   "execution_count": null,
   "metadata": {},
   "outputs": [],
   "source": []
  },
  {
   "cell_type": "code",
   "execution_count": null,
   "metadata": {},
   "outputs": [],
   "source": []
  }
 ],
 "metadata": {
  "kernelspec": {
   "display_name": "Python 3",
   "language": "python",
   "name": "python3"
  },
  "language_info": {
   "codemirror_mode": {
    "name": "ipython",
    "version": 3
   },
   "file_extension": ".py",
   "mimetype": "text/x-python",
   "name": "python",
   "nbconvert_exporter": "python",
   "pygments_lexer": "ipython3",
   "version": "3.7.3"
  }
 },
 "nbformat": 4,
 "nbformat_minor": 2
}
