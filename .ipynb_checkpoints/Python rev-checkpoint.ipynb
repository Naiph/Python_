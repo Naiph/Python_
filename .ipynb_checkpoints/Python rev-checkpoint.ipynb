{
 "cells": [
  {
   "cell_type": "code",
   "execution_count": 1,
   "metadata": {},
   "outputs": [],
   "source": [
    "### Python for algo trading"
   ]
  },
  {
   "cell_type": "code",
   "execution_count": 2,
   "metadata": {},
   "outputs": [],
   "source": [
    "def twice(num):\n",
    "    return num*2"
   ]
  },
  {
   "cell_type": "code",
   "execution_count": 4,
   "metadata": {},
   "outputs": [
    {
     "data": {
      "text/plain": [
       "20"
      ]
     },
     "execution_count": 4,
     "metadata": {},
     "output_type": "execute_result"
    }
   ],
   "source": [
    "twice(10)"
   ]
  },
  {
   "cell_type": "code",
   "execution_count": 5,
   "metadata": {},
   "outputs": [
    {
     "data": {
      "text/plain": [
       "<function __main__.<lambda>(num)>"
      ]
     },
     "execution_count": 5,
     "metadata": {},
     "output_type": "execute_result"
    }
   ],
   "source": [
    "## twice() is equvivalent to: \n",
    "lambda num: num*2"
   ]
  },
  {
   "cell_type": "code",
   "execution_count": 7,
   "metadata": {},
   "outputs": [],
   "source": [
    "seq = [1,2,3,4,5]"
   ]
  },
  {
   "cell_type": "code",
   "execution_count": 9,
   "metadata": {},
   "outputs": [
    {
     "data": {
      "text/plain": [
       "[2, 4, 6, 8, 10]"
      ]
     },
     "execution_count": 9,
     "metadata": {},
     "output_type": "execute_result"
    }
   ],
   "source": [
    "list(map(twice, seq))"
   ]
  },
  {
   "cell_type": "code",
   "execution_count": 10,
   "metadata": {},
   "outputs": [
    {
     "data": {
      "text/plain": [
       "[2, 4, 6, 8, 10]"
      ]
     },
     "execution_count": 10,
     "metadata": {},
     "output_type": "execute_result"
    }
   ],
   "source": [
    "# This can also be written as:\n",
    "list(map(lambda num: num*2, seq))"
   ]
  },
  {
   "cell_type": "code",
   "execution_count": 14,
   "metadata": {},
   "outputs": [
    {
     "data": {
      "text/plain": [
       "[2, 4]"
      ]
     },
     "execution_count": 14,
     "metadata": {},
     "output_type": "execute_result"
    }
   ],
   "source": [
    "list(filter(lambda num: num%2 == 0, seq))"
   ]
  },
  {
   "cell_type": "code",
   "execution_count": 15,
   "metadata": {},
   "outputs": [],
   "source": [
    "l = [1,2,3,5,3,2,3,4,3,2,1]"
   ]
  },
  {
   "cell_type": "code",
   "execution_count": 20,
   "metadata": {},
   "outputs": [
    {
     "name": "stdout",
     "output_type": "stream",
     "text": [
      "3\n"
     ]
    }
   ],
   "source": [
    "print(l.pop())"
   ]
  },
  {
   "cell_type": "code",
   "execution_count": 21,
   "metadata": {},
   "outputs": [
    {
     "data": {
      "text/plain": [
       "[1, 2, 3, 5, 3, 2]"
      ]
     },
     "execution_count": 21,
     "metadata": {},
     "output_type": "execute_result"
    }
   ],
   "source": [
    "l"
   ]
  },
  {
   "cell_type": "code",
   "execution_count": 1,
   "metadata": {},
   "outputs": [],
   "source": [
    "import numpy as np"
   ]
  },
  {
   "cell_type": "code",
   "execution_count": 2,
   "metadata": {},
   "outputs": [],
   "source": [
    "list1 = [1,2,3]"
   ]
  },
  {
   "cell_type": "code",
   "execution_count": 3,
   "metadata": {},
   "outputs": [
    {
     "data": {
      "text/plain": [
       "array([1, 2, 3])"
      ]
     },
     "execution_count": 3,
     "metadata": {},
     "output_type": "execute_result"
    }
   ],
   "source": [
    "np.array(list1)"
   ]
  },
  {
   "cell_type": "code",
   "execution_count": 7,
   "metadata": {},
   "outputs": [
    {
     "data": {
      "text/plain": [
       "array([10, 12, 14, 16, 18])"
      ]
     },
     "execution_count": 7,
     "metadata": {},
     "output_type": "execute_result"
    }
   ],
   "source": [
    "np.arange(10,20,2)"
   ]
  },
  {
   "cell_type": "code",
   "execution_count": 8,
   "metadata": {},
   "outputs": [
    {
     "data": {
      "text/plain": [
       "array([0., 0., 0.])"
      ]
     },
     "execution_count": 8,
     "metadata": {},
     "output_type": "execute_result"
    }
   ],
   "source": [
    "np.zeros(3)"
   ]
  },
  {
   "cell_type": "code",
   "execution_count": 10,
   "metadata": {},
   "outputs": [
    {
     "data": {
      "text/plain": [
       "array([[0., 0., 0., 0., 0.],\n",
       "       [0., 0., 0., 0., 0.],\n",
       "       [0., 0., 0., 0., 0.],\n",
       "       [0., 0., 0., 0., 0.],\n",
       "       [0., 0., 0., 0., 0.]])"
      ]
     },
     "execution_count": 10,
     "metadata": {},
     "output_type": "execute_result"
    }
   ],
   "source": [
    "np.zeros((5,5))"
   ]
  },
  {
   "cell_type": "code",
   "execution_count": 11,
   "metadata": {},
   "outputs": [
    {
     "data": {
      "text/plain": [
       "array([[[0., 0., 0., 0., 0.],\n",
       "        [0., 0., 0., 0., 0.],\n",
       "        [0., 0., 0., 0., 0.],\n",
       "        [0., 0., 0., 0., 0.],\n",
       "        [0., 0., 0., 0., 0.]],\n",
       "\n",
       "       [[0., 0., 0., 0., 0.],\n",
       "        [0., 0., 0., 0., 0.],\n",
       "        [0., 0., 0., 0., 0.],\n",
       "        [0., 0., 0., 0., 0.],\n",
       "        [0., 0., 0., 0., 0.]],\n",
       "\n",
       "       [[0., 0., 0., 0., 0.],\n",
       "        [0., 0., 0., 0., 0.],\n",
       "        [0., 0., 0., 0., 0.],\n",
       "        [0., 0., 0., 0., 0.],\n",
       "        [0., 0., 0., 0., 0.]],\n",
       "\n",
       "       [[0., 0., 0., 0., 0.],\n",
       "        [0., 0., 0., 0., 0.],\n",
       "        [0., 0., 0., 0., 0.],\n",
       "        [0., 0., 0., 0., 0.],\n",
       "        [0., 0., 0., 0., 0.]],\n",
       "\n",
       "       [[0., 0., 0., 0., 0.],\n",
       "        [0., 0., 0., 0., 0.],\n",
       "        [0., 0., 0., 0., 0.],\n",
       "        [0., 0., 0., 0., 0.],\n",
       "        [0., 0., 0., 0., 0.]]])"
      ]
     },
     "execution_count": 11,
     "metadata": {},
     "output_type": "execute_result"
    }
   ],
   "source": [
    "np.zeros(((5,5,5)))"
   ]
  },
  {
   "cell_type": "code",
   "execution_count": 15,
   "metadata": {},
   "outputs": [
    {
     "data": {
      "text/plain": [
       "array([ 1.        ,  1.31034483,  1.62068966,  1.93103448,  2.24137931,\n",
       "        2.55172414,  2.86206897,  3.17241379,  3.48275862,  3.79310345,\n",
       "        4.10344828,  4.4137931 ,  4.72413793,  5.03448276,  5.34482759,\n",
       "        5.65517241,  5.96551724,  6.27586207,  6.5862069 ,  6.89655172,\n",
       "        7.20689655,  7.51724138,  7.82758621,  8.13793103,  8.44827586,\n",
       "        8.75862069,  9.06896552,  9.37931034,  9.68965517, 10.        ])"
      ]
     },
     "execution_count": 15,
     "metadata": {},
     "output_type": "execute_result"
    }
   ],
   "source": [
    "# linspace is linearly spaced\n",
    "np.linspace(1,10,30)"
   ]
  },
  {
   "cell_type": "code",
   "execution_count": 16,
   "metadata": {},
   "outputs": [
    {
     "data": {
      "text/plain": [
       "array([[1., 0., 0., 0.],\n",
       "       [0., 1., 0., 0.],\n",
       "       [0., 0., 1., 0.],\n",
       "       [0., 0., 0., 1.]])"
      ]
     },
     "execution_count": 16,
     "metadata": {},
     "output_type": "execute_result"
    }
   ],
   "source": [
    "# identity matrix\n",
    "np.eye(4)"
   ]
  },
  {
   "cell_type": "code",
   "execution_count": 22,
   "metadata": {},
   "outputs": [
    {
     "data": {
      "text/plain": [
       "array([[0.75826603, 0.90097831, 0.49774939, 0.88470884, 0.7301246 ],\n",
       "       [0.52001895, 0.15087184, 0.70952426, 0.16666273, 0.0974035 ],\n",
       "       [0.40354063, 0.1660631 , 0.35678265, 0.2998072 , 0.8061718 ],\n",
       "       [0.79285213, 0.67122791, 0.68192221, 0.52278264, 0.53710364],\n",
       "       [0.68070723, 0.34799024, 0.42204828, 0.33388706, 0.47677618]])"
      ]
     },
     "execution_count": 22,
     "metadata": {},
     "output_type": "execute_result"
    }
   ],
   "source": [
    "np.random.rand(5,5)"
   ]
  },
  {
   "cell_type": "code",
   "execution_count": 23,
   "metadata": {},
   "outputs": [
    {
     "data": {
      "text/plain": [
       "array([[-0.03036357, -1.21481458,  1.03710333, -0.29187814,  1.73820295],\n",
       "       [ 1.00009395, -0.32831084, -0.50152397,  0.28175361, -1.42559504],\n",
       "       [-0.05425643,  0.86700428, -0.04256829,  0.68992928,  0.44946473],\n",
       "       [-0.71199083, -1.1575899 , -0.08073277,  0.86379249, -1.43311709],\n",
       "       [ 0.1731004 , -0.76816243,  0.42430567,  0.1419146 ,  1.70712469]])"
      ]
     },
     "execution_count": 23,
     "metadata": {},
     "output_type": "execute_result"
    }
   ],
   "source": [
    "np.random.randn(5,5)"
   ]
  },
  {
   "cell_type": "code",
   "execution_count": 27,
   "metadata": {},
   "outputs": [],
   "source": [
    "ranarr = np.random.randint(1,100,10)"
   ]
  },
  {
   "cell_type": "code",
   "execution_count": 28,
   "metadata": {},
   "outputs": [],
   "source": [
    "arr = np.arange(25)"
   ]
  },
  {
   "cell_type": "code",
   "execution_count": 29,
   "metadata": {},
   "outputs": [
    {
     "data": {
      "text/plain": [
       "array([ 0,  1,  2,  3,  4,  5,  6,  7,  8,  9, 10, 11, 12, 13, 14, 15, 16,\n",
       "       17, 18, 19, 20, 21, 22, 23, 24])"
      ]
     },
     "execution_count": 29,
     "metadata": {},
     "output_type": "execute_result"
    }
   ],
   "source": [
    "arr"
   ]
  },
  {
   "cell_type": "code",
   "execution_count": 30,
   "metadata": {},
   "outputs": [
    {
     "data": {
      "text/plain": [
       "array([[ 0,  1,  2,  3,  4],\n",
       "       [ 5,  6,  7,  8,  9],\n",
       "       [10, 11, 12, 13, 14],\n",
       "       [15, 16, 17, 18, 19],\n",
       "       [20, 21, 22, 23, 24]])"
      ]
     },
     "execution_count": 30,
     "metadata": {},
     "output_type": "execute_result"
    }
   ],
   "source": [
    "arr.reshape(5,5)"
   ]
  },
  {
   "cell_type": "code",
   "execution_count": 32,
   "metadata": {},
   "outputs": [
    {
     "data": {
      "text/plain": [
       "(25,)"
      ]
     },
     "execution_count": 32,
     "metadata": {},
     "output_type": "execute_result"
    }
   ],
   "source": [
    "arr.shape"
   ]
  },
  {
   "cell_type": "code",
   "execution_count": 33,
   "metadata": {},
   "outputs": [
    {
     "data": {
      "text/plain": [
       "(5, 5)"
      ]
     },
     "execution_count": 33,
     "metadata": {},
     "output_type": "execute_result"
    }
   ],
   "source": [
    "arr.reshape(5,5).shape"
   ]
  },
  {
   "cell_type": "code",
   "execution_count": 35,
   "metadata": {},
   "outputs": [
    {
     "data": {
      "text/plain": [
       "dtype('int64')"
      ]
     },
     "execution_count": 35,
     "metadata": {},
     "output_type": "execute_result"
    }
   ],
   "source": [
    "arr.dtype"
   ]
  },
  {
   "cell_type": "code",
   "execution_count": 37,
   "metadata": {},
   "outputs": [
    {
     "data": {
      "text/plain": [
       "98"
      ]
     },
     "execution_count": 37,
     "metadata": {},
     "output_type": "execute_result"
    }
   ],
   "source": [
    "ranarr.max()"
   ]
  },
  {
   "cell_type": "code",
   "execution_count": 38,
   "metadata": {},
   "outputs": [
    {
     "data": {
      "text/plain": [
       "16"
      ]
     },
     "execution_count": 38,
     "metadata": {},
     "output_type": "execute_result"
    }
   ],
   "source": [
    "ranarr.min()"
   ]
  },
  {
   "cell_type": "code",
   "execution_count": 39,
   "metadata": {},
   "outputs": [
    {
     "data": {
      "text/plain": [
       "6"
      ]
     },
     "execution_count": 39,
     "metadata": {},
     "output_type": "execute_result"
    }
   ],
   "source": [
    "ranarr.argmax()"
   ]
  },
  {
   "cell_type": "code",
   "execution_count": 40,
   "metadata": {},
   "outputs": [],
   "source": [
    "ar = np.arange(10)"
   ]
  },
  {
   "cell_type": "code",
   "execution_count": 41,
   "metadata": {},
   "outputs": [
    {
     "data": {
      "text/plain": [
       "array([ 0,  2,  4,  6,  8, 10, 12, 14, 16, 18])"
      ]
     },
     "execution_count": 41,
     "metadata": {},
     "output_type": "execute_result"
    }
   ],
   "source": [
    "ar + ar"
   ]
  },
  {
   "cell_type": "code",
   "execution_count": 43,
   "metadata": {},
   "outputs": [
    {
     "data": {
      "text/plain": [
       "array([ 0,  1,  4,  9, 16, 25, 36, 49, 64, 81])"
      ]
     },
     "execution_count": 43,
     "metadata": {},
     "output_type": "execute_result"
    }
   ],
   "source": [
    "ar *  ar"
   ]
  },
  {
   "cell_type": "code",
   "execution_count": 44,
   "metadata": {},
   "outputs": [
    {
     "data": {
      "text/plain": [
       "array([0, 0, 0, 0, 0, 0, 0, 0, 0, 0])"
      ]
     },
     "execution_count": 44,
     "metadata": {},
     "output_type": "execute_result"
    }
   ],
   "source": [
    "ar - ar"
   ]
  },
  {
   "cell_type": "code",
   "execution_count": 45,
   "metadata": {},
   "outputs": [
    {
     "name": "stderr",
     "output_type": "stream",
     "text": [
      "/home/naiph/anaconda3/lib/python3.7/site-packages/ipykernel_launcher.py:1: RuntimeWarning: invalid value encountered in true_divide\n",
      "  \"\"\"Entry point for launching an IPython kernel.\n"
     ]
    },
    {
     "data": {
      "text/plain": [
       "array([nan,  1.,  1.,  1.,  1.,  1.,  1.,  1.,  1.,  1.])"
      ]
     },
     "execution_count": 45,
     "metadata": {},
     "output_type": "execute_result"
    }
   ],
   "source": [
    "ar/ar"
   ]
  },
  {
   "cell_type": "code",
   "execution_count": 46,
   "metadata": {},
   "outputs": [
    {
     "data": {
      "text/plain": [
       "array([0.        , 1.        , 1.41421356, 1.73205081, 2.        ,\n",
       "       2.23606798, 2.44948974, 2.64575131, 2.82842712, 3.        ])"
      ]
     },
     "execution_count": 46,
     "metadata": {},
     "output_type": "execute_result"
    }
   ],
   "source": [
    "np.sqrt(ar)"
   ]
  },
  {
   "cell_type": "code",
   "execution_count": 47,
   "metadata": {},
   "outputs": [
    {
     "data": {
      "text/plain": [
       "array([1.00000000e+00, 2.71828183e+00, 7.38905610e+00, 2.00855369e+01,\n",
       "       5.45981500e+01, 1.48413159e+02, 4.03428793e+02, 1.09663316e+03,\n",
       "       2.98095799e+03, 8.10308393e+03])"
      ]
     },
     "execution_count": 47,
     "metadata": {},
     "output_type": "execute_result"
    }
   ],
   "source": [
    "np.exp(ar)"
   ]
  },
  {
   "cell_type": "code",
   "execution_count": 48,
   "metadata": {},
   "outputs": [
    {
     "name": "stderr",
     "output_type": "stream",
     "text": [
      "/home/naiph/anaconda3/lib/python3.7/site-packages/ipykernel_launcher.py:1: RuntimeWarning: divide by zero encountered in log\n",
      "  \"\"\"Entry point for launching an IPython kernel.\n"
     ]
    },
    {
     "data": {
      "text/plain": [
       "array([      -inf, 0.        , 0.69314718, 1.09861229, 1.38629436,\n",
       "       1.60943791, 1.79175947, 1.94591015, 2.07944154, 2.19722458])"
      ]
     },
     "execution_count": 48,
     "metadata": {},
     "output_type": "execute_result"
    }
   ],
   "source": [
    "np.log(ar)"
   ]
  },
  {
   "cell_type": "code",
   "execution_count": 49,
   "metadata": {},
   "outputs": [
    {
     "data": {
      "text/plain": [
       "array([0, 1, 2, 3, 4, 5, 6, 7, 8, 9])"
      ]
     },
     "execution_count": 49,
     "metadata": {},
     "output_type": "execute_result"
    }
   ],
   "source": [
    "ar"
   ]
  },
  {
   "cell_type": "code",
   "execution_count": 50,
   "metadata": {},
   "outputs": [
    {
     "data": {
      "text/plain": [
       "array([1, 2, 3, 4])"
      ]
     },
     "execution_count": 50,
     "metadata": {},
     "output_type": "execute_result"
    }
   ],
   "source": [
    "ar[1:5]"
   ]
  },
  {
   "cell_type": "code",
   "execution_count": 51,
   "metadata": {},
   "outputs": [],
   "source": [
    "ar[1:5] = 10"
   ]
  },
  {
   "cell_type": "code",
   "execution_count": 52,
   "metadata": {},
   "outputs": [
    {
     "data": {
      "text/plain": [
       "array([ 0, 10, 10, 10, 10,  5,  6,  7,  8,  9])"
      ]
     },
     "execution_count": 52,
     "metadata": {},
     "output_type": "execute_result"
    }
   ],
   "source": [
    "ar"
   ]
  },
  {
   "cell_type": "code",
   "execution_count": 54,
   "metadata": {},
   "outputs": [],
   "source": [
    "ar_copy = ar.copy()"
   ]
  },
  {
   "cell_type": "code",
   "execution_count": 55,
   "metadata": {},
   "outputs": [],
   "source": [
    "ar_copy[0:8] = 69"
   ]
  },
  {
   "cell_type": "code",
   "execution_count": 57,
   "metadata": {},
   "outputs": [
    {
     "data": {
      "text/plain": [
       "array([69, 69, 69, 69, 69, 69, 69, 69,  8,  9])"
      ]
     },
     "execution_count": 57,
     "metadata": {},
     "output_type": "execute_result"
    }
   ],
   "source": [
    "ar_copy"
   ]
  },
  {
   "cell_type": "code",
   "execution_count": 69,
   "metadata": {},
   "outputs": [],
   "source": [
    "ar2 = np.arange(5,50,5)"
   ]
  },
  {
   "cell_type": "code",
   "execution_count": 73,
   "metadata": {},
   "outputs": [],
   "source": [
    "ar2 = ar2.reshape(3,3)"
   ]
  },
  {
   "cell_type": "code",
   "execution_count": 74,
   "metadata": {},
   "outputs": [
    {
     "data": {
      "text/plain": [
       "array([35, 40, 45])"
      ]
     },
     "execution_count": 74,
     "metadata": {},
     "output_type": "execute_result"
    }
   ],
   "source": [
    "ar2[2]"
   ]
  },
  {
   "cell_type": "code",
   "execution_count": 75,
   "metadata": {},
   "outputs": [
    {
     "data": {
      "text/plain": [
       "45"
      ]
     },
     "execution_count": 75,
     "metadata": {},
     "output_type": "execute_result"
    }
   ],
   "source": [
    "ar2[2][2]"
   ]
  },
  {
   "cell_type": "code",
   "execution_count": 77,
   "metadata": {},
   "outputs": [],
   "source": [
    "ar1 = np.arange(10)"
   ]
  },
  {
   "cell_type": "code",
   "execution_count": 78,
   "metadata": {},
   "outputs": [
    {
     "data": {
      "text/plain": [
       "array([False, False, False, False, False,  True,  True,  True,  True,\n",
       "        True])"
      ]
     },
     "execution_count": 78,
     "metadata": {},
     "output_type": "execute_result"
    }
   ],
   "source": [
    "ar1 > 4"
   ]
  },
  {
   "cell_type": "code",
   "execution_count": 79,
   "metadata": {},
   "outputs": [],
   "source": [
    "boolar = ar1 > 4 "
   ]
  },
  {
   "cell_type": "code",
   "execution_count": 80,
   "metadata": {},
   "outputs": [
    {
     "data": {
      "text/plain": [
       "array([0, 1, 2, 3, 4, 5, 6, 7, 8, 9])"
      ]
     },
     "execution_count": 80,
     "metadata": {},
     "output_type": "execute_result"
    }
   ],
   "source": [
    "ar1"
   ]
  },
  {
   "cell_type": "code",
   "execution_count": 81,
   "metadata": {},
   "outputs": [
    {
     "data": {
      "text/plain": [
       "array([5, 6, 7, 8, 9])"
      ]
     },
     "execution_count": 81,
     "metadata": {},
     "output_type": "execute_result"
    }
   ],
   "source": [
    "ar1[boolar]"
   ]
  },
  {
   "cell_type": "code",
   "execution_count": 82,
   "metadata": {},
   "outputs": [
    {
     "data": {
      "text/plain": [
       "array([5, 6, 7, 8, 9])"
      ]
     },
     "execution_count": 82,
     "metadata": {},
     "output_type": "execute_result"
    }
   ],
   "source": [
    "# this is same as\n",
    "ar1[ar1>4]"
   ]
  },
  {
   "cell_type": "code",
   "execution_count": 83,
   "metadata": {},
   "outputs": [],
   "source": [
    "import pandas as pd"
   ]
  },
  {
   "cell_type": "code",
   "execution_count": 84,
   "metadata": {},
   "outputs": [],
   "source": [
    "labels = ['a','b','c']\n",
    "my_list = [10,20,30]\n",
    "arr = np.array([10,20,30])\n",
    "d = {'a':10,'b':20,'c':30}\n"
   ]
  },
  {
   "cell_type": "code",
   "execution_count": 86,
   "metadata": {},
   "outputs": [
    {
     "data": {
      "text/plain": [
       "0    10\n",
       "1    20\n",
       "2    30\n",
       "dtype: int64"
      ]
     },
     "execution_count": 86,
     "metadata": {},
     "output_type": "execute_result"
    }
   ],
   "source": [
    "pd.Series(my_list)"
   ]
  },
  {
   "cell_type": "code",
   "execution_count": 87,
   "metadata": {},
   "outputs": [
    {
     "data": {
      "text/plain": [
       "a    10\n",
       "b    20\n",
       "c    30\n",
       "dtype: int64"
      ]
     },
     "execution_count": 87,
     "metadata": {},
     "output_type": "execute_result"
    }
   ],
   "source": [
    "pd.Series(arr,labels)"
   ]
  },
  {
   "cell_type": "code",
   "execution_count": 88,
   "metadata": {},
   "outputs": [
    {
     "data": {
      "text/plain": [
       "a    10\n",
       "b    20\n",
       "c    30\n",
       "dtype: int64"
      ]
     },
     "execution_count": 88,
     "metadata": {},
     "output_type": "execute_result"
    }
   ],
   "source": [
    " pd.Series(d)"
   ]
  },
  {
   "cell_type": "code",
   "execution_count": 89,
   "metadata": {},
   "outputs": [
    {
     "data": {
      "text/plain": [
       "0    a\n",
       "1    b\n",
       "2    c\n",
       "dtype: object"
      ]
     },
     "execution_count": 89,
     "metadata": {},
     "output_type": "execute_result"
    }
   ],
   "source": [
    "pd.Series(data = labels)"
   ]
  },
  {
   "cell_type": "code",
   "execution_count": 90,
   "metadata": {},
   "outputs": [
    {
     "data": {
      "text/plain": [
       "0      <built-in function sum>\n",
       "1    <built-in function print>\n",
       "2      <built-in function len>\n",
       "dtype: object"
      ]
     },
     "execution_count": 90,
     "metadata": {},
     "output_type": "execute_result"
    }
   ],
   "source": [
    "pd.Series([sum,print,len])"
   ]
  },
  {
   "cell_type": "code",
   "execution_count": 92,
   "metadata": {},
   "outputs": [],
   "source": [
    "ser1 = pd.Series([1,2,3,4],index = ['usa','india','italy', 'china'])"
   ]
  },
  {
   "cell_type": "code",
   "execution_count": 93,
   "metadata": {},
   "outputs": [
    {
     "data": {
      "text/plain": [
       "usa      1\n",
       "india    2\n",
       "italy    3\n",
       "china    4\n",
       "dtype: int64"
      ]
     },
     "execution_count": 93,
     "metadata": {},
     "output_type": "execute_result"
    }
   ],
   "source": [
    " ser1"
   ]
  },
  {
   "cell_type": "code",
   "execution_count": 94,
   "metadata": {},
   "outputs": [
    {
     "data": {
      "text/plain": [
       "1"
      ]
     },
     "execution_count": 94,
     "metadata": {},
     "output_type": "execute_result"
    }
   ],
   "source": [
    "ser1['usa']"
   ]
  },
  {
   "cell_type": "code",
   "execution_count": 97,
   "metadata": {},
   "outputs": [],
   "source": [
    "ser2 = pd.Series([1,2,3,4],index = ['usa','italy1','india1','china'])"
   ]
  },
  {
   "cell_type": "code",
   "execution_count": 98,
   "metadata": {},
   "outputs": [
    {
     "data": {
      "text/plain": [
       "china     8.0\n",
       "india     NaN\n",
       "india1    NaN\n",
       "italy     NaN\n",
       "italy1    NaN\n",
       "usa       2.0\n",
       "dtype: float64"
      ]
     },
     "execution_count": 98,
     "metadata": {},
     "output_type": "execute_result"
    }
   ],
   "source": [
    "ser1 + ser2"
   ]
  },
  {
   "cell_type": "code",
   "execution_count": 99,
   "metadata": {},
   "outputs": [],
   "source": [
    "from numpy.random import randn"
   ]
  },
  {
   "cell_type": "code",
   "execution_count": 100,
   "metadata": {},
   "outputs": [],
   "source": [
    "np.random.seed(101)"
   ]
  },
  {
   "cell_type": "code",
   "execution_count": 101,
   "metadata": {},
   "outputs": [],
   "source": [
    "df = pd.DataFrame(randn(5,4), ['A', 'B', 'C', 'D', 'E'], ['W', 'X', 'Y', 'Z'])"
   ]
  },
  {
   "cell_type": "code",
   "execution_count": 102,
   "metadata": {},
   "outputs": [
    {
     "data": {
      "text/html": [
       "<div>\n",
       "<style scoped>\n",
       "    .dataframe tbody tr th:only-of-type {\n",
       "        vertical-align: middle;\n",
       "    }\n",
       "\n",
       "    .dataframe tbody tr th {\n",
       "        vertical-align: top;\n",
       "    }\n",
       "\n",
       "    .dataframe thead th {\n",
       "        text-align: right;\n",
       "    }\n",
       "</style>\n",
       "<table border=\"1\" class=\"dataframe\">\n",
       "  <thead>\n",
       "    <tr style=\"text-align: right;\">\n",
       "      <th></th>\n",
       "      <th>W</th>\n",
       "      <th>X</th>\n",
       "      <th>Y</th>\n",
       "      <th>Z</th>\n",
       "    </tr>\n",
       "  </thead>\n",
       "  <tbody>\n",
       "    <tr>\n",
       "      <th>A</th>\n",
       "      <td>2.706850</td>\n",
       "      <td>0.628133</td>\n",
       "      <td>0.907969</td>\n",
       "      <td>0.503826</td>\n",
       "    </tr>\n",
       "    <tr>\n",
       "      <th>B</th>\n",
       "      <td>0.651118</td>\n",
       "      <td>-0.319318</td>\n",
       "      <td>-0.848077</td>\n",
       "      <td>0.605965</td>\n",
       "    </tr>\n",
       "    <tr>\n",
       "      <th>C</th>\n",
       "      <td>-2.018168</td>\n",
       "      <td>0.740122</td>\n",
       "      <td>0.528813</td>\n",
       "      <td>-0.589001</td>\n",
       "    </tr>\n",
       "    <tr>\n",
       "      <th>D</th>\n",
       "      <td>0.188695</td>\n",
       "      <td>-0.758872</td>\n",
       "      <td>-0.933237</td>\n",
       "      <td>0.955057</td>\n",
       "    </tr>\n",
       "    <tr>\n",
       "      <th>E</th>\n",
       "      <td>0.190794</td>\n",
       "      <td>1.978757</td>\n",
       "      <td>2.605967</td>\n",
       "      <td>0.683509</td>\n",
       "    </tr>\n",
       "  </tbody>\n",
       "</table>\n",
       "</div>"
      ],
      "text/plain": [
       "          W         X         Y         Z\n",
       "A  2.706850  0.628133  0.907969  0.503826\n",
       "B  0.651118 -0.319318 -0.848077  0.605965\n",
       "C -2.018168  0.740122  0.528813 -0.589001\n",
       "D  0.188695 -0.758872 -0.933237  0.955057\n",
       "E  0.190794  1.978757  2.605967  0.683509"
      ]
     },
     "execution_count": 102,
     "metadata": {},
     "output_type": "execute_result"
    }
   ],
   "source": [
    "df"
   ]
  },
  {
   "cell_type": "code",
   "execution_count": 103,
   "metadata": {},
   "outputs": [
    {
     "data": {
      "text/plain": [
       "A    2.706850\n",
       "B    0.651118\n",
       "C   -2.018168\n",
       "D    0.188695\n",
       "E    0.190794\n",
       "Name: W, dtype: float64"
      ]
     },
     "execution_count": 103,
     "metadata": {},
     "output_type": "execute_result"
    }
   ],
   "source": [
    "df['W']"
   ]
  },
  {
   "cell_type": "code",
   "execution_count": 104,
   "metadata": {},
   "outputs": [
    {
     "data": {
      "text/plain": [
       "pandas.core.series.Series"
      ]
     },
     "execution_count": 104,
     "metadata": {},
     "output_type": "execute_result"
    }
   ],
   "source": [
    "type(df['W'])"
   ]
  },
  {
   "cell_type": "code",
   "execution_count": 105,
   "metadata": {},
   "outputs": [
    {
     "data": {
      "text/plain": [
       "pandas.core.frame.DataFrame"
      ]
     },
     "execution_count": 105,
     "metadata": {},
     "output_type": "execute_result"
    }
   ],
   "source": [
    "type(df)"
   ]
  },
  {
   "cell_type": "code",
   "execution_count": 107,
   "metadata": {},
   "outputs": [],
   "source": [
    "df['new'] = df['W'] + df['X']"
   ]
  },
  {
   "cell_type": "code",
   "execution_count": 109,
   "metadata": {},
   "outputs": [
    {
     "data": {
      "text/html": [
       "<div>\n",
       "<style scoped>\n",
       "    .dataframe tbody tr th:only-of-type {\n",
       "        vertical-align: middle;\n",
       "    }\n",
       "\n",
       "    .dataframe tbody tr th {\n",
       "        vertical-align: top;\n",
       "    }\n",
       "\n",
       "    .dataframe thead th {\n",
       "        text-align: right;\n",
       "    }\n",
       "</style>\n",
       "<table border=\"1\" class=\"dataframe\">\n",
       "  <thead>\n",
       "    <tr style=\"text-align: right;\">\n",
       "      <th></th>\n",
       "      <th>W</th>\n",
       "      <th>X</th>\n",
       "      <th>Y</th>\n",
       "      <th>Z</th>\n",
       "      <th>new</th>\n",
       "    </tr>\n",
       "  </thead>\n",
       "  <tbody>\n",
       "    <tr>\n",
       "      <th>A</th>\n",
       "      <td>2.706850</td>\n",
       "      <td>0.628133</td>\n",
       "      <td>0.907969</td>\n",
       "      <td>0.503826</td>\n",
       "      <td>3.334983</td>\n",
       "    </tr>\n",
       "    <tr>\n",
       "      <th>B</th>\n",
       "      <td>0.651118</td>\n",
       "      <td>-0.319318</td>\n",
       "      <td>-0.848077</td>\n",
       "      <td>0.605965</td>\n",
       "      <td>0.331800</td>\n",
       "    </tr>\n",
       "    <tr>\n",
       "      <th>C</th>\n",
       "      <td>-2.018168</td>\n",
       "      <td>0.740122</td>\n",
       "      <td>0.528813</td>\n",
       "      <td>-0.589001</td>\n",
       "      <td>-1.278046</td>\n",
       "    </tr>\n",
       "    <tr>\n",
       "      <th>D</th>\n",
       "      <td>0.188695</td>\n",
       "      <td>-0.758872</td>\n",
       "      <td>-0.933237</td>\n",
       "      <td>0.955057</td>\n",
       "      <td>-0.570177</td>\n",
       "    </tr>\n",
       "    <tr>\n",
       "      <th>E</th>\n",
       "      <td>0.190794</td>\n",
       "      <td>1.978757</td>\n",
       "      <td>2.605967</td>\n",
       "      <td>0.683509</td>\n",
       "      <td>2.169552</td>\n",
       "    </tr>\n",
       "  </tbody>\n",
       "</table>\n",
       "</div>"
      ],
      "text/plain": [
       "          W         X         Y         Z       new\n",
       "A  2.706850  0.628133  0.907969  0.503826  3.334983\n",
       "B  0.651118 -0.319318 -0.848077  0.605965  0.331800\n",
       "C -2.018168  0.740122  0.528813 -0.589001 -1.278046\n",
       "D  0.188695 -0.758872 -0.933237  0.955057 -0.570177\n",
       "E  0.190794  1.978757  2.605967  0.683509  2.169552"
      ]
     },
     "execution_count": 109,
     "metadata": {},
     "output_type": "execute_result"
    }
   ],
   "source": [
    "df"
   ]
  },
  {
   "cell_type": "code",
   "execution_count": 111,
   "metadata": {},
   "outputs": [
    {
     "data": {
      "text/html": [
       "<div>\n",
       "<style scoped>\n",
       "    .dataframe tbody tr th:only-of-type {\n",
       "        vertical-align: middle;\n",
       "    }\n",
       "\n",
       "    .dataframe tbody tr th {\n",
       "        vertical-align: top;\n",
       "    }\n",
       "\n",
       "    .dataframe thead th {\n",
       "        text-align: right;\n",
       "    }\n",
       "</style>\n",
       "<table border=\"1\" class=\"dataframe\">\n",
       "  <thead>\n",
       "    <tr style=\"text-align: right;\">\n",
       "      <th></th>\n",
       "      <th>W</th>\n",
       "      <th>X</th>\n",
       "      <th>Y</th>\n",
       "      <th>Z</th>\n",
       "    </tr>\n",
       "  </thead>\n",
       "  <tbody>\n",
       "    <tr>\n",
       "      <th>A</th>\n",
       "      <td>2.706850</td>\n",
       "      <td>0.628133</td>\n",
       "      <td>0.907969</td>\n",
       "      <td>0.503826</td>\n",
       "    </tr>\n",
       "    <tr>\n",
       "      <th>B</th>\n",
       "      <td>0.651118</td>\n",
       "      <td>-0.319318</td>\n",
       "      <td>-0.848077</td>\n",
       "      <td>0.605965</td>\n",
       "    </tr>\n",
       "    <tr>\n",
       "      <th>C</th>\n",
       "      <td>-2.018168</td>\n",
       "      <td>0.740122</td>\n",
       "      <td>0.528813</td>\n",
       "      <td>-0.589001</td>\n",
       "    </tr>\n",
       "    <tr>\n",
       "      <th>D</th>\n",
       "      <td>0.188695</td>\n",
       "      <td>-0.758872</td>\n",
       "      <td>-0.933237</td>\n",
       "      <td>0.955057</td>\n",
       "    </tr>\n",
       "    <tr>\n",
       "      <th>E</th>\n",
       "      <td>0.190794</td>\n",
       "      <td>1.978757</td>\n",
       "      <td>2.605967</td>\n",
       "      <td>0.683509</td>\n",
       "    </tr>\n",
       "  </tbody>\n",
       "</table>\n",
       "</div>"
      ],
      "text/plain": [
       "          W         X         Y         Z\n",
       "A  2.706850  0.628133  0.907969  0.503826\n",
       "B  0.651118 -0.319318 -0.848077  0.605965\n",
       "C -2.018168  0.740122  0.528813 -0.589001\n",
       "D  0.188695 -0.758872 -0.933237  0.955057\n",
       "E  0.190794  1.978757  2.605967  0.683509"
      ]
     },
     "execution_count": 111,
     "metadata": {},
     "output_type": "execute_result"
    }
   ],
   "source": [
    "df.drop('new', axis=1)"
   ]
  },
  {
   "cell_type": "code",
   "execution_count": 112,
   "metadata": {},
   "outputs": [
    {
     "data": {
      "text/html": [
       "<div>\n",
       "<style scoped>\n",
       "    .dataframe tbody tr th:only-of-type {\n",
       "        vertical-align: middle;\n",
       "    }\n",
       "\n",
       "    .dataframe tbody tr th {\n",
       "        vertical-align: top;\n",
       "    }\n",
       "\n",
       "    .dataframe thead th {\n",
       "        text-align: right;\n",
       "    }\n",
       "</style>\n",
       "<table border=\"1\" class=\"dataframe\">\n",
       "  <thead>\n",
       "    <tr style=\"text-align: right;\">\n",
       "      <th></th>\n",
       "      <th>W</th>\n",
       "      <th>X</th>\n",
       "      <th>Y</th>\n",
       "      <th>Z</th>\n",
       "      <th>new</th>\n",
       "    </tr>\n",
       "  </thead>\n",
       "  <tbody>\n",
       "    <tr>\n",
       "      <th>A</th>\n",
       "      <td>2.706850</td>\n",
       "      <td>0.628133</td>\n",
       "      <td>0.907969</td>\n",
       "      <td>0.503826</td>\n",
       "      <td>3.334983</td>\n",
       "    </tr>\n",
       "    <tr>\n",
       "      <th>B</th>\n",
       "      <td>0.651118</td>\n",
       "      <td>-0.319318</td>\n",
       "      <td>-0.848077</td>\n",
       "      <td>0.605965</td>\n",
       "      <td>0.331800</td>\n",
       "    </tr>\n",
       "    <tr>\n",
       "      <th>C</th>\n",
       "      <td>-2.018168</td>\n",
       "      <td>0.740122</td>\n",
       "      <td>0.528813</td>\n",
       "      <td>-0.589001</td>\n",
       "      <td>-1.278046</td>\n",
       "    </tr>\n",
       "    <tr>\n",
       "      <th>D</th>\n",
       "      <td>0.188695</td>\n",
       "      <td>-0.758872</td>\n",
       "      <td>-0.933237</td>\n",
       "      <td>0.955057</td>\n",
       "      <td>-0.570177</td>\n",
       "    </tr>\n",
       "    <tr>\n",
       "      <th>E</th>\n",
       "      <td>0.190794</td>\n",
       "      <td>1.978757</td>\n",
       "      <td>2.605967</td>\n",
       "      <td>0.683509</td>\n",
       "      <td>2.169552</td>\n",
       "    </tr>\n",
       "  </tbody>\n",
       "</table>\n",
       "</div>"
      ],
      "text/plain": [
       "          W         X         Y         Z       new\n",
       "A  2.706850  0.628133  0.907969  0.503826  3.334983\n",
       "B  0.651118 -0.319318 -0.848077  0.605965  0.331800\n",
       "C -2.018168  0.740122  0.528813 -0.589001 -1.278046\n",
       "D  0.188695 -0.758872 -0.933237  0.955057 -0.570177\n",
       "E  0.190794  1.978757  2.605967  0.683509  2.169552"
      ]
     },
     "execution_count": 112,
     "metadata": {},
     "output_type": "execute_result"
    }
   ],
   "source": [
    "df"
   ]
  },
  {
   "cell_type": "code",
   "execution_count": 113,
   "metadata": {},
   "outputs": [],
   "source": [
    "df.drop('new',axis = 1,inplace = True)"
   ]
  },
  {
   "cell_type": "code",
   "execution_count": 114,
   "metadata": {},
   "outputs": [
    {
     "data": {
      "text/html": [
       "<div>\n",
       "<style scoped>\n",
       "    .dataframe tbody tr th:only-of-type {\n",
       "        vertical-align: middle;\n",
       "    }\n",
       "\n",
       "    .dataframe tbody tr th {\n",
       "        vertical-align: top;\n",
       "    }\n",
       "\n",
       "    .dataframe thead th {\n",
       "        text-align: right;\n",
       "    }\n",
       "</style>\n",
       "<table border=\"1\" class=\"dataframe\">\n",
       "  <thead>\n",
       "    <tr style=\"text-align: right;\">\n",
       "      <th></th>\n",
       "      <th>W</th>\n",
       "      <th>X</th>\n",
       "      <th>Y</th>\n",
       "      <th>Z</th>\n",
       "    </tr>\n",
       "  </thead>\n",
       "  <tbody>\n",
       "    <tr>\n",
       "      <th>A</th>\n",
       "      <td>2.706850</td>\n",
       "      <td>0.628133</td>\n",
       "      <td>0.907969</td>\n",
       "      <td>0.503826</td>\n",
       "    </tr>\n",
       "    <tr>\n",
       "      <th>B</th>\n",
       "      <td>0.651118</td>\n",
       "      <td>-0.319318</td>\n",
       "      <td>-0.848077</td>\n",
       "      <td>0.605965</td>\n",
       "    </tr>\n",
       "    <tr>\n",
       "      <th>C</th>\n",
       "      <td>-2.018168</td>\n",
       "      <td>0.740122</td>\n",
       "      <td>0.528813</td>\n",
       "      <td>-0.589001</td>\n",
       "    </tr>\n",
       "    <tr>\n",
       "      <th>D</th>\n",
       "      <td>0.188695</td>\n",
       "      <td>-0.758872</td>\n",
       "      <td>-0.933237</td>\n",
       "      <td>0.955057</td>\n",
       "    </tr>\n",
       "    <tr>\n",
       "      <th>E</th>\n",
       "      <td>0.190794</td>\n",
       "      <td>1.978757</td>\n",
       "      <td>2.605967</td>\n",
       "      <td>0.683509</td>\n",
       "    </tr>\n",
       "  </tbody>\n",
       "</table>\n",
       "</div>"
      ],
      "text/plain": [
       "          W         X         Y         Z\n",
       "A  2.706850  0.628133  0.907969  0.503826\n",
       "B  0.651118 -0.319318 -0.848077  0.605965\n",
       "C -2.018168  0.740122  0.528813 -0.589001\n",
       "D  0.188695 -0.758872 -0.933237  0.955057\n",
       "E  0.190794  1.978757  2.605967  0.683509"
      ]
     },
     "execution_count": 114,
     "metadata": {},
     "output_type": "execute_result"
    }
   ],
   "source": [
    "df"
   ]
  },
  {
   "cell_type": "code",
   "execution_count": 115,
   "metadata": {},
   "outputs": [
    {
     "data": {
      "text/html": [
       "<div>\n",
       "<style scoped>\n",
       "    .dataframe tbody tr th:only-of-type {\n",
       "        vertical-align: middle;\n",
       "    }\n",
       "\n",
       "    .dataframe tbody tr th {\n",
       "        vertical-align: top;\n",
       "    }\n",
       "\n",
       "    .dataframe thead th {\n",
       "        text-align: right;\n",
       "    }\n",
       "</style>\n",
       "<table border=\"1\" class=\"dataframe\">\n",
       "  <thead>\n",
       "    <tr style=\"text-align: right;\">\n",
       "      <th></th>\n",
       "      <th>W</th>\n",
       "      <th>X</th>\n",
       "      <th>Y</th>\n",
       "      <th>Z</th>\n",
       "    </tr>\n",
       "  </thead>\n",
       "  <tbody>\n",
       "    <tr>\n",
       "      <th>A</th>\n",
       "      <td>2.706850</td>\n",
       "      <td>0.628133</td>\n",
       "      <td>0.907969</td>\n",
       "      <td>0.503826</td>\n",
       "    </tr>\n",
       "    <tr>\n",
       "      <th>B</th>\n",
       "      <td>0.651118</td>\n",
       "      <td>-0.319318</td>\n",
       "      <td>-0.848077</td>\n",
       "      <td>0.605965</td>\n",
       "    </tr>\n",
       "    <tr>\n",
       "      <th>C</th>\n",
       "      <td>-2.018168</td>\n",
       "      <td>0.740122</td>\n",
       "      <td>0.528813</td>\n",
       "      <td>-0.589001</td>\n",
       "    </tr>\n",
       "    <tr>\n",
       "      <th>D</th>\n",
       "      <td>0.188695</td>\n",
       "      <td>-0.758872</td>\n",
       "      <td>-0.933237</td>\n",
       "      <td>0.955057</td>\n",
       "    </tr>\n",
       "  </tbody>\n",
       "</table>\n",
       "</div>"
      ],
      "text/plain": [
       "          W         X         Y         Z\n",
       "A  2.706850  0.628133  0.907969  0.503826\n",
       "B  0.651118 -0.319318 -0.848077  0.605965\n",
       "C -2.018168  0.740122  0.528813 -0.589001\n",
       "D  0.188695 -0.758872 -0.933237  0.955057"
      ]
     },
     "execution_count": 115,
     "metadata": {},
     "output_type": "execute_result"
    }
   ],
   "source": [
    "df.drop('E',axis=0)"
   ]
  },
  {
   "cell_type": "code",
   "execution_count": 117,
   "metadata": {},
   "outputs": [
    {
     "data": {
      "text/html": [
       "<div>\n",
       "<style scoped>\n",
       "    .dataframe tbody tr th:only-of-type {\n",
       "        vertical-align: middle;\n",
       "    }\n",
       "\n",
       "    .dataframe tbody tr th {\n",
       "        vertical-align: top;\n",
       "    }\n",
       "\n",
       "    .dataframe thead th {\n",
       "        text-align: right;\n",
       "    }\n",
       "</style>\n",
       "<table border=\"1\" class=\"dataframe\">\n",
       "  <thead>\n",
       "    <tr style=\"text-align: right;\">\n",
       "      <th></th>\n",
       "      <th>W</th>\n",
       "      <th>X</th>\n",
       "      <th>Y</th>\n",
       "      <th>Z</th>\n",
       "    </tr>\n",
       "  </thead>\n",
       "  <tbody>\n",
       "    <tr>\n",
       "      <th>A</th>\n",
       "      <td>2.706850</td>\n",
       "      <td>0.628133</td>\n",
       "      <td>0.907969</td>\n",
       "      <td>0.503826</td>\n",
       "    </tr>\n",
       "    <tr>\n",
       "      <th>B</th>\n",
       "      <td>0.651118</td>\n",
       "      <td>-0.319318</td>\n",
       "      <td>-0.848077</td>\n",
       "      <td>0.605965</td>\n",
       "    </tr>\n",
       "    <tr>\n",
       "      <th>C</th>\n",
       "      <td>-2.018168</td>\n",
       "      <td>0.740122</td>\n",
       "      <td>0.528813</td>\n",
       "      <td>-0.589001</td>\n",
       "    </tr>\n",
       "    <tr>\n",
       "      <th>D</th>\n",
       "      <td>0.188695</td>\n",
       "      <td>-0.758872</td>\n",
       "      <td>-0.933237</td>\n",
       "      <td>0.955057</td>\n",
       "    </tr>\n",
       "    <tr>\n",
       "      <th>E</th>\n",
       "      <td>0.190794</td>\n",
       "      <td>1.978757</td>\n",
       "      <td>2.605967</td>\n",
       "      <td>0.683509</td>\n",
       "    </tr>\n",
       "  </tbody>\n",
       "</table>\n",
       "</div>"
      ],
      "text/plain": [
       "          W         X         Y         Z\n",
       "A  2.706850  0.628133  0.907969  0.503826\n",
       "B  0.651118 -0.319318 -0.848077  0.605965\n",
       "C -2.018168  0.740122  0.528813 -0.589001\n",
       "D  0.188695 -0.758872 -0.933237  0.955057\n",
       "E  0.190794  1.978757  2.605967  0.683509"
      ]
     },
     "execution_count": 117,
     "metadata": {},
     "output_type": "execute_result"
    }
   ],
   "source": [
    "df"
   ]
  },
  {
   "cell_type": "code",
   "execution_count": 121,
   "metadata": {},
   "outputs": [
    {
     "data": {
      "text/plain": [
       "(5, 4)"
      ]
     },
     "execution_count": 121,
     "metadata": {},
     "output_type": "execute_result"
    }
   ],
   "source": [
    "df.shape"
   ]
  },
  {
   "cell_type": "code",
   "execution_count": 122,
   "metadata": {},
   "outputs": [
    {
     "data": {
      "text/plain": [
       "W    2.706850\n",
       "X    0.628133\n",
       "Y    0.907969\n",
       "Z    0.503826\n",
       "Name: A, dtype: float64"
      ]
     },
     "execution_count": 122,
     "metadata": {},
     "output_type": "execute_result"
    }
   ],
   "source": [
    "# to select a row\n",
    "df.loc['A']"
   ]
  },
  {
   "cell_type": "code",
   "execution_count": 123,
   "metadata": {},
   "outputs": [
    {
     "data": {
      "text/plain": [
       "W    2.706850\n",
       "X    0.628133\n",
       "Y    0.907969\n",
       "Z    0.503826\n",
       "Name: A, dtype: float64"
      ]
     },
     "execution_count": 123,
     "metadata": {},
     "output_type": "execute_result"
    }
   ],
   "source": [
    "# another method to select a row\n",
    "df.iloc[0]"
   ]
  },
  {
   "cell_type": "code",
   "execution_count": 124,
   "metadata": {},
   "outputs": [
    {
     "data": {
      "text/plain": [
       "-0.8480769834036315"
      ]
     },
     "execution_count": 124,
     "metadata": {},
     "output_type": "execute_result"
    }
   ],
   "source": [
    "df.loc['B','Y'] # row column notation just like numpy"
   ]
  },
  {
   "cell_type": "code",
   "execution_count": 125,
   "metadata": {},
   "outputs": [
    {
     "data": {
      "text/plain": [
       "A     True\n",
       "B     True\n",
       "C    False\n",
       "D     True\n",
       "E     True\n",
       "Name: W, dtype: bool"
      ]
     },
     "execution_count": 125,
     "metadata": {},
     "output_type": "execute_result"
    }
   ],
   "source": [
    "df['W']>0"
   ]
  },
  {
   "cell_type": "code",
   "execution_count": 126,
   "metadata": {},
   "outputs": [
    {
     "data": {
      "text/html": [
       "<div>\n",
       "<style scoped>\n",
       "    .dataframe tbody tr th:only-of-type {\n",
       "        vertical-align: middle;\n",
       "    }\n",
       "\n",
       "    .dataframe tbody tr th {\n",
       "        vertical-align: top;\n",
       "    }\n",
       "\n",
       "    .dataframe thead th {\n",
       "        text-align: right;\n",
       "    }\n",
       "</style>\n",
       "<table border=\"1\" class=\"dataframe\">\n",
       "  <thead>\n",
       "    <tr style=\"text-align: right;\">\n",
       "      <th></th>\n",
       "      <th>W</th>\n",
       "      <th>X</th>\n",
       "      <th>Y</th>\n",
       "      <th>Z</th>\n",
       "    </tr>\n",
       "  </thead>\n",
       "  <tbody>\n",
       "    <tr>\n",
       "      <th>A</th>\n",
       "      <td>True</td>\n",
       "      <td>True</td>\n",
       "      <td>True</td>\n",
       "      <td>True</td>\n",
       "    </tr>\n",
       "    <tr>\n",
       "      <th>B</th>\n",
       "      <td>True</td>\n",
       "      <td>False</td>\n",
       "      <td>False</td>\n",
       "      <td>True</td>\n",
       "    </tr>\n",
       "    <tr>\n",
       "      <th>C</th>\n",
       "      <td>False</td>\n",
       "      <td>True</td>\n",
       "      <td>True</td>\n",
       "      <td>False</td>\n",
       "    </tr>\n",
       "    <tr>\n",
       "      <th>D</th>\n",
       "      <td>True</td>\n",
       "      <td>False</td>\n",
       "      <td>False</td>\n",
       "      <td>True</td>\n",
       "    </tr>\n",
       "    <tr>\n",
       "      <th>E</th>\n",
       "      <td>True</td>\n",
       "      <td>True</td>\n",
       "      <td>True</td>\n",
       "      <td>True</td>\n",
       "    </tr>\n",
       "  </tbody>\n",
       "</table>\n",
       "</div>"
      ],
      "text/plain": [
       "       W      X      Y      Z\n",
       "A   True   True   True   True\n",
       "B   True  False  False   True\n",
       "C  False   True   True  False\n",
       "D   True  False  False   True\n",
       "E   True   True   True   True"
      ]
     },
     "execution_count": 126,
     "metadata": {},
     "output_type": "execute_result"
    }
   ],
   "source": [
    "df>0"
   ]
  },
  {
   "cell_type": "code",
   "execution_count": 132,
   "metadata": {},
   "outputs": [
    {
     "data": {
      "text/html": [
       "<div>\n",
       "<style scoped>\n",
       "    .dataframe tbody tr th:only-of-type {\n",
       "        vertical-align: middle;\n",
       "    }\n",
       "\n",
       "    .dataframe tbody tr th {\n",
       "        vertical-align: top;\n",
       "    }\n",
       "\n",
       "    .dataframe thead th {\n",
       "        text-align: right;\n",
       "    }\n",
       "</style>\n",
       "<table border=\"1\" class=\"dataframe\">\n",
       "  <thead>\n",
       "    <tr style=\"text-align: right;\">\n",
       "      <th></th>\n",
       "      <th>W</th>\n",
       "      <th>X</th>\n",
       "      <th>Y</th>\n",
       "      <th>Z</th>\n",
       "    </tr>\n",
       "  </thead>\n",
       "  <tbody>\n",
       "    <tr>\n",
       "      <th>A</th>\n",
       "      <td>2.706850</td>\n",
       "      <td>0.628133</td>\n",
       "      <td>0.907969</td>\n",
       "      <td>0.503826</td>\n",
       "    </tr>\n",
       "    <tr>\n",
       "      <th>B</th>\n",
       "      <td>0.651118</td>\n",
       "      <td>-0.319318</td>\n",
       "      <td>-0.848077</td>\n",
       "      <td>0.605965</td>\n",
       "    </tr>\n",
       "    <tr>\n",
       "      <th>D</th>\n",
       "      <td>0.188695</td>\n",
       "      <td>-0.758872</td>\n",
       "      <td>-0.933237</td>\n",
       "      <td>0.955057</td>\n",
       "    </tr>\n",
       "    <tr>\n",
       "      <th>E</th>\n",
       "      <td>0.190794</td>\n",
       "      <td>1.978757</td>\n",
       "      <td>2.605967</td>\n",
       "      <td>0.683509</td>\n",
       "    </tr>\n",
       "  </tbody>\n",
       "</table>\n",
       "</div>"
      ],
      "text/plain": [
       "          W         X         Y         Z\n",
       "A  2.706850  0.628133  0.907969  0.503826\n",
       "B  0.651118 -0.319318 -0.848077  0.605965\n",
       "D  0.188695 -0.758872 -0.933237  0.955057\n",
       "E  0.190794  1.978757  2.605967  0.683509"
      ]
     },
     "execution_count": 132,
     "metadata": {},
     "output_type": "execute_result"
    }
   ],
   "source": [
    "df[df['W']>0]"
   ]
  },
  {
   "cell_type": "code",
   "execution_count": 136,
   "metadata": {},
   "outputs": [
    {
     "data": {
      "text/html": [
       "<div>\n",
       "<style scoped>\n",
       "    .dataframe tbody tr th:only-of-type {\n",
       "        vertical-align: middle;\n",
       "    }\n",
       "\n",
       "    .dataframe tbody tr th {\n",
       "        vertical-align: top;\n",
       "    }\n",
       "\n",
       "    .dataframe thead th {\n",
       "        text-align: right;\n",
       "    }\n",
       "</style>\n",
       "<table border=\"1\" class=\"dataframe\">\n",
       "  <thead>\n",
       "    <tr style=\"text-align: right;\">\n",
       "      <th></th>\n",
       "      <th>X</th>\n",
       "      <th>Y</th>\n",
       "    </tr>\n",
       "  </thead>\n",
       "  <tbody>\n",
       "    <tr>\n",
       "      <th>A</th>\n",
       "      <td>0.628133</td>\n",
       "      <td>0.907969</td>\n",
       "    </tr>\n",
       "    <tr>\n",
       "      <th>B</th>\n",
       "      <td>-0.319318</td>\n",
       "      <td>-0.848077</td>\n",
       "    </tr>\n",
       "    <tr>\n",
       "      <th>D</th>\n",
       "      <td>-0.758872</td>\n",
       "      <td>-0.933237</td>\n",
       "    </tr>\n",
       "    <tr>\n",
       "      <th>E</th>\n",
       "      <td>1.978757</td>\n",
       "      <td>2.605967</td>\n",
       "    </tr>\n",
       "  </tbody>\n",
       "</table>\n",
       "</div>"
      ],
      "text/plain": [
       "          X         Y\n",
       "A  0.628133  0.907969\n",
       "B -0.319318 -0.848077\n",
       "D -0.758872 -0.933237\n",
       "E  1.978757  2.605967"
      ]
     },
     "execution_count": 136,
     "metadata": {},
     "output_type": "execute_result"
    }
   ],
   "source": [
    "df[df['W']>0][['X','Y']]"
   ]
  },
  {
   "cell_type": "code",
   "execution_count": 140,
   "metadata": {},
   "outputs": [
    {
     "data": {
      "text/html": [
       "<div>\n",
       "<style scoped>\n",
       "    .dataframe tbody tr th:only-of-type {\n",
       "        vertical-align: middle;\n",
       "    }\n",
       "\n",
       "    .dataframe tbody tr th {\n",
       "        vertical-align: top;\n",
       "    }\n",
       "\n",
       "    .dataframe thead th {\n",
       "        text-align: right;\n",
       "    }\n",
       "</style>\n",
       "<table border=\"1\" class=\"dataframe\">\n",
       "  <thead>\n",
       "    <tr style=\"text-align: right;\">\n",
       "      <th></th>\n",
       "      <th>W</th>\n",
       "      <th>X</th>\n",
       "      <th>Y</th>\n",
       "      <th>Z</th>\n",
       "    </tr>\n",
       "  </thead>\n",
       "  <tbody>\n",
       "    <tr>\n",
       "      <th>A</th>\n",
       "      <td>2.706850</td>\n",
       "      <td>0.628133</td>\n",
       "      <td>0.907969</td>\n",
       "      <td>0.503826</td>\n",
       "    </tr>\n",
       "    <tr>\n",
       "      <th>B</th>\n",
       "      <td>0.651118</td>\n",
       "      <td>-0.319318</td>\n",
       "      <td>-0.848077</td>\n",
       "      <td>0.605965</td>\n",
       "    </tr>\n",
       "    <tr>\n",
       "      <th>C</th>\n",
       "      <td>-2.018168</td>\n",
       "      <td>0.740122</td>\n",
       "      <td>0.528813</td>\n",
       "      <td>-0.589001</td>\n",
       "    </tr>\n",
       "    <tr>\n",
       "      <th>D</th>\n",
       "      <td>0.188695</td>\n",
       "      <td>-0.758872</td>\n",
       "      <td>-0.933237</td>\n",
       "      <td>0.955057</td>\n",
       "    </tr>\n",
       "    <tr>\n",
       "      <th>E</th>\n",
       "      <td>0.190794</td>\n",
       "      <td>1.978757</td>\n",
       "      <td>2.605967</td>\n",
       "      <td>0.683509</td>\n",
       "    </tr>\n",
       "  </tbody>\n",
       "</table>\n",
       "</div>"
      ],
      "text/plain": [
       "          W         X         Y         Z\n",
       "A  2.706850  0.628133  0.907969  0.503826\n",
       "B  0.651118 -0.319318 -0.848077  0.605965\n",
       "C -2.018168  0.740122  0.528813 -0.589001\n",
       "D  0.188695 -0.758872 -0.933237  0.955057\n",
       "E  0.190794  1.978757  2.605967  0.683509"
      ]
     },
     "execution_count": 140,
     "metadata": {},
     "output_type": "execute_result"
    }
   ],
   "source": [
    "df[(df['W']>0) | df['Y']>0]"
   ]
  },
  {
   "cell_type": "code",
   "execution_count": 146,
   "metadata": {},
   "outputs": [
    {
     "data": {
      "text/html": [
       "<div>\n",
       "<style scoped>\n",
       "    .dataframe tbody tr th:only-of-type {\n",
       "        vertical-align: middle;\n",
       "    }\n",
       "\n",
       "    .dataframe tbody tr th {\n",
       "        vertical-align: top;\n",
       "    }\n",
       "\n",
       "    .dataframe thead th {\n",
       "        text-align: right;\n",
       "    }\n",
       "</style>\n",
       "<table border=\"1\" class=\"dataframe\">\n",
       "  <thead>\n",
       "    <tr style=\"text-align: right;\">\n",
       "      <th></th>\n",
       "      <th>W</th>\n",
       "      <th>X</th>\n",
       "      <th>Y</th>\n",
       "      <th>Z</th>\n",
       "    </tr>\n",
       "  </thead>\n",
       "  <tbody>\n",
       "    <tr>\n",
       "      <th>A</th>\n",
       "      <td>2.706850</td>\n",
       "      <td>0.628133</td>\n",
       "      <td>0.907969</td>\n",
       "      <td>0.503826</td>\n",
       "    </tr>\n",
       "    <tr>\n",
       "      <th>B</th>\n",
       "      <td>0.651118</td>\n",
       "      <td>-0.319318</td>\n",
       "      <td>-0.848077</td>\n",
       "      <td>0.605965</td>\n",
       "    </tr>\n",
       "    <tr>\n",
       "      <th>C</th>\n",
       "      <td>-2.018168</td>\n",
       "      <td>0.740122</td>\n",
       "      <td>0.528813</td>\n",
       "      <td>-0.589001</td>\n",
       "    </tr>\n",
       "    <tr>\n",
       "      <th>D</th>\n",
       "      <td>0.188695</td>\n",
       "      <td>-0.758872</td>\n",
       "      <td>-0.933237</td>\n",
       "      <td>0.955057</td>\n",
       "    </tr>\n",
       "    <tr>\n",
       "      <th>E</th>\n",
       "      <td>0.190794</td>\n",
       "      <td>1.978757</td>\n",
       "      <td>2.605967</td>\n",
       "      <td>0.683509</td>\n",
       "    </tr>\n",
       "  </tbody>\n",
       "</table>\n",
       "</div>"
      ],
      "text/plain": [
       "          W         X         Y         Z\n",
       "A  2.706850  0.628133  0.907969  0.503826\n",
       "B  0.651118 -0.319318 -0.848077  0.605965\n",
       "C -2.018168  0.740122  0.528813 -0.589001\n",
       "D  0.188695 -0.758872 -0.933237  0.955057\n",
       "E  0.190794  1.978757  2.605967  0.683509"
      ]
     },
     "execution_count": 146,
     "metadata": {},
     "output_type": "execute_result"
    }
   ],
   "source": [
    "df"
   ]
  },
  {
   "cell_type": "code",
   "execution_count": 151,
   "metadata": {},
   "outputs": [],
   "source": [
    "li = ['1', '3', '4', '2', '10']\n",
    "df['li'] = li"
   ]
  },
  {
   "cell_type": "code",
   "execution_count": 156,
   "metadata": {},
   "outputs": [
    {
     "data": {
      "text/html": [
       "<div>\n",
       "<style scoped>\n",
       "    .dataframe tbody tr th:only-of-type {\n",
       "        vertical-align: middle;\n",
       "    }\n",
       "\n",
       "    .dataframe tbody tr th {\n",
       "        vertical-align: top;\n",
       "    }\n",
       "\n",
       "    .dataframe thead th {\n",
       "        text-align: right;\n",
       "    }\n",
       "</style>\n",
       "<table border=\"1\" class=\"dataframe\">\n",
       "  <thead>\n",
       "    <tr style=\"text-align: right;\">\n",
       "      <th></th>\n",
       "      <th>X</th>\n",
       "      <th>Y</th>\n",
       "      <th>Z</th>\n",
       "      <th>li</th>\n",
       "    </tr>\n",
       "    <tr>\n",
       "      <th>W</th>\n",
       "      <th></th>\n",
       "      <th></th>\n",
       "      <th></th>\n",
       "      <th></th>\n",
       "    </tr>\n",
       "  </thead>\n",
       "  <tbody>\n",
       "    <tr>\n",
       "      <th>2.706850</th>\n",
       "      <td>0.628133</td>\n",
       "      <td>0.907969</td>\n",
       "      <td>0.503826</td>\n",
       "      <td>1</td>\n",
       "    </tr>\n",
       "    <tr>\n",
       "      <th>0.651118</th>\n",
       "      <td>-0.319318</td>\n",
       "      <td>-0.848077</td>\n",
       "      <td>0.605965</td>\n",
       "      <td>3</td>\n",
       "    </tr>\n",
       "    <tr>\n",
       "      <th>-2.018168</th>\n",
       "      <td>0.740122</td>\n",
       "      <td>0.528813</td>\n",
       "      <td>-0.589001</td>\n",
       "      <td>4</td>\n",
       "    </tr>\n",
       "    <tr>\n",
       "      <th>0.188695</th>\n",
       "      <td>-0.758872</td>\n",
       "      <td>-0.933237</td>\n",
       "      <td>0.955057</td>\n",
       "      <td>2</td>\n",
       "    </tr>\n",
       "    <tr>\n",
       "      <th>0.190794</th>\n",
       "      <td>1.978757</td>\n",
       "      <td>2.605967</td>\n",
       "      <td>0.683509</td>\n",
       "      <td>10</td>\n",
       "    </tr>\n",
       "  </tbody>\n",
       "</table>\n",
       "</div>"
      ],
      "text/plain": [
       "                  X         Y         Z  li\n",
       "W                                          \n",
       " 2.706850  0.628133  0.907969  0.503826   1\n",
       " 0.651118 -0.319318 -0.848077  0.605965   3\n",
       "-2.018168  0.740122  0.528813 -0.589001   4\n",
       " 0.188695 -0.758872 -0.933237  0.955057   2\n",
       " 0.190794  1.978757  2.605967  0.683509  10"
      ]
     },
     "execution_count": 156,
     "metadata": {},
     "output_type": "execute_result"
    }
   ],
   "source": [
    "df.set_index('W')"
   ]
  },
  {
   "cell_type": "code",
   "execution_count": 159,
   "metadata": {},
   "outputs": [],
   "source": [
    "df.drop('li',axis = 1, inplace=True)"
   ]
  },
  {
   "cell_type": "code",
   "execution_count": 160,
   "metadata": {},
   "outputs": [
    {
     "data": {
      "text/html": [
       "<div>\n",
       "<style scoped>\n",
       "    .dataframe tbody tr th:only-of-type {\n",
       "        vertical-align: middle;\n",
       "    }\n",
       "\n",
       "    .dataframe tbody tr th {\n",
       "        vertical-align: top;\n",
       "    }\n",
       "\n",
       "    .dataframe thead th {\n",
       "        text-align: right;\n",
       "    }\n",
       "</style>\n",
       "<table border=\"1\" class=\"dataframe\">\n",
       "  <thead>\n",
       "    <tr style=\"text-align: right;\">\n",
       "      <th></th>\n",
       "      <th>W</th>\n",
       "      <th>X</th>\n",
       "      <th>Y</th>\n",
       "      <th>Z</th>\n",
       "    </tr>\n",
       "  </thead>\n",
       "  <tbody>\n",
       "    <tr>\n",
       "      <th>A</th>\n",
       "      <td>2.706850</td>\n",
       "      <td>0.628133</td>\n",
       "      <td>0.907969</td>\n",
       "      <td>0.503826</td>\n",
       "    </tr>\n",
       "    <tr>\n",
       "      <th>B</th>\n",
       "      <td>0.651118</td>\n",
       "      <td>-0.319318</td>\n",
       "      <td>-0.848077</td>\n",
       "      <td>0.605965</td>\n",
       "    </tr>\n",
       "    <tr>\n",
       "      <th>C</th>\n",
       "      <td>-2.018168</td>\n",
       "      <td>0.740122</td>\n",
       "      <td>0.528813</td>\n",
       "      <td>-0.589001</td>\n",
       "    </tr>\n",
       "    <tr>\n",
       "      <th>D</th>\n",
       "      <td>0.188695</td>\n",
       "      <td>-0.758872</td>\n",
       "      <td>-0.933237</td>\n",
       "      <td>0.955057</td>\n",
       "    </tr>\n",
       "    <tr>\n",
       "      <th>E</th>\n",
       "      <td>0.190794</td>\n",
       "      <td>1.978757</td>\n",
       "      <td>2.605967</td>\n",
       "      <td>0.683509</td>\n",
       "    </tr>\n",
       "  </tbody>\n",
       "</table>\n",
       "</div>"
      ],
      "text/plain": [
       "          W         X         Y         Z\n",
       "A  2.706850  0.628133  0.907969  0.503826\n",
       "B  0.651118 -0.319318 -0.848077  0.605965\n",
       "C -2.018168  0.740122  0.528813 -0.589001\n",
       "D  0.188695 -0.758872 -0.933237  0.955057\n",
       "E  0.190794  1.978757  2.605967  0.683509"
      ]
     },
     "execution_count": 160,
     "metadata": {},
     "output_type": "execute_result"
    }
   ],
   "source": [
    "df"
   ]
  },
  {
   "cell_type": "code",
   "execution_count": 161,
   "metadata": {},
   "outputs": [],
   "source": [
    "import pandas as pd\n",
    "# Create dataframe\n",
    "data = {'Company':['GOOG','GOOG','MSFT','MSFT','FB','FB'],\n",
    "       'Person':['Sam','Charlie','Amy','Vanessa','Carl','Sarah'],\n",
    "       'Sales':[200,120,340,124,243,350]}"
   ]
  },
  {
   "cell_type": "code",
   "execution_count": 164,
   "metadata": {},
   "outputs": [],
   "source": [
    "df = pd.DataFrame(data)"
   ]
  },
  {
   "cell_type": "code",
   "execution_count": 165,
   "metadata": {},
   "outputs": [
    {
     "data": {
      "text/html": [
       "<div>\n",
       "<style scoped>\n",
       "    .dataframe tbody tr th:only-of-type {\n",
       "        vertical-align: middle;\n",
       "    }\n",
       "\n",
       "    .dataframe tbody tr th {\n",
       "        vertical-align: top;\n",
       "    }\n",
       "\n",
       "    .dataframe thead th {\n",
       "        text-align: right;\n",
       "    }\n",
       "</style>\n",
       "<table border=\"1\" class=\"dataframe\">\n",
       "  <thead>\n",
       "    <tr style=\"text-align: right;\">\n",
       "      <th></th>\n",
       "      <th>Company</th>\n",
       "      <th>Person</th>\n",
       "      <th>Sales</th>\n",
       "    </tr>\n",
       "  </thead>\n",
       "  <tbody>\n",
       "    <tr>\n",
       "      <th>0</th>\n",
       "      <td>GOOG</td>\n",
       "      <td>Sam</td>\n",
       "      <td>200</td>\n",
       "    </tr>\n",
       "    <tr>\n",
       "      <th>1</th>\n",
       "      <td>GOOG</td>\n",
       "      <td>Charlie</td>\n",
       "      <td>120</td>\n",
       "    </tr>\n",
       "    <tr>\n",
       "      <th>2</th>\n",
       "      <td>MSFT</td>\n",
       "      <td>Amy</td>\n",
       "      <td>340</td>\n",
       "    </tr>\n",
       "    <tr>\n",
       "      <th>3</th>\n",
       "      <td>MSFT</td>\n",
       "      <td>Vanessa</td>\n",
       "      <td>124</td>\n",
       "    </tr>\n",
       "    <tr>\n",
       "      <th>4</th>\n",
       "      <td>FB</td>\n",
       "      <td>Carl</td>\n",
       "      <td>243</td>\n",
       "    </tr>\n",
       "    <tr>\n",
       "      <th>5</th>\n",
       "      <td>FB</td>\n",
       "      <td>Sarah</td>\n",
       "      <td>350</td>\n",
       "    </tr>\n",
       "  </tbody>\n",
       "</table>\n",
       "</div>"
      ],
      "text/plain": [
       "  Company   Person  Sales\n",
       "0    GOOG      Sam    200\n",
       "1    GOOG  Charlie    120\n",
       "2    MSFT      Amy    340\n",
       "3    MSFT  Vanessa    124\n",
       "4      FB     Carl    243\n",
       "5      FB    Sarah    350"
      ]
     },
     "execution_count": 165,
     "metadata": {},
     "output_type": "execute_result"
    }
   ],
   "source": [
    "df"
   ]
  },
  {
   "cell_type": "code",
   "execution_count": 173,
   "metadata": {},
   "outputs": [],
   "source": [
    "byCompany = df.groupby('Company')"
   ]
  },
  {
   "cell_type": "code",
   "execution_count": 175,
   "metadata": {},
   "outputs": [
    {
     "data": {
      "text/html": [
       "<div>\n",
       "<style scoped>\n",
       "    .dataframe tbody tr th:only-of-type {\n",
       "        vertical-align: middle;\n",
       "    }\n",
       "\n",
       "    .dataframe tbody tr th {\n",
       "        vertical-align: top;\n",
       "    }\n",
       "\n",
       "    .dataframe thead th {\n",
       "        text-align: right;\n",
       "    }\n",
       "</style>\n",
       "<table border=\"1\" class=\"dataframe\">\n",
       "  <thead>\n",
       "    <tr style=\"text-align: right;\">\n",
       "      <th></th>\n",
       "      <th>Sales</th>\n",
       "    </tr>\n",
       "    <tr>\n",
       "      <th>Company</th>\n",
       "      <th></th>\n",
       "    </tr>\n",
       "  </thead>\n",
       "  <tbody>\n",
       "    <tr>\n",
       "      <th>FB</th>\n",
       "      <td>296.5</td>\n",
       "    </tr>\n",
       "    <tr>\n",
       "      <th>GOOG</th>\n",
       "      <td>160.0</td>\n",
       "    </tr>\n",
       "    <tr>\n",
       "      <th>MSFT</th>\n",
       "      <td>232.0</td>\n",
       "    </tr>\n",
       "  </tbody>\n",
       "</table>\n",
       "</div>"
      ],
      "text/plain": [
       "         Sales\n",
       "Company       \n",
       "FB       296.5\n",
       "GOOG     160.0\n",
       "MSFT     232.0"
      ]
     },
     "execution_count": 175,
     "metadata": {},
     "output_type": "execute_result"
    }
   ],
   "source": [
    "byCompany.mean()"
   ]
  },
  {
   "cell_type": "code",
   "execution_count": 176,
   "metadata": {},
   "outputs": [
    {
     "data": {
      "text/html": [
       "<div>\n",
       "<style scoped>\n",
       "    .dataframe tbody tr th:only-of-type {\n",
       "        vertical-align: middle;\n",
       "    }\n",
       "\n",
       "    .dataframe tbody tr th {\n",
       "        vertical-align: top;\n",
       "    }\n",
       "\n",
       "    .dataframe thead th {\n",
       "        text-align: right;\n",
       "    }\n",
       "</style>\n",
       "<table border=\"1\" class=\"dataframe\">\n",
       "  <thead>\n",
       "    <tr style=\"text-align: right;\">\n",
       "      <th></th>\n",
       "      <th>Sales</th>\n",
       "    </tr>\n",
       "    <tr>\n",
       "      <th>Company</th>\n",
       "      <th></th>\n",
       "    </tr>\n",
       "  </thead>\n",
       "  <tbody>\n",
       "    <tr>\n",
       "      <th>FB</th>\n",
       "      <td>75.660426</td>\n",
       "    </tr>\n",
       "    <tr>\n",
       "      <th>GOOG</th>\n",
       "      <td>56.568542</td>\n",
       "    </tr>\n",
       "    <tr>\n",
       "      <th>MSFT</th>\n",
       "      <td>152.735065</td>\n",
       "    </tr>\n",
       "  </tbody>\n",
       "</table>\n",
       "</div>"
      ],
      "text/plain": [
       "              Sales\n",
       "Company            \n",
       "FB        75.660426\n",
       "GOOG      56.568542\n",
       "MSFT     152.735065"
      ]
     },
     "execution_count": 176,
     "metadata": {},
     "output_type": "execute_result"
    }
   ],
   "source": [
    "byCompany.std()"
   ]
  },
  {
   "cell_type": "code",
   "execution_count": 177,
   "metadata": {},
   "outputs": [
    {
     "data": {
      "text/html": [
       "<div>\n",
       "<style scoped>\n",
       "    .dataframe tbody tr th:only-of-type {\n",
       "        vertical-align: middle;\n",
       "    }\n",
       "\n",
       "    .dataframe tbody tr th {\n",
       "        vertical-align: top;\n",
       "    }\n",
       "\n",
       "    .dataframe thead th {\n",
       "        text-align: right;\n",
       "    }\n",
       "</style>\n",
       "<table border=\"1\" class=\"dataframe\">\n",
       "  <thead>\n",
       "    <tr style=\"text-align: right;\">\n",
       "      <th></th>\n",
       "      <th>Person</th>\n",
       "      <th>Sales</th>\n",
       "    </tr>\n",
       "    <tr>\n",
       "      <th>Company</th>\n",
       "      <th></th>\n",
       "      <th></th>\n",
       "    </tr>\n",
       "  </thead>\n",
       "  <tbody>\n",
       "    <tr>\n",
       "      <th>FB</th>\n",
       "      <td>2</td>\n",
       "      <td>2</td>\n",
       "    </tr>\n",
       "    <tr>\n",
       "      <th>GOOG</th>\n",
       "      <td>2</td>\n",
       "      <td>2</td>\n",
       "    </tr>\n",
       "    <tr>\n",
       "      <th>MSFT</th>\n",
       "      <td>2</td>\n",
       "      <td>2</td>\n",
       "    </tr>\n",
       "  </tbody>\n",
       "</table>\n",
       "</div>"
      ],
      "text/plain": [
       "         Person  Sales\n",
       "Company               \n",
       "FB            2      2\n",
       "GOOG          2      2\n",
       "MSFT          2      2"
      ]
     },
     "execution_count": 177,
     "metadata": {},
     "output_type": "execute_result"
    }
   ],
   "source": [
    "byCompany.count()"
   ]
  },
  {
   "cell_type": "code",
   "execution_count": 178,
   "metadata": {},
   "outputs": [
    {
     "data": {
      "text/html": [
       "<div>\n",
       "<style scoped>\n",
       "    .dataframe tbody tr th:only-of-type {\n",
       "        vertical-align: middle;\n",
       "    }\n",
       "\n",
       "    .dataframe tbody tr th {\n",
       "        vertical-align: top;\n",
       "    }\n",
       "\n",
       "    .dataframe thead th {\n",
       "        text-align: right;\n",
       "    }\n",
       "</style>\n",
       "<table border=\"1\" class=\"dataframe\">\n",
       "  <thead>\n",
       "    <tr style=\"text-align: right;\">\n",
       "      <th></th>\n",
       "      <th>Person</th>\n",
       "      <th>Sales</th>\n",
       "    </tr>\n",
       "    <tr>\n",
       "      <th>Company</th>\n",
       "      <th></th>\n",
       "      <th></th>\n",
       "    </tr>\n",
       "  </thead>\n",
       "  <tbody>\n",
       "    <tr>\n",
       "      <th>FB</th>\n",
       "      <td>Sarah</td>\n",
       "      <td>350</td>\n",
       "    </tr>\n",
       "    <tr>\n",
       "      <th>GOOG</th>\n",
       "      <td>Sam</td>\n",
       "      <td>200</td>\n",
       "    </tr>\n",
       "    <tr>\n",
       "      <th>MSFT</th>\n",
       "      <td>Vanessa</td>\n",
       "      <td>340</td>\n",
       "    </tr>\n",
       "  </tbody>\n",
       "</table>\n",
       "</div>"
      ],
      "text/plain": [
       "          Person  Sales\n",
       "Company                \n",
       "FB         Sarah    350\n",
       "GOOG         Sam    200\n",
       "MSFT     Vanessa    340"
      ]
     },
     "execution_count": 178,
     "metadata": {},
     "output_type": "execute_result"
    }
   ],
   "source": [
    "byCompany.max()"
   ]
  },
  {
   "cell_type": "code",
   "execution_count": 182,
   "metadata": {},
   "outputs": [
    {
     "data": {
      "text/html": [
       "<div>\n",
       "<style scoped>\n",
       "    .dataframe tbody tr th:only-of-type {\n",
       "        vertical-align: middle;\n",
       "    }\n",
       "\n",
       "    .dataframe tbody tr th {\n",
       "        vertical-align: top;\n",
       "    }\n",
       "\n",
       "    .dataframe thead tr th {\n",
       "        text-align: left;\n",
       "    }\n",
       "\n",
       "    .dataframe thead tr:last-of-type th {\n",
       "        text-align: right;\n",
       "    }\n",
       "</style>\n",
       "<table border=\"1\" class=\"dataframe\">\n",
       "  <thead>\n",
       "    <tr>\n",
       "      <th></th>\n",
       "      <th colspan=\"8\" halign=\"left\">Sales</th>\n",
       "    </tr>\n",
       "    <tr>\n",
       "      <th></th>\n",
       "      <th>count</th>\n",
       "      <th>mean</th>\n",
       "      <th>std</th>\n",
       "      <th>min</th>\n",
       "      <th>25%</th>\n",
       "      <th>50%</th>\n",
       "      <th>75%</th>\n",
       "      <th>max</th>\n",
       "    </tr>\n",
       "    <tr>\n",
       "      <th>Company</th>\n",
       "      <th></th>\n",
       "      <th></th>\n",
       "      <th></th>\n",
       "      <th></th>\n",
       "      <th></th>\n",
       "      <th></th>\n",
       "      <th></th>\n",
       "      <th></th>\n",
       "    </tr>\n",
       "  </thead>\n",
       "  <tbody>\n",
       "    <tr>\n",
       "      <th>FB</th>\n",
       "      <td>2.0</td>\n",
       "      <td>296.5</td>\n",
       "      <td>75.660426</td>\n",
       "      <td>243.0</td>\n",
       "      <td>269.75</td>\n",
       "      <td>296.5</td>\n",
       "      <td>323.25</td>\n",
       "      <td>350.0</td>\n",
       "    </tr>\n",
       "    <tr>\n",
       "      <th>GOOG</th>\n",
       "      <td>2.0</td>\n",
       "      <td>160.0</td>\n",
       "      <td>56.568542</td>\n",
       "      <td>120.0</td>\n",
       "      <td>140.00</td>\n",
       "      <td>160.0</td>\n",
       "      <td>180.00</td>\n",
       "      <td>200.0</td>\n",
       "    </tr>\n",
       "    <tr>\n",
       "      <th>MSFT</th>\n",
       "      <td>2.0</td>\n",
       "      <td>232.0</td>\n",
       "      <td>152.735065</td>\n",
       "      <td>124.0</td>\n",
       "      <td>178.00</td>\n",
       "      <td>232.0</td>\n",
       "      <td>286.00</td>\n",
       "      <td>340.0</td>\n",
       "    </tr>\n",
       "  </tbody>\n",
       "</table>\n",
       "</div>"
      ],
      "text/plain": [
       "        Sales                                                        \n",
       "        count   mean         std    min     25%    50%     75%    max\n",
       "Company                                                              \n",
       "FB        2.0  296.5   75.660426  243.0  269.75  296.5  323.25  350.0\n",
       "GOOG      2.0  160.0   56.568542  120.0  140.00  160.0  180.00  200.0\n",
       "MSFT      2.0  232.0  152.735065  124.0  178.00  232.0  286.00  340.0"
      ]
     },
     "execution_count": 182,
     "metadata": {},
     "output_type": "execute_result"
    }
   ],
   "source": [
    "byCompany.describe()"
   ]
  },
  {
   "cell_type": "code",
   "execution_count": 2,
   "metadata": {},
   "outputs": [],
   "source": [
    "import matplotlib.pyplot as plt"
   ]
  },
  {
   "cell_type": "code",
   "execution_count": 3,
   "metadata": {},
   "outputs": [],
   "source": [
    "%matplotlib inline"
   ]
  },
  {
   "cell_type": "code",
   "execution_count": 4,
   "metadata": {},
   "outputs": [],
   "source": [
    "import numpy as np\n",
    "x = np.linspace(0,5,11)\n",
    "y = x ** 2"
   ]
  },
  {
   "cell_type": "code",
   "execution_count": 5,
   "metadata": {},
   "outputs": [
    {
     "data": {
      "text/plain": [
       "Text(0.5,1,'this is a title')"
      ]
     },
     "execution_count": 5,
     "metadata": {},
     "output_type": "execute_result"
    },
    {
     "data": {
      "image/png": "[encoded data removed]",
      "text/plain": [
       "<Figure size 432x288 with 1 Axes>"
      ]
     },
     "metadata": {
      "needs_background": "light"
     },
     "output_type": "display_data"
    }
   ],
   "source": [
    "# functional and oop\n",
    "plt.plot(x,y,'r')\n",
    "plt.xlabel('X')\n",
    "plt.ylabel('Y')\n",
    "plt.title('this is a title')"
   ]
  },
  {
   "cell_type": "code",
   "execution_count": 6,
   "metadata": {},
   "outputs": [
    {
     "data": {
      "text/plain": [
       "[<matplotlib.lines.Line2D at 0x7f3ee035d828>]"
      ]
     },
     "execution_count": 6,
     "metadata": {},
     "output_type": "execute_result"
    },
    {
     "data": {
      "image/png": "[encoded data removed]",
      "text/plain": [
       "<Figure size 432x288 with 2 Axes>"
      ]
     },
     "metadata": {
      "needs_background": "light"
     },
     "output_type": "display_data"
    }
   ],
   "source": [
    "plt.subplot(1,2,1)\n",
    "plt.plot(x,y,'r')\n",
    "\n",
    "plt.subplot(1,2,2)\n",
    "plt.plot(y,x,'b')"
   ]
  },
  {
   "cell_type": "code",
   "execution_count": 3,
   "metadata": {},
   "outputs": [
    {
     "data": {
      "text/plain": [
       "Text(0.5,1,'Title')"
      ]
     },
     "execution_count": 3,
     "metadata": {},
     "output_type": "execute_result"
    },
    {
     "data": {
      "image/png": "[encoded data removed]",
      "text/plain": [
       "<Figure size 1080x432 with 1 Axes>"
      ]
     },
     "metadata": {
      "needs_background": "light"
     },
     "output_type": "display_data"
    }
   ],
   "source": [
    "import matplotlib.pyplot as plt\n",
    "import numpy as np\n",
    "x = np.linspace(0,5,11)\n",
    "y = x ** 2\n",
    "#OO\n",
    "fig = plt.figure(figsize=(15,6))\n",
    "\n",
    "axes = fig.add_axes([0.1,0.1,0.8,0.8]) # left, bottom, height and width\n",
    "\n",
    "axes.plot(x,y)\n",
    "axes.set_xlabel('X')\n",
    "axes.set_ylabel('Y')\n",
    "\n",
    "axes.set_title('Title')"
   ]
  },
  {
   "cell_type": "code",
   "execution_count": 8,
   "metadata": {},
   "outputs": [
    {
     "data": {
      "text/plain": [
       "[<matplotlib.lines.Line2D at 0x7f3ee027ff98>]"
      ]
     },
     "execution_count": 8,
     "metadata": {},
     "output_type": "execute_result"
    },
    {
     "data": {
      "image/png": "[encoded data removed]",
      "text/plain": [
       "<Figure size 432x288 with 2 Axes>"
      ]
     },
     "metadata": {
      "needs_background": "light"
     },
     "output_type": "display_data"
    }
   ],
   "source": [
    "fig = plt.figure()\n",
    "axes1 = fig.add_axes([0.1,0.1,0.8,0.8])\n",
    "axes2 =  fig.add_axes([0.2,0.5,0.3,0.3])\n",
    "\n",
    "axes1.plot(x,y)\n",
    "axes2.plot(y,x,'r')"
   ]
  },
  {
   "cell_type": "code",
   "execution_count": 22,
   "metadata": {},
   "outputs": [
    {
     "data": {
      "image/png": "[encoded data removed]",
      "text/plain": [
       "<Figure size 1080x432 with 2 Axes>"
      ]
     },
     "metadata": {
      "needs_background": "light"
     },
     "output_type": "display_data"
    }
   ],
   "source": [
    "fig,axes = plt.subplots(nrows=1,ncols=2,figsize=(15,6))\n",
    "\n",
    "for c_ax in axes:\n",
    "    c_ax.plot(y,x)"
   ]
  },
  {
   "cell_type": "code",
   "execution_count": 10,
   "metadata": {
    "scrolled": true
   },
   "outputs": [
    {
     "data": {
      "text/plain": [
       "<function matplotlib.pyplot.tight_layout(pad=1.08, h_pad=None, w_pad=None, rect=None)>"
      ]
     },
     "execution_count": 10,
     "metadata": {},
     "output_type": "execute_result"
    },
    {
     "data": {
      "image/png": "[encoded data removed]",
      "text/plain": [
       "<Figure size 432x288 with 2 Axes>"
      ]
     },
     "metadata": {
      "needs_background": "light"
     },
     "output_type": "display_data"
    }
   ],
   "source": [
    "fig,axes = plt.subplots(nrows=1,ncols=2)\n",
    "\n",
    "axes[0].plot(x,y)\n",
    "axes[1].plot(y,x)\n",
    "\n",
    "plt.tight_layout"
   ]
  },
  {
   "cell_type": "code",
   "execution_count": 11,
   "metadata": {},
   "outputs": [
    {
     "data": {
      "text/plain": [
       "[<matplotlib.lines.Line2D at 0x7f3ee0108cf8>]"
      ]
     },
     "execution_count": 11,
     "metadata": {},
     "output_type": "execute_result"
    },
    {
     "data": {
      "image/png": "[encoded data removed]",
      "text/plain": [
       "<Figure size 400x200 with 1 Axes>"
      ]
     },
     "metadata": {
      "needs_background": "light"
     },
     "output_type": "display_data"
    }
   ],
   "source": [
    "fig = plt.figure(figsize= (4,2), dpi = 100) \n",
    "\n",
    "ax = fig.add_axes([0,0,1,1])\n",
    "\n",
    "ax.plot(x,y)"
   ]
  },
  {
   "cell_type": "code",
   "execution_count": 12,
   "metadata": {},
   "outputs": [
    {
     "data": {
      "text/plain": [
       "[<matplotlib.lines.Line2D at 0x7f3ee0032940>]"
      ]
     },
     "execution_count": 12,
     "metadata": {},
     "output_type": "execute_result"
    },
    {
     "data": {
      "image/png": "[encoded data removed]",
      "text/plain": [
       "<Figure size 720x504 with 2 Axes>"
      ]
     },
     "metadata": {
      "needs_background": "light"
     },
     "output_type": "display_data"
    }
   ],
   "source": [
    "fig,axes = plt.subplots(nrows = 2, ncols = 1, figsize=(10,7))\n",
    "\n",
    "axes[0].plot(x,y)\n",
    "\n",
    "axes[1].plot(y,x)"
   ]
  },
  {
   "cell_type": "code",
   "execution_count": 13,
   "metadata": {},
   "outputs": [],
   "source": [
    " fig.savefig('myfig.png')"
   ]
  },
  {
   "cell_type": "code",
   "execution_count": 14,
   "metadata": {},
   "outputs": [
    {
     "data": {
      "text/plain": [
       "<matplotlib.legend.Legend at 0x7f3edfd6b4e0>"
      ]
     },
     "execution_count": 14,
     "metadata": {},
     "output_type": "execute_result"
    },
    {
     "data": {
      "image/png": "[encoded data removed]",
      "text/plain": [
       "<Figure size 432x288 with 1 Axes>"
      ]
     },
     "metadata": {
      "needs_background": "light"
     },
     "output_type": "display_data"
    }
   ],
   "source": [
    "fig1 = plt.figure()\n",
    "\n",
    "ax = fig1.add_axes([0,0,1,1])\n",
    "\n",
    "ax.plot(x,y, label = 'this is X')\n",
    "ax.plot(y,x, label = 'this is X squared')\n",
    "\n",
    "ax.legend(loc = 0)"
   ]
  },
  {
   "cell_type": "code",
   "execution_count": 15,
   "metadata": {},
   "outputs": [
    {
     "data": {
      "text/plain": [
       "[<matplotlib.lines.Line2D at 0x7f3edfff22e8>]"
      ]
     },
     "execution_count": 15,
     "metadata": {},
     "output_type": "execute_result"
    },
    {
     "data": {
      "image/png": "[encoded data removed]",
      "text/plain": [
       "<Figure size 432x288 with 1 Axes>"
      ]
     },
     "metadata": {
      "needs_background": "light"
     },
     "output_type": "display_data"
    }
   ],
   "source": [
    "fig = plt.figure()\n",
    "ax =  fig.add_axes([0,0,1,1])\n",
    "\n",
    "ax.plot(x,y,color = 'red', linewidth = 4)\n"
   ]
  },
  {
   "cell_type": "code",
   "execution_count": 16,
   "metadata": {},
   "outputs": [
    {
     "data": {
      "text/plain": [
       "[<matplotlib.lines.Line2D at 0x7f3edffdb080>]"
      ]
     },
     "execution_count": 16,
     "metadata": {},
     "output_type": "execute_result"
    },
    {
     "data": {
      "image/png": "[encoded data removed]",
      "text/plain": [
       "<Figure size 432x288 with 1 Axes>"
      ]
     },
     "metadata": {
      "needs_background": "light"
     },
     "output_type": "display_data"
    }
   ],
   "source": [
    "fig = plt.figure()\n",
    "ax =  fig.add_axes([0,0,1,1])\n",
    "\n",
    "ax.plot(x,y,color = 'red', linewidth = 4, alpha = 0.3)"
   ]
  },
  {
   "cell_type": "code",
   "execution_count": 17,
   "metadata": {},
   "outputs": [
    {
     "data": {
      "text/plain": [
       "[<matplotlib.lines.Line2D at 0x7f3edff361d0>]"
      ]
     },
     "execution_count": 17,
     "metadata": {},
     "output_type": "execute_result"
    },
    {
     "data": {
      "image/png": "[encoded data removed]",
      "text/plain": [
       "<Figure size 432x288 with 1 Axes>"
      ]
     },
     "metadata": {
      "needs_background": "light"
     },
     "output_type": "display_data"
    }
   ],
   "source": [
    "fig = plt.figure()\n",
    "ax =  fig.add_axes([0,0,1,1])\n",
    "\n",
    "ax.plot(x,y,color = 'red', lw =4, linestyle = \":\")\n"
   ]
  },
  {
   "cell_type": "code",
   "execution_count": 18,
   "metadata": {},
   "outputs": [
    {
     "data": {
      "text/plain": [
       "[<matplotlib.lines.Line2D at 0x7f3edff0f160>]"
      ]
     },
     "execution_count": 18,
     "metadata": {},
     "output_type": "execute_result"
    },
    {
     "data": {
      "image/png": "[encoded data removed]",
      "text/plain": [
       "<Figure size 432x288 with 1 Axes>"
      ]
     },
     "metadata": {
      "needs_background": "light"
     },
     "output_type": "display_data"
    }
   ],
   "source": [
    "fig = plt.figure()\n",
    "ax =  fig.add_axes([0,0,1,1])\n",
    "\n",
    "ax.plot(x,y,color = 'red', lw = 0.5, marker = \"+\", markersize = 20)"
   ]
  },
  {
   "cell_type": "code",
   "execution_count": 20,
   "metadata": {},
   "outputs": [
    {
     "ename": "SyntaxError",
     "evalue": "positional argument follows keyword argument (<ipython-input-20-23e456a02ec9>, line 1)",
     "output_type": "error",
     "traceback": [
      "\u001b[0;36m  File \u001b[0;32m\"<ipython-input-20-23e456a02ec9>\"\u001b[0;36m, line \u001b[0;32m1\u001b[0m\n\u001b[0;31m    fig = plt.figure(figsize = 15,6)\u001b[0m\n\u001b[0m                                 ^\u001b[0m\n\u001b[0;31mSyntaxError\u001b[0m\u001b[0;31m:\u001b[0m positional argument follows keyword argument\n"
     ]
    }
   ],
   "source": [
    "fig = plt.figure()\n",
    "ax = fig.add_axes([0,0,1,1])\n",
    "ax.plot(x,y)\n",
    "\n",
    "ax.set_xlim([0,1])\n",
    "ax.set_ylim([0,1])"
   ]
  },
  {
   "cell_type": "code",
   "execution_count": 97,
   "metadata": {},
   "outputs": [
    {
     "data": {
      "text/plain": [
       "'/home/naiph/SomePython'"
      ]
     },
     "execution_count": 97,
     "metadata": {},
     "output_type": "execute_result"
    }
   ],
   "source": [
    "import os\n",
    "os.getcwd()"
   ]
  },
  {
   "cell_type": "code",
   "execution_count": 102,
   "metadata": {},
   "outputs": [],
   "source": [
    "ar1 = []\n",
    "for i in range(100):\n",
    "    ar1.append(i)\n",
    "\n",
    "ar2 = []\n",
    "for i in range(100):\n",
    "    ar1.append(i * 2)\n",
    "    "
   ]
  },
  {
   "cell_type": "code",
   "execution_count": 101,
   "metadata": {},
   "outputs": [
    {
     "data": {
      "text/plain": [
       "[]"
      ]
     },
     "execution_count": 101,
     "metadata": {},
     "output_type": "execute_result"
    }
   ],
   "source": [
    "ar2"
   ]
  },
  {
   "cell_type": "code",
   "execution_count": 103,
   "metadata": {},
   "outputs": [
    {
     "data": {
      "text/plain": [
       "'/home/naiph/SomePython'"
      ]
     },
     "execution_count": 103,
     "metadata": {},
     "output_type": "execute_result"
    }
   ],
   "source": [
    "os.getcwd()"
   ]
  },
  {
   "cell_type": "code",
   "execution_count": 108,
   "metadata": {},
   "outputs": [],
   "source": [
    "path = '/home/naiph'\n",
    "os.chdir(path)"
   ]
  },
  {
   "cell_type": "code",
   "execution_count": 109,
   "metadata": {},
   "outputs": [
    {
     "data": {
      "text/plain": [
       "['type practice',\n",
       " 'Test',\n",
       " 'Desktop',\n",
       " 'Music',\n",
       " 'search.py',\n",
       " '.nuget',\n",
       " '.gnupg',\n",
       " '.swp',\n",
       " 'mdata',\n",
       " '.oracle_jre_usage',\n",
       " 'Arduino',\n",
       " '.qiskit',\n",
       " 'nltk_data',\n",
       " 'SomePython',\n",
       " '.ipynb_checkpoints',\n",
       " '.dbus',\n",
       " '.templateengine',\n",
       " 'anaconda3',\n",
       " 'Junk',\n",
       " '.sudo_as_admin_successful',\n",
       " 'Quantum',\n",
       " '.dotnet',\n",
       " '.bash_logout',\n",
       " '.pki',\n",
       " 'geckodriver.log',\n",
       " 'Public',\n",
       " '.jupyter',\n",
       " '.ICEauthority',\n",
       " '.cinnamon',\n",
       " 'Templates',\n",
       " 'snap',\n",
       " 'Videos',\n",
       " 'packages-microsoft-prod.deb',\n",
       " '.icons',\n",
       " 'myApp',\n",
       " 'Pictures',\n",
       " '.wget-hsts',\n",
       " '.open.py.swo',\n",
       " '.mozilla',\n",
       " '.profile',\n",
       " '.gnome',\n",
       " '.condarc',\n",
       " 'open.py',\n",
       " '.arduino15',\n",
       " '.vscode',\n",
       " 'examples.desktop',\n",
       " '.w3m',\n",
       " 'Documents',\n",
       " '.bash_history',\n",
       " 'ASBP',\n",
       " '.keras',\n",
       " '3dprinting 15.2',\n",
       " '.apport-ignore.xml',\n",
       " 'manthena detaiils',\n",
       " '.thunderbird',\n",
       " 'Chess ash inst',\n",
       " '.java',\n",
       " '.conda',\n",
       " '.open.py.swp',\n",
       " 'Qiskit',\n",
       " '.git',\n",
       " '.themes',\n",
       " '.gphoto',\n",
       " '.ipython',\n",
       " '.gitconfig',\n",
       " '.cache',\n",
       " 'Descrip',\n",
       " '.local',\n",
       " '.ssh',\n",
       " 'Downloads',\n",
       " '.bashrc',\n",
       " '.viminfo',\n",
       " '.anaconda',\n",
       " '.config']"
      ]
     },
     "execution_count": 109,
     "metadata": {},
     "output_type": "execute_result"
    }
   ],
   "source": [
    "os.listdir()"
   ]
  },
  {
   "cell_type": "code",
   "execution_count": 111,
   "metadata": {},
   "outputs": [],
   "source": [
    "import pandas_datareader.data as web"
   ]
  },
  {
   "cell_type": "code",
   "execution_count": 112,
   "metadata": {},
   "outputs": [],
   "source": [
    " import datetime"
   ]
  },
  {
   "cell_type": "code",
   "execution_count": 113,
   "metadata": {},
   "outputs": [],
   "source": [
    "start = datetime.datetime(2015,1,1)\n",
    "end = datetime.datetime(2017,1,1)"
   ]
  },
  {
   "cell_type": "code",
   "execution_count": 120,
   "metadata": {},
   "outputs": [],
   "source": [
    "facebook = web.DataReader('FB','yahoo',start,end)"
   ]
  },
  {
   "cell_type": "code",
   "execution_count": 123,
   "metadata": {},
   "outputs": [
    {
     "data": {
      "text/html": [
       "<div>\n",
       "<style scoped>\n",
       "    .dataframe tbody tr th:only-of-type {\n",
       "        vertical-align: middle;\n",
       "    }\n",
       "\n",
       "    .dataframe tbody tr th {\n",
       "        vertical-align: top;\n",
       "    }\n",
       "\n",
       "    .dataframe thead th {\n",
       "        text-align: right;\n",
       "    }\n",
       "</style>\n",
       "<table border=\"1\" class=\"dataframe\">\n",
       "  <thead>\n",
       "    <tr style=\"text-align: right;\">\n",
       "      <th></th>\n",
       "      <th>High</th>\n",
       "      <th>Low</th>\n",
       "      <th>Open</th>\n",
       "      <th>Close</th>\n",
       "      <th>Volume</th>\n",
       "      <th>Adj Close</th>\n",
       "    </tr>\n",
       "    <tr>\n",
       "      <th>Date</th>\n",
       "      <th></th>\n",
       "      <th></th>\n",
       "      <th></th>\n",
       "      <th></th>\n",
       "      <th></th>\n",
       "      <th></th>\n",
       "    </tr>\n",
       "  </thead>\n",
       "  <tbody>\n",
       "    <tr>\n",
       "      <th>2014-12-31</th>\n",
       "      <td>79.800003</td>\n",
       "      <td>77.860001</td>\n",
       "      <td>79.540001</td>\n",
       "      <td>78.019997</td>\n",
       "      <td>19935400</td>\n",
       "      <td>78.019997</td>\n",
       "    </tr>\n",
       "    <tr>\n",
       "      <th>2015-01-02</th>\n",
       "      <td>78.930000</td>\n",
       "      <td>77.699997</td>\n",
       "      <td>78.580002</td>\n",
       "      <td>78.449997</td>\n",
       "      <td>18177500</td>\n",
       "      <td>78.449997</td>\n",
       "    </tr>\n",
       "    <tr>\n",
       "      <th>2015-01-05</th>\n",
       "      <td>79.250000</td>\n",
       "      <td>76.860001</td>\n",
       "      <td>77.980003</td>\n",
       "      <td>77.190002</td>\n",
       "      <td>26452200</td>\n",
       "      <td>77.190002</td>\n",
       "    </tr>\n",
       "    <tr>\n",
       "      <th>2015-01-06</th>\n",
       "      <td>77.589996</td>\n",
       "      <td>75.360001</td>\n",
       "      <td>77.230003</td>\n",
       "      <td>76.150002</td>\n",
       "      <td>27399300</td>\n",
       "      <td>76.150002</td>\n",
       "    </tr>\n",
       "    <tr>\n",
       "      <th>2015-01-07</th>\n",
       "      <td>77.360001</td>\n",
       "      <td>75.820000</td>\n",
       "      <td>76.760002</td>\n",
       "      <td>76.150002</td>\n",
       "      <td>22045300</td>\n",
       "      <td>76.150002</td>\n",
       "    </tr>\n",
       "  </tbody>\n",
       "</table>\n",
       "</div>"
      ],
      "text/plain": [
       "                 High        Low       Open      Close    Volume  Adj Close\n",
       "Date                                                                       \n",
       "2014-12-31  79.800003  77.860001  79.540001  78.019997  19935400  78.019997\n",
       "2015-01-02  78.930000  77.699997  78.580002  78.449997  18177500  78.449997\n",
       "2015-01-05  79.250000  76.860001  77.980003  77.190002  26452200  77.190002\n",
       "2015-01-06  77.589996  75.360001  77.230003  76.150002  27399300  76.150002\n",
       "2015-01-07  77.360001  75.820000  76.760002  76.150002  22045300  76.150002"
      ]
     },
     "execution_count": 123,
     "metadata": {},
     "output_type": "execute_result"
    }
   ],
   "source": [
    "facebook.head()"
   ]
  },
  {
   "cell_type": "code",
   "execution_count": null,
   "metadata": {},
   "outputs": [],
   "source": [
    "# You can get an options table from pandas datareader"
   ]
  },
  {
   "cell_type": "markdown",
   "metadata": {},
   "source": [
    " Quandl api key: vDTx7tmFhUeLRdE1aX9R"
   ]
  },
  {
   "cell_type": "code",
   "execution_count": 124,
   "metadata": {},
   "outputs": [],
   "source": [
    "import quandl"
   ]
  },
  {
   "cell_type": "code",
   "execution_count": 125,
   "metadata": {},
   "outputs": [],
   "source": [
    "mydata = quandl.get('EIA/PET_RWTC_D')"
   ]
  },
  {
   "cell_type": "code",
   "execution_count": 128,
   "metadata": {},
   "outputs": [
    {
     "data": {
      "text/html": [
       "<div>\n",
       "<style scoped>\n",
       "    .dataframe tbody tr th:only-of-type {\n",
       "        vertical-align: middle;\n",
       "    }\n",
       "\n",
       "    .dataframe tbody tr th {\n",
       "        vertical-align: top;\n",
       "    }\n",
       "\n",
       "    .dataframe thead th {\n",
       "        text-align: right;\n",
       "    }\n",
       "</style>\n",
       "<table border=\"1\" class=\"dataframe\">\n",
       "  <thead>\n",
       "    <tr style=\"text-align: right;\">\n",
       "      <th></th>\n",
       "      <th>Value</th>\n",
       "    </tr>\n",
       "    <tr>\n",
       "      <th>Date</th>\n",
       "      <th></th>\n",
       "    </tr>\n",
       "  </thead>\n",
       "  <tbody>\n",
       "    <tr>\n",
       "      <th>1986-01-02</th>\n",
       "      <td>25.56</td>\n",
       "    </tr>\n",
       "    <tr>\n",
       "      <th>1986-01-03</th>\n",
       "      <td>26.00</td>\n",
       "    </tr>\n",
       "    <tr>\n",
       "      <th>1986-01-06</th>\n",
       "      <td>26.53</td>\n",
       "    </tr>\n",
       "    <tr>\n",
       "      <th>1986-01-07</th>\n",
       "      <td>25.85</td>\n",
       "    </tr>\n",
       "    <tr>\n",
       "      <th>1986-01-08</th>\n",
       "      <td>25.87</td>\n",
       "    </tr>\n",
       "  </tbody>\n",
       "</table>\n",
       "</div>"
      ],
      "text/plain": [
       "            Value\n",
       "Date             \n",
       "1986-01-02  25.56\n",
       "1986-01-03  26.00\n",
       "1986-01-06  26.53\n",
       "1986-01-07  25.85\n",
       "1986-01-08  25.87"
      ]
     },
     "execution_count": 128,
     "metadata": {},
     "output_type": "execute_result"
    }
   ],
   "source": [
    "mydata.head()"
   ]
  },
  {
   "cell_type": "code",
   "execution_count": 127,
   "metadata": {},
   "outputs": [
    {
     "data": {
      "text/plain": [
       "<matplotlib.axes._subplots.AxesSubplot at 0x7faa71c60e10>"
      ]
     },
     "execution_count": 127,
     "metadata": {},
     "output_type": "execute_result"
    },
    {
     "data": {
      "image/png": "[encoded data removed]",
      "text/plain": [
       "<Figure size 432x288 with 1 Axes>"
      ]
     },
     "metadata": {
      "needs_background": "light"
     },
     "output_type": "display_data"
    }
   ],
   "source": [
    "mydata.plot()"
   ]
  },
  {
   "cell_type": "code",
   "execution_count": 129,
   "metadata": {},
   "outputs": [],
   "source": [
    " mydata1 =  quandl.get(\"BSE/SPBSB2IP\")"
   ]
  },
  {
   "cell_type": "code",
   "execution_count": 133,
   "metadata": {},
   "outputs": [
    {
     "data": {
      "application/javascript": [
       "/* Put everything inside the global mpl namespace */\n",
       "window.mpl = {};\n",
       "\n",
       "\n",
       "mpl.get_websocket_type = function() {\n",
       "    if (typeof(WebSocket) !== 'undefined') {\n",
       "        return WebSocket;\n",
       "    } else if (typeof(MozWebSocket) !== 'undefined') {\n",
       "        return MozWebSocket;\n",
       "    } else {\n",
       "        alert('Your browser does not have WebSocket support.' +\n",
       "              'Please try Chrome, Safari or Firefox ≥ 6. ' +\n",
       "              'Firefox 4 and 5 are also supported but you ' +\n",
       "              'have to enable WebSockets in about:config.');\n",
       "    };\n",
       "}\n",
       "\n",
       "mpl.figure = function(figure_id, websocket, ondownload, parent_element) {\n",
       "    this.id = figure_id;\n",
       "\n",
       "    this.ws = websocket;\n",
       "\n",
       "    this.supports_binary = (this.ws.binaryType != undefined);\n",
       "\n",
       "    if (!this.supports_binary) {\n",
       "        var warnings = document.getElementById(\"mpl-warnings\");\n",
       "        if (warnings) {\n",
       "            warnings.style.display = 'block';\n",
       "            warnings.textContent = (\n",
       "                \"This browser does not support binary websocket messages. \" +\n",
       "                    \"Performance may be slow.\");\n",
       "        }\n",
       "    }\n",
       "\n",
       "    this.imageObj = new Image();\n",
       "\n",
       "    this.context = undefined;\n",
       "    this.message = undefined;\n",
       "    this.canvas = undefined;\n",
       "    this.rubberband_canvas = undefined;\n",
       "    this.rubberband_context = undefined;\n",
       "    this.format_dropdown = undefined;\n",
       "\n",
       "    this.image_mode = 'full';\n",
       "\n",
       "    this.root = $('<div/>');\n",
       "    this._root_extra_style(this.root)\n",
       "    this.root.attr('style', 'display: inline-block');\n",
       "\n",
       "    $(parent_element).append(this.root);\n",
       "\n",
       "    this._init_header(this);\n",
       "    this._init_canvas(this);\n",
       "    this._init_toolbar(this);\n",
       "\n",
       "    var fig = this;\n",
       "\n",
       "    this.waiting = false;\n",
       "\n",
       "    this.ws.onopen =  function () {\n",
       "            fig.send_message(\"supports_binary\", {value: fig.supports_binary});\n",
       "            fig.send_message(\"send_image_mode\", {});\n",
       "            if (mpl.ratio != 1) {\n",
       "                fig.send_message(\"set_dpi_ratio\", {'dpi_ratio': mpl.ratio});\n",
       "            }\n",
       "            fig.send_message(\"refresh\", {});\n",
       "        }\n",
       "\n",
       "    this.imageObj.onload = function() {\n",
       "            if (fig.image_mode == 'full') {\n",
       "                // Full images could contain transparency (where diff images\n",
       "                // almost always do), so we need to clear the canvas so that\n",
       "                // there is no ghosting.\n",
       "                fig.context.clearRect(0, 0, fig.canvas.width, fig.canvas.height);\n",
       "            }\n",
       "            fig.context.drawImage(fig.imageObj, 0, 0);\n",
       "        };\n",
       "\n",
       "    this.imageObj.onunload = function() {\n",
       "        fig.ws.close();\n",
       "    }\n",
       "\n",
       "    this.ws.onmessage = this._make_on_message_function(this);\n",
       "\n",
       "    this.ondownload = ondownload;\n",
       "}\n",
       "\n",
       "mpl.figure.prototype._init_header = function() {\n",
       "    var titlebar = $(\n",
       "        '<div class=\"ui-dialog-titlebar ui-widget-header ui-corner-all ' +\n",
       "        'ui-helper-clearfix\"/>');\n",
       "    var titletext = $(\n",
       "        '<div class=\"ui-dialog-title\" style=\"width: 100%; ' +\n",
       "        'text-align: center; padding: 3px;\"/>');\n",
       "    titlebar.append(titletext)\n",
       "    this.root.append(titlebar);\n",
       "    this.header = titletext[0];\n",
       "}\n",
       "\n",
       "\n",
       "\n",
       "mpl.figure.prototype._canvas_extra_style = function(canvas_div) {\n",
       "\n",
       "}\n",
       "\n",
       "\n",
       "mpl.figure.prototype._root_extra_style = function(canvas_div) {\n",
       "\n",
       "}\n",
       "\n",
       "mpl.figure.prototype._init_canvas = function() {\n",
       "    var fig = this;\n",
       "\n",
       "    var canvas_div = $('<div/>');\n",
       "\n",
       "    canvas_div.attr('style', 'position: relative; clear: both; outline: 0');\n",
       "\n",
       "    function canvas_keyboard_event(event) {\n",
       "        return fig.key_event(event, event['data']);\n",
       "    }\n",
       "\n",
       "    canvas_div.keydown('key_press', canvas_keyboard_event);\n",
       "    canvas_div.keyup('key_release', canvas_keyboard_event);\n",
       "    this.canvas_div = canvas_div\n",
       "    this._canvas_extra_style(canvas_div)\n",
       "    this.root.append(canvas_div);\n",
       "\n",
       "    var canvas = $('<canvas/>');\n",
       "    canvas.addClass('mpl-canvas');\n",
       "    canvas.attr('style', \"left: 0; top: 0; z-index: 0; outline: 0\")\n",
       "\n",
       "    this.canvas = canvas[0];\n",
       "    this.context = canvas[0].getContext(\"2d\");\n",
       "\n",
       "    var backingStore = this.context.backingStorePixelRatio ||\n",
       "\tthis.context.webkitBackingStorePixelRatio ||\n",
       "\tthis.context.mozBackingStorePixelRatio ||\n",
       "\tthis.context.msBackingStorePixelRatio ||\n",
       "\tthis.context.oBackingStorePixelRatio ||\n",
       "\tthis.context.backingStorePixelRatio || 1;\n",
       "\n",
       "    mpl.ratio = (window.devicePixelRatio || 1) / backingStore;\n",
       "\n",
       "    var rubberband = $('<canvas/>');\n",
       "    rubberband.attr('style', \"position: absolute; left: 0; top: 0; z-index: 1;\")\n",
       "\n",
       "    var pass_mouse_events = true;\n",
       "\n",
       "    canvas_div.resizable({\n",
       "        start: function(event, ui) {\n",
       "            pass_mouse_events = false;\n",
       "        },\n",
       "        resize: function(event, ui) {\n",
       "            fig.request_resize(ui.size.width, ui.size.height);\n",
       "        },\n",
       "        stop: function(event, ui) {\n",
       "            pass_mouse_events = true;\n",
       "            fig.request_resize(ui.size.width, ui.size.height);\n",
       "        },\n",
       "    });\n",
       "\n",
       "    function mouse_event_fn(event) {\n",
       "        if (pass_mouse_events)\n",
       "            return fig.mouse_event(event, event['data']);\n",
       "    }\n",
       "\n",
       "    rubberband.mousedown('button_press', mouse_event_fn);\n",
       "    rubberband.mouseup('button_release', mouse_event_fn);\n",
       "    // Throttle sequential mouse events to 1 every 20ms.\n",
       "    rubberband.mousemove('motion_notify', mouse_event_fn);\n",
       "\n",
       "    rubberband.mouseenter('figure_enter', mouse_event_fn);\n",
       "    rubberband.mouseleave('figure_leave', mouse_event_fn);\n",
       "\n",
       "    canvas_div.on(\"wheel\", function (event) {\n",
       "        event = event.originalEvent;\n",
       "        event['data'] = 'scroll'\n",
       "        if (event.deltaY < 0) {\n",
       "            event.step = 1;\n",
       "        } else {\n",
       "            event.step = -1;\n",
       "        }\n",
       "        mouse_event_fn(event);\n",
       "    });\n",
       "\n",
       "    canvas_div.append(canvas);\n",
       "    canvas_div.append(rubberband);\n",
       "\n",
       "    this.rubberband = rubberband;\n",
       "    this.rubberband_canvas = rubberband[0];\n",
       "    this.rubberband_context = rubberband[0].getContext(\"2d\");\n",
       "    this.rubberband_context.strokeStyle = \"#000000\";\n",
       "\n",
       "    this._resize_canvas = function(width, height) {\n",
       "        // Keep the size of the canvas, canvas container, and rubber band\n",
       "        // canvas in synch.\n",
       "        canvas_div.css('width', width)\n",
       "        canvas_div.css('height', height)\n",
       "\n",
       "        canvas.attr('width', width * mpl.ratio);\n",
       "        canvas.attr('height', height * mpl.ratio);\n",
       "        canvas.attr('style', 'width: ' + width + 'px; height: ' + height + 'px;');\n",
       "\n",
       "        rubberband.attr('width', width);\n",
       "        rubberband.attr('height', height);\n",
       "    }\n",
       "\n",
       "    // Set the figure to an initial 600x600px, this will subsequently be updated\n",
       "    // upon first draw.\n",
       "    this._resize_canvas(600, 600);\n",
       "\n",
       "    // Disable right mouse context menu.\n",
       "    $(this.rubberband_canvas).bind(\"contextmenu\",function(e){\n",
       "        return false;\n",
       "    });\n",
       "\n",
       "    function set_focus () {\n",
       "        canvas.focus();\n",
       "        canvas_div.focus();\n",
       "    }\n",
       "\n",
       "    window.setTimeout(set_focus, 100);\n",
       "}\n",
       "\n",
       "mpl.figure.prototype._init_toolbar = function() {\n",
       "    var fig = this;\n",
       "\n",
       "    var nav_element = $('<div/>')\n",
       "    nav_element.attr('style', 'width: 100%');\n",
       "    this.root.append(nav_element);\n",
       "\n",
       "    // Define a callback function for later on.\n",
       "    function toolbar_event(event) {\n",
       "        return fig.toolbar_button_onclick(event['data']);\n",
       "    }\n",
       "    function toolbar_mouse_event(event) {\n",
       "        return fig.toolbar_button_onmouseover(event['data']);\n",
       "    }\n",
       "\n",
       "    for(var toolbar_ind in mpl.toolbar_items) {\n",
       "        var name = mpl.toolbar_items[toolbar_ind][0];\n",
       "        var tooltip = mpl.toolbar_items[toolbar_ind][1];\n",
       "        var image = mpl.toolbar_items[toolbar_ind][2];\n",
       "        var method_name = mpl.toolbar_items[toolbar_ind][3];\n",
       "\n",
       "        if (!name) {\n",
       "            // put a spacer in here.\n",
       "            continue;\n",
       "        }\n",
       "        var button = $('<button/>');\n",
       "        button.addClass('ui-button ui-widget ui-state-default ui-corner-all ' +\n",
       "                        'ui-button-icon-only');\n",
       "        button.attr('role', 'button');\n",
       "        button.attr('aria-disabled', 'false');\n",
       "        button.click(method_name, toolbar_event);\n",
       "        button.mouseover(tooltip, toolbar_mouse_event);\n",
       "\n",
       "        var icon_img = $('<span/>');\n",
       "        icon_img.addClass('ui-button-icon-primary ui-icon');\n",
       "        icon_img.addClass(image);\n",
       "        icon_img.addClass('ui-corner-all');\n",
       "\n",
       "        var tooltip_span = $('<span/>');\n",
       "        tooltip_span.addClass('ui-button-text');\n",
       "        tooltip_span.html(tooltip);\n",
       "\n",
       "        button.append(icon_img);\n",
       "        button.append(tooltip_span);\n",
       "\n",
       "        nav_element.append(button);\n",
       "    }\n",
       "\n",
       "    var fmt_picker_span = $('<span/>');\n",
       "\n",
       "    var fmt_picker = $('<select/>');\n",
       "    fmt_picker.addClass('mpl-toolbar-option ui-widget ui-widget-content');\n",
       "    fmt_picker_span.append(fmt_picker);\n",
       "    nav_element.append(fmt_picker_span);\n",
       "    this.format_dropdown = fmt_picker[0];\n",
       "\n",
       "    for (var ind in mpl.extensions) {\n",
       "        var fmt = mpl.extensions[ind];\n",
       "        var option = $(\n",
       "            '<option/>', {selected: fmt === mpl.default_extension}).html(fmt);\n",
       "        fmt_picker.append(option)\n",
       "    }\n",
       "\n",
       "    // Add hover states to the ui-buttons\n",
       "    $( \".ui-button\" ).hover(\n",
       "        function() { $(this).addClass(\"ui-state-hover\");},\n",
       "        function() { $(this).removeClass(\"ui-state-hover\");}\n",
       "    );\n",
       "\n",
       "    var status_bar = $('<span class=\"mpl-message\"/>');\n",
       "    nav_element.append(status_bar);\n",
       "    this.message = status_bar[0];\n",
       "}\n",
       "\n",
       "mpl.figure.prototype.request_resize = function(x_pixels, y_pixels) {\n",
       "    // Request matplotlib to resize the figure. Matplotlib will then trigger a resize in the client,\n",
       "    // which will in turn request a refresh of the image.\n",
       "    this.send_message('resize', {'width': x_pixels, 'height': y_pixels});\n",
       "}\n",
       "\n",
       "mpl.figure.prototype.send_message = function(type, properties) {\n",
       "    properties['type'] = type;\n",
       "    properties['figure_id'] = this.id;\n",
       "    this.ws.send(JSON.stringify(properties));\n",
       "}\n",
       "\n",
       "mpl.figure.prototype.send_draw_message = function() {\n",
       "    if (!this.waiting) {\n",
       "        this.waiting = true;\n",
       "        this.ws.send(JSON.stringify({type: \"draw\", figure_id: this.id}));\n",
       "    }\n",
       "}\n",
       "\n",
       "\n",
       "mpl.figure.prototype.handle_save = function(fig, msg) {\n",
       "    var format_dropdown = fig.format_dropdown;\n",
       "    var format = format_dropdown.options[format_dropdown.selectedIndex].value;\n",
       "    fig.ondownload(fig, format);\n",
       "}\n",
       "\n",
       "\n",
       "mpl.figure.prototype.handle_resize = function(fig, msg) {\n",
       "    var size = msg['size'];\n",
       "    if (size[0] != fig.canvas.width || size[1] != fig.canvas.height) {\n",
       "        fig._resize_canvas(size[0], size[1]);\n",
       "        fig.send_message(\"refresh\", {});\n",
       "    };\n",
       "}\n",
       "\n",
       "mpl.figure.prototype.handle_rubberband = function(fig, msg) {\n",
       "    var x0 = msg['x0'] / mpl.ratio;\n",
       "    var y0 = (fig.canvas.height - msg['y0']) / mpl.ratio;\n",
       "    var x1 = msg['x1'] / mpl.ratio;\n",
       "    var y1 = (fig.canvas.height - msg['y1']) / mpl.ratio;\n",
       "    x0 = Math.floor(x0) + 0.5;\n",
       "    y0 = Math.floor(y0) + 0.5;\n",
       "    x1 = Math.floor(x1) + 0.5;\n",
       "    y1 = Math.floor(y1) + 0.5;\n",
       "    var min_x = Math.min(x0, x1);\n",
       "    var min_y = Math.min(y0, y1);\n",
       "    var width = Math.abs(x1 - x0);\n",
       "    var height = Math.abs(y1 - y0);\n",
       "\n",
       "    fig.rubberband_context.clearRect(\n",
       "        0, 0, fig.canvas.width, fig.canvas.height);\n",
       "\n",
       "    fig.rubberband_context.strokeRect(min_x, min_y, width, height);\n",
       "}\n",
       "\n",
       "mpl.figure.prototype.handle_figure_label = function(fig, msg) {\n",
       "    // Updates the figure title.\n",
       "    fig.header.textContent = msg['label'];\n",
       "}\n",
       "\n",
       "mpl.figure.prototype.handle_cursor = function(fig, msg) {\n",
       "    var cursor = msg['cursor'];\n",
       "    switch(cursor)\n",
       "    {\n",
       "    case 0:\n",
       "        cursor = 'pointer';\n",
       "        break;\n",
       "    case 1:\n",
       "        cursor = 'default';\n",
       "        break;\n",
       "    case 2:\n",
       "        cursor = 'crosshair';\n",
       "        break;\n",
       "    case 3:\n",
       "        cursor = 'move';\n",
       "        break;\n",
       "    }\n",
       "    fig.rubberband_canvas.style.cursor = cursor;\n",
       "}\n",
       "\n",
       "mpl.figure.prototype.handle_message = function(fig, msg) {\n",
       "    fig.message.textContent = msg['message'];\n",
       "}\n",
       "\n",
       "mpl.figure.prototype.handle_draw = function(fig, msg) {\n",
       "    // Request the server to send over a new figure.\n",
       "    fig.send_draw_message();\n",
       "}\n",
       "\n",
       "mpl.figure.prototype.handle_image_mode = function(fig, msg) {\n",
       "    fig.image_mode = msg['mode'];\n",
       "}\n",
       "\n",
       "mpl.figure.prototype.updated_canvas_event = function() {\n",
       "    // Called whenever the canvas gets updated.\n",
       "    this.send_message(\"ack\", {});\n",
       "}\n",
       "\n",
       "// A function to construct a web socket function for onmessage handling.\n",
       "// Called in the figure constructor.\n",
       "mpl.figure.prototype._make_on_message_function = function(fig) {\n",
       "    return function socket_on_message(evt) {\n",
       "        if (evt.data instanceof Blob) {\n",
       "            /* FIXME: We get \"Resource interpreted as Image but\n",
       "             * transferred with MIME type text/plain:\" errors on\n",
       "             * Chrome.  But how to set the MIME type?  It doesn't seem\n",
       "             * to be part of the websocket stream */\n",
       "            evt.data.type = \"image/png\";\n",
       "\n",
       "            /* Free the memory for the previous frames */\n",
       "            if (fig.imageObj.src) {\n",
       "                (window.URL || window.webkitURL).revokeObjectURL(\n",
       "                    fig.imageObj.src);\n",
       "            }\n",
       "\n",
       "            fig.imageObj.src = (window.URL || window.webkitURL).createObjectURL(\n",
       "                evt.data);\n",
       "            fig.updated_canvas_event();\n",
       "            fig.waiting = false;\n",
       "            return;\n",
       "        }\n",
       "        else if (typeof evt.data === 'string' && evt.data.slice(0, 21) == \"data:image/png;base64\") {\n",
       "            fig.imageObj.src = evt.data;\n",
       "            fig.updated_canvas_event();\n",
       "            fig.waiting = false;\n",
       "            return;\n",
       "        }\n",
       "\n",
       "        var msg = JSON.parse(evt.data);\n",
       "        var msg_type = msg['type'];\n",
       "\n",
       "        // Call the  \"handle_{type}\" callback, which takes\n",
       "        // the figure and JSON message as its only arguments.\n",
       "        try {\n",
       "            var callback = fig[\"handle_\" + msg_type];\n",
       "        } catch (e) {\n",
       "            console.log(\"No handler for the '\" + msg_type + \"' message type: \", msg);\n",
       "            return;\n",
       "        }\n",
       "\n",
       "        if (callback) {\n",
       "            try {\n",
       "                // console.log(\"Handling '\" + msg_type + \"' message: \", msg);\n",
       "                callback(fig, msg);\n",
       "            } catch (e) {\n",
       "                console.log(\"Exception inside the 'handler_\" + msg_type + \"' callback:\", e, e.stack, msg);\n",
       "            }\n",
       "        }\n",
       "    };\n",
       "}\n",
       "\n",
       "// from http://stackoverflow.com/questions/1114465/getting-mouse-location-in-canvas\n",
       "mpl.findpos = function(e) {\n",
       "    //this section is from http://www.quirksmode.org/js/events_properties.html\n",
       "    var targ;\n",
       "    if (!e)\n",
       "        e = window.event;\n",
       "    if (e.target)\n",
       "        targ = e.target;\n",
       "    else if (e.srcElement)\n",
       "        targ = e.srcElement;\n",
       "    if (targ.nodeType == 3) // defeat Safari bug\n",
       "        targ = targ.parentNode;\n",
       "\n",
       "    // jQuery normalizes the pageX and pageY\n",
       "    // pageX,Y are the mouse positions relative to the document\n",
       "    // offset() returns the position of the element relative to the document\n",
       "    var x = e.pageX - $(targ).offset().left;\n",
       "    var y = e.pageY - $(targ).offset().top;\n",
       "\n",
       "    return {\"x\": x, \"y\": y};\n",
       "};\n",
       "\n",
       "/*\n",
       " * return a copy of an object with only non-object keys\n",
       " * we need this to avoid circular references\n",
       " * http://stackoverflow.com/a/24161582/3208463\n",
       " */\n",
       "function simpleKeys (original) {\n",
       "  return Object.keys(original).reduce(function (obj, key) {\n",
       "    if (typeof original[key] !== 'object')\n",
       "        obj[key] = original[key]\n",
       "    return obj;\n",
       "  }, {});\n",
       "}\n",
       "\n",
       "mpl.figure.prototype.mouse_event = function(event, name) {\n",
       "    var canvas_pos = mpl.findpos(event)\n",
       "\n",
       "    if (name === 'button_press')\n",
       "    {\n",
       "        this.canvas.focus();\n",
       "        this.canvas_div.focus();\n",
       "    }\n",
       "\n",
       "    var x = canvas_pos.x * mpl.ratio;\n",
       "    var y = canvas_pos.y * mpl.ratio;\n",
       "\n",
       "    this.send_message(name, {x: x, y: y, button: event.button,\n",
       "                             step: event.step,\n",
       "                             guiEvent: simpleKeys(event)});\n",
       "\n",
       "    /* This prevents the web browser from automatically changing to\n",
       "     * the text insertion cursor when the button is pressed.  We want\n",
       "     * to control all of the cursor setting manually through the\n",
       "     * 'cursor' event from matplotlib */\n",
       "    event.preventDefault();\n",
       "    return false;\n",
       "}\n",
       "\n",
       "mpl.figure.prototype._key_event_extra = function(event, name) {\n",
       "    // Handle any extra behaviour associated with a key event\n",
       "}\n",
       "\n",
       "mpl.figure.prototype.key_event = function(event, name) {\n",
       "\n",
       "    // Prevent repeat events\n",
       "    if (name == 'key_press')\n",
       "    {\n",
       "        if (event.which === this._key)\n",
       "            return;\n",
       "        else\n",
       "            this._key = event.which;\n",
       "    }\n",
       "    if (name == 'key_release')\n",
       "        this._key = null;\n",
       "\n",
       "    var value = '';\n",
       "    if (event.ctrlKey && event.which != 17)\n",
       "        value += \"ctrl+\";\n",
       "    if (event.altKey && event.which != 18)\n",
       "        value += \"alt+\";\n",
       "    if (event.shiftKey && event.which != 16)\n",
       "        value += \"shift+\";\n",
       "\n",
       "    value += 'k';\n",
       "    value += event.which.toString();\n",
       "\n",
       "    this._key_event_extra(event, name);\n",
       "\n",
       "    this.send_message(name, {key: value,\n",
       "                             guiEvent: simpleKeys(event)});\n",
       "    return false;\n",
       "}\n",
       "\n",
       "mpl.figure.prototype.toolbar_button_onclick = function(name) {\n",
       "    if (name == 'download') {\n",
       "        this.handle_save(this, null);\n",
       "    } else {\n",
       "        this.send_message(\"toolbar_button\", {name: name});\n",
       "    }\n",
       "};\n",
       "\n",
       "mpl.figure.prototype.toolbar_button_onmouseover = function(tooltip) {\n",
       "    this.message.textContent = tooltip;\n",
       "};\n",
       "mpl.toolbar_items = [[\"Home\", \"Reset original view\", \"fa fa-home icon-home\", \"home\"], [\"Back\", \"Back to  previous view\", \"fa fa-arrow-left icon-arrow-left\", \"back\"], [\"Forward\", \"Forward to next view\", \"fa fa-arrow-right icon-arrow-right\", \"forward\"], [\"\", \"\", \"\", \"\"], [\"Pan\", \"Pan axes with left mouse, zoom with right\", \"fa fa-arrows icon-move\", \"pan\"], [\"Zoom\", \"Zoom to rectangle\", \"fa fa-square-o icon-check-empty\", \"zoom\"], [\"\", \"\", \"\", \"\"], [\"Download\", \"Download plot\", \"fa fa-floppy-o icon-save\", \"download\"]];\n",
       "\n",
       "mpl.extensions = [\"eps\", \"jpeg\", \"pdf\", \"png\", \"ps\", \"raw\", \"svg\", \"tif\"];\n",
       "\n",
       "mpl.default_extension = \"png\";var comm_websocket_adapter = function(comm) {\n",
       "    // Create a \"websocket\"-like object which calls the given IPython comm\n",
       "    // object with the appropriate methods. Currently this is a non binary\n",
       "    // socket, so there is still some room for performance tuning.\n",
       "    var ws = {};\n",
       "\n",
       "    ws.close = function() {\n",
       "        comm.close()\n",
       "    };\n",
       "    ws.send = function(m) {\n",
       "        //console.log('sending', m);\n",
       "        comm.send(m);\n",
       "    };\n",
       "    // Register the callback with on_msg.\n",
       "    comm.on_msg(function(msg) {\n",
       "        //console.log('receiving', msg['content']['data'], msg);\n",
       "        // Pass the mpl event to the overridden (by mpl) onmessage function.\n",
       "        ws.onmessage(msg['content']['data'])\n",
       "    });\n",
       "    return ws;\n",
       "}\n",
       "\n",
       "mpl.mpl_figure_comm = function(comm, msg) {\n",
       "    // This is the function which gets called when the mpl process\n",
       "    // starts-up an IPython Comm through the \"matplotlib\" channel.\n",
       "\n",
       "    var id = msg.content.data.id;\n",
       "    // Get hold of the div created by the display call when the Comm\n",
       "    // socket was opened in Python.\n",
       "    var element = $(\"#\" + id);\n",
       "    var ws_proxy = comm_websocket_adapter(comm)\n",
       "\n",
       "    function ondownload(figure, format) {\n",
       "        window.open(figure.imageObj.src);\n",
       "    }\n",
       "\n",
       "    var fig = new mpl.figure(id, ws_proxy,\n",
       "                           ondownload,\n",
       "                           element.get(0));\n",
       "\n",
       "    // Call onopen now - mpl needs it, as it is assuming we've passed it a real\n",
       "    // web socket which is closed, not our websocket->open comm proxy.\n",
       "    ws_proxy.onopen();\n",
       "\n",
       "    fig.parent_element = element.get(0);\n",
       "    fig.cell_info = mpl.find_output_cell(\"<div id='\" + id + \"'></div>\");\n",
       "    if (!fig.cell_info) {\n",
       "        console.error(\"Failed to find cell for figure\", id, fig);\n",
       "        return;\n",
       "    }\n",
       "\n",
       "    var output_index = fig.cell_info[2]\n",
       "    var cell = fig.cell_info[0];\n",
       "\n",
       "};\n",
       "\n",
       "mpl.figure.prototype.handle_close = function(fig, msg) {\n",
       "    var width = fig.canvas.width/mpl.ratio\n",
       "    fig.root.unbind('remove')\n",
       "\n",
       "    // Update the output cell to use the data from the current canvas.\n",
       "    fig.push_to_output();\n",
       "    var dataURL = fig.canvas.toDataURL();\n",
       "    // Re-enable the keyboard manager in IPython - without this line, in FF,\n",
       "    // the notebook keyboard shortcuts fail.\n",
       "    IPython.keyboard_manager.enable()\n",
       "    $(fig.parent_element).html('<img src=\"' + dataURL + '\" width=\"' + width + '\">');\n",
       "    fig.close_ws(fig, msg);\n",
       "}\n",
       "\n",
       "mpl.figure.prototype.close_ws = function(fig, msg){\n",
       "    fig.send_message('closing', msg);\n",
       "    // fig.ws.close()\n",
       "}\n",
       "\n",
       "mpl.figure.prototype.push_to_output = function(remove_interactive) {\n",
       "    // Turn the data on the canvas into data in the output cell.\n",
       "    var width = this.canvas.width/mpl.ratio\n",
       "    var dataURL = this.canvas.toDataURL();\n",
       "    this.cell_info[1]['text/html'] = '<img src=\"' + dataURL + '\" width=\"' + width + '\">';\n",
       "}\n",
       "\n",
       "mpl.figure.prototype.updated_canvas_event = function() {\n",
       "    // Tell IPython that the notebook contents must change.\n",
       "    IPython.notebook.set_dirty(true);\n",
       "    this.send_message(\"ack\", {});\n",
       "    var fig = this;\n",
       "    // Wait a second, then push the new image to the DOM so\n",
       "    // that it is saved nicely (might be nice to debounce this).\n",
       "    setTimeout(function () { fig.push_to_output() }, 1000);\n",
       "}\n",
       "\n",
       "mpl.figure.prototype._init_toolbar = function() {\n",
       "    var fig = this;\n",
       "\n",
       "    var nav_element = $('<div/>')\n",
       "    nav_element.attr('style', 'width: 100%');\n",
       "    this.root.append(nav_element);\n",
       "\n",
       "    // Define a callback function for later on.\n",
       "    function toolbar_event(event) {\n",
       "        return fig.toolbar_button_onclick(event['data']);\n",
       "    }\n",
       "    function toolbar_mouse_event(event) {\n",
       "        return fig.toolbar_button_onmouseover(event['data']);\n",
       "    }\n",
       "\n",
       "    for(var toolbar_ind in mpl.toolbar_items){\n",
       "        var name = mpl.toolbar_items[toolbar_ind][0];\n",
       "        var tooltip = mpl.toolbar_items[toolbar_ind][1];\n",
       "        var image = mpl.toolbar_items[toolbar_ind][2];\n",
       "        var method_name = mpl.toolbar_items[toolbar_ind][3];\n",
       "\n",
       "        if (!name) { continue; };\n",
       "\n",
       "        var button = $('<button class=\"btn btn-default\" href=\"#\" title=\"' + name + '\"><i class=\"fa ' + image + ' fa-lg\"></i></button>');\n",
       "        button.click(method_name, toolbar_event);\n",
       "        button.mouseover(tooltip, toolbar_mouse_event);\n",
       "        nav_element.append(button);\n",
       "    }\n",
       "\n",
       "    // Add the status bar.\n",
       "    var status_bar = $('<span class=\"mpl-message\" style=\"text-align:right; float: right;\"/>');\n",
       "    nav_element.append(status_bar);\n",
       "    this.message = status_bar[0];\n",
       "\n",
       "    // Add the close button to the window.\n",
       "    var buttongrp = $('<div class=\"btn-group inline pull-right\"></div>');\n",
       "    var button = $('<button class=\"btn btn-mini btn-primary\" href=\"#\" title=\"Stop Interaction\"><i class=\"fa fa-power-off icon-remove icon-large\"></i></button>');\n",
       "    button.click(function (evt) { fig.handle_close(fig, {}); } );\n",
       "    button.mouseover('Stop Interaction', toolbar_mouse_event);\n",
       "    buttongrp.append(button);\n",
       "    var titlebar = this.root.find($('.ui-dialog-titlebar'));\n",
       "    titlebar.prepend(buttongrp);\n",
       "}\n",
       "\n",
       "mpl.figure.prototype._root_extra_style = function(el){\n",
       "    var fig = this\n",
       "    el.on(\"remove\", function(){\n",
       "\tfig.close_ws(fig, {});\n",
       "    });\n",
       "}\n",
       "\n",
       "mpl.figure.prototype._canvas_extra_style = function(el){\n",
       "    // this is important to make the div 'focusable\n",
       "    el.attr('tabindex', 0)\n",
       "    // reach out to IPython and tell the keyboard manager to turn it's self\n",
       "    // off when our div gets focus\n",
       "\n",
       "    // location in version 3\n",
       "    if (IPython.notebook.keyboard_manager) {\n",
       "        IPython.notebook.keyboard_manager.register_events(el);\n",
       "    }\n",
       "    else {\n",
       "        // location in version 2\n",
       "        IPython.keyboard_manager.register_events(el);\n",
       "    }\n",
       "\n",
       "}\n",
       "\n",
       "mpl.figure.prototype._key_event_extra = function(event, name) {\n",
       "    var manager = IPython.notebook.keyboard_manager;\n",
       "    if (!manager)\n",
       "        manager = IPython.keyboard_manager;\n",
       "\n",
       "    // Check for shift+enter\n",
       "    if (event.shiftKey && event.which == 13) {\n",
       "        this.canvas_div.blur();\n",
       "        event.shiftKey = false;\n",
       "        // Send a \"J\" for go to next cell\n",
       "        event.which = 74;\n",
       "        event.keyCode = 74;\n",
       "        manager.command_mode();\n",
       "        manager.handle_keydown(event);\n",
       "    }\n",
       "}\n",
       "\n",
       "mpl.figure.prototype.handle_save = function(fig, msg) {\n",
       "    fig.ondownload(fig, null);\n",
       "}\n",
       "\n",
       "\n",
       "mpl.find_output_cell = function(html_output) {\n",
       "    // Return the cell and output element which can be found *uniquely* in the notebook.\n",
       "    // Note - this is a bit hacky, but it is done because the \"notebook_saving.Notebook\"\n",
       "    // IPython event is triggered only after the cells have been serialised, which for\n",
       "    // our purposes (turning an active figure into a static one), is too late.\n",
       "    var cells = IPython.notebook.get_cells();\n",
       "    var ncells = cells.length;\n",
       "    for (var i=0; i<ncells; i++) {\n",
       "        var cell = cells[i];\n",
       "        if (cell.cell_type === 'code'){\n",
       "            for (var j=0; j<cell.output_area.outputs.length; j++) {\n",
       "                var data = cell.output_area.outputs[j];\n",
       "                if (data.data) {\n",
       "                    // IPython >= 3 moved mimebundle to data attribute of output\n",
       "                    data = data.data;\n",
       "                }\n",
       "                if (data['text/html'] == html_output) {\n",
       "                    return [cell, data, j];\n",
       "                }\n",
       "            }\n",
       "        }\n",
       "    }\n",
       "}\n",
       "\n",
       "// Register the function which deals with the matplotlib target/channel.\n",
       "// The kernel may be null if the page has been refreshed.\n",
       "if (IPython.notebook.kernel != null) {\n",
       "    IPython.notebook.kernel.comm_manager.register_target('matplotlib', mpl.mpl_figure_comm);\n",
       "}\n"
      ],
      "text/plain": [
       "<IPython.core.display.Javascript object>"
      ]
     },
     "metadata": {},
     "output_type": "display_data"
    },
    {
     "data": {
      "text/html": [
       "<img src=\"data:image/png;base64,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\" width=\"432\">"
      ],
      "text/plain": [
       "<IPython.core.display.HTML object>"
      ]
     },
     "metadata": {},
     "output_type": "display_data"
    },
    {
     "data": {
      "text/plain": [
       "<matplotlib.axes._subplots.AxesSubplot at 0x7faa73ad4470>"
      ]
     },
     "execution_count": 133,
     "metadata": {},
     "output_type": "execute_result"
    }
   ],
   "source": [
    "import matplotlib.pyplot as plt\n",
    "%matplotlib notebook\n",
    "mydata1.plot()"
   ]
  },
  {
   "cell_type": "code",
   "execution_count": 134,
   "metadata": {},
   "outputs": [
    {
     "data": {
      "text/html": [
       "<div>\n",
       "<style scoped>\n",
       "    .dataframe tbody tr th:only-of-type {\n",
       "        vertical-align: middle;\n",
       "    }\n",
       "\n",
       "    .dataframe tbody tr th {\n",
       "        vertical-align: top;\n",
       "    }\n",
       "\n",
       "    .dataframe thead th {\n",
       "        text-align: right;\n",
       "    }\n",
       "</style>\n",
       "<table border=\"1\" class=\"dataframe\">\n",
       "  <thead>\n",
       "    <tr style=\"text-align: right;\">\n",
       "      <th></th>\n",
       "      <th>Open</th>\n",
       "      <th>High</th>\n",
       "      <th>Low</th>\n",
       "      <th>Close</th>\n",
       "    </tr>\n",
       "    <tr>\n",
       "      <th>Date</th>\n",
       "      <th></th>\n",
       "      <th></th>\n",
       "      <th></th>\n",
       "      <th></th>\n",
       "    </tr>\n",
       "  </thead>\n",
       "  <tbody>\n",
       "    <tr>\n",
       "      <th>2017-09-19</th>\n",
       "      <td>3623.92</td>\n",
       "      <td>3624.13</td>\n",
       "      <td>3593.75</td>\n",
       "      <td>3610.80</td>\n",
       "    </tr>\n",
       "    <tr>\n",
       "      <th>2017-09-20</th>\n",
       "      <td>3621.95</td>\n",
       "      <td>3631.34</td>\n",
       "      <td>3612.76</td>\n",
       "      <td>3618.76</td>\n",
       "    </tr>\n",
       "    <tr>\n",
       "      <th>2017-09-21</th>\n",
       "      <td>3623.32</td>\n",
       "      <td>3630.94</td>\n",
       "      <td>3566.75</td>\n",
       "      <td>3593.11</td>\n",
       "    </tr>\n",
       "    <tr>\n",
       "      <th>2017-09-22</th>\n",
       "      <td>3586.45</td>\n",
       "      <td>3586.45</td>\n",
       "      <td>3511.70</td>\n",
       "      <td>3519.45</td>\n",
       "    </tr>\n",
       "    <tr>\n",
       "      <th>2017-09-25</th>\n",
       "      <td>3522.28</td>\n",
       "      <td>3526.29</td>\n",
       "      <td>3457.44</td>\n",
       "      <td>3485.24</td>\n",
       "    </tr>\n",
       "  </tbody>\n",
       "</table>\n",
       "</div>"
      ],
      "text/plain": [
       "               Open     High      Low    Close\n",
       "Date                                          \n",
       "2017-09-19  3623.92  3624.13  3593.75  3610.80\n",
       "2017-09-20  3621.95  3631.34  3612.76  3618.76\n",
       "2017-09-21  3623.32  3630.94  3566.75  3593.11\n",
       "2017-09-22  3586.45  3586.45  3511.70  3519.45\n",
       "2017-09-25  3522.28  3526.29  3457.44  3485.24"
      ]
     },
     "execution_count": 134,
     "metadata": {},
     "output_type": "execute_result"
    }
   ],
   "source": [
    "mydata1.head()"
   ]
  },
  {
   "cell_type": "code",
   "execution_count": 135,
   "metadata": {},
   "outputs": [
    {
     "data": {
      "text/html": [
       "<div>\n",
       "<style scoped>\n",
       "    .dataframe tbody tr th:only-of-type {\n",
       "        vertical-align: middle;\n",
       "    }\n",
       "\n",
       "    .dataframe tbody tr th {\n",
       "        vertical-align: top;\n",
       "    }\n",
       "\n",
       "    .dataframe thead th {\n",
       "        text-align: right;\n",
       "    }\n",
       "</style>\n",
       "<table border=\"1\" class=\"dataframe\">\n",
       "  <thead>\n",
       "    <tr style=\"text-align: right;\">\n",
       "      <th></th>\n",
       "      <th>Open</th>\n",
       "      <th>High</th>\n",
       "      <th>Low</th>\n",
       "      <th>Close</th>\n",
       "    </tr>\n",
       "    <tr>\n",
       "      <th>Date</th>\n",
       "      <th></th>\n",
       "      <th></th>\n",
       "      <th></th>\n",
       "      <th></th>\n",
       "    </tr>\n",
       "  </thead>\n",
       "  <tbody>\n",
       "    <tr>\n",
       "      <th>2020-03-20</th>\n",
       "      <td>2111.20</td>\n",
       "      <td>2226.06</td>\n",
       "      <td>2093.41</td>\n",
       "      <td>2205.56</td>\n",
       "    </tr>\n",
       "    <tr>\n",
       "      <th>2020-03-23</th>\n",
       "      <td>2056.01</td>\n",
       "      <td>2056.01</td>\n",
       "      <td>1920.00</td>\n",
       "      <td>1923.76</td>\n",
       "    </tr>\n",
       "    <tr>\n",
       "      <th>2020-03-24</th>\n",
       "      <td>1988.38</td>\n",
       "      <td>2001.71</td>\n",
       "      <td>1869.27</td>\n",
       "      <td>1905.74</td>\n",
       "    </tr>\n",
       "    <tr>\n",
       "      <th>2020-03-25</th>\n",
       "      <td>1894.36</td>\n",
       "      <td>1964.36</td>\n",
       "      <td>1849.05</td>\n",
       "      <td>1954.75</td>\n",
       "    </tr>\n",
       "    <tr>\n",
       "      <th>2020-03-26</th>\n",
       "      <td>1988.70</td>\n",
       "      <td>2043.72</td>\n",
       "      <td>1929.54</td>\n",
       "      <td>2032.68</td>\n",
       "    </tr>\n",
       "  </tbody>\n",
       "</table>\n",
       "</div>"
      ],
      "text/plain": [
       "               Open     High      Low    Close\n",
       "Date                                          \n",
       "2020-03-20  2111.20  2226.06  2093.41  2205.56\n",
       "2020-03-23  2056.01  2056.01  1920.00  1923.76\n",
       "2020-03-24  1988.38  2001.71  1869.27  1905.74\n",
       "2020-03-25  1894.36  1964.36  1849.05  1954.75\n",
       "2020-03-26  1988.70  2043.72  1929.54  2032.68"
      ]
     },
     "execution_count": 135,
     "metadata": {},
     "output_type": "execute_result"
    }
   ],
   "source": [
    "mydata1.tail()"
   ]
  },
  {
   "cell_type": "code",
   "execution_count": 143,
   "metadata": {},
   "outputs": [
    {
     "data": {
      "text/plain": [
       "(623, 4)"
      ]
     },
     "execution_count": 143,
     "metadata": {},
     "output_type": "execute_result"
    }
   ],
   "source": [
    "mydata1.shape"
   ]
  },
  {
   "cell_type": "code",
   "execution_count": 145,
   "metadata": {},
   "outputs": [
    {
     "data": {
      "text/plain": [
       "1580.41"
      ]
     },
     "execution_count": 145,
     "metadata": {},
     "output_type": "execute_result"
    }
   ],
   "source": [
    "mydata1.iloc[0][1] - mydata1.iloc[-1][1]"
   ]
  },
  {
   "cell_type": "code",
   "execution_count": null,
   "metadata": {},
   "outputs": [],
   "source": []
  }
 ],
 "metadata": {
  "kernelspec": {
   "display_name": "Python 3",
   "language": "python",
   "name": "python3"
  },
  "language_info": {
   "codemirror_mode": {
    "name": "ipython",
    "version": 3
   },
   "file_extension": ".py",
   "mimetype": "text/x-python",
   "name": "python",
   "nbconvert_exporter": "python",
   "pygments_lexer": "ipython3",
   "version": "3.7.3"
  }
 },
 "nbformat": 4,
 "nbformat_minor": 2
}
