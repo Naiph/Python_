{
 "cells": [
  {
   "cell_type": "code",
   "execution_count": 3,
   "metadata": {},
   "outputs": [],
   "source": [
    "import numpy as np\n",
    "\n",
    "def fact(b):\n",
    "    if b == 0:\n",
    "        return 1\n",
    "    return b*fact(b-1)"
   ]
  },
  {
   "cell_type": "code",
   "execution_count": 13,
   "metadata": {},
   "outputs": [
    {
     "data": {
      "text/plain": [
       "9.265358966064542e-05"
      ]
     },
     "execution_count": 13,
     "metadata": {},
     "output_type": "execute_result"
    }
   ],
   "source": [
    "#a = int(input(\"enter a power for e^x\"))\n",
    "# e = 2.71\n",
    "## Calculating sinx with no optimization\n",
    "def sin_wo(a):\n",
    "    #a = 3.1415\n",
    "    summ = 0\n",
    "    for i in range(20):\n",
    "        p = a**(2 * i + 1)\n",
    "        f = fact(2 * i + 1)\n",
    "        #print(\"i is {} p is {} f is {}\".format(i,p,f))\n",
    "        term = ((-1)**i)*p/f\n",
    "        summ = summ + term\n",
    "    return summ\n",
    "    \n",
    "sin_wo(3.1415)\n",
    "    #print(term)\n",
    "    #print(summ)\n",
    "#sin_wo(3.1415)\n",
    "# print(summ)\n",
    "# print(np.sin(a))\n",
    "\n",
    "# print(summ - np.sin(a))"
   ]
  },
  {
   "cell_type": "code",
   "execution_count": 96,
   "metadata": {},
   "outputs": [
    {
     "name": "stdout",
     "output_type": "stream",
     "text": [
      "6.73 µs ± 294 ns per loop (mean ± std. dev. of 7 runs, 100000 loops each)\n"
     ]
    }
   ],
   "source": [
    "%%timeit\n",
    "#a = int(input(\"enter a power for e^x\"))\n",
    "a = 3.1415\n",
    "summ = 0\n",
    "f = 1\n",
    "p_a = 1/a\n",
    "sgn = -1\n",
    "for i in range(20):\n",
    "    p_a  = p_a * a * a\n",
    "    if i > 0:\n",
    "        f = f * (2 * i) * (2 * i + 1)\n",
    "    #print(\"i is {} p is {} f is {}\".format(i,p,f))\n",
    "    sgn = sgn * (-1)\n",
    "    term = sgn * p_a / f\n",
    "    summ = summ + term\n",
    "    #print(term)\n",
    "    #print(summ)\n",
    "    \n",
    "# print(summ)\n",
    "# print(np.sin(a))"
   ]
  },
  {
   "cell_type": "code",
   "execution_count": 23,
   "metadata": {},
   "outputs": [
    {
     "name": "stdout",
     "output_type": "stream",
     "text": [
      "3.22 µs ± 324 ns per loop (mean ± std. dev. of 7 runs, 100000 loops each)\n"
     ]
    }
   ],
   "source": [
    "%%timeit\n",
    "\n",
    "#a = int(input(\"enter a power for sin x\"))\n",
    "def sinn2(a):\n",
    "    #a = 3.1415\n",
    "    summ = a\n",
    "    f = 1\n",
    "    p_a = a\n",
    "    sgn = 1\n",
    "    for i in range(1,11):\n",
    "        p_a = p_a * a * a\n",
    "        #if i > 0:\n",
    "        f = f * (2 * i) * (2 * i + 1)\n",
    "        #print(\"i is {} p is {} f is {}\".format(i,p,f))\n",
    "        sgn = sgn * (-1)\n",
    "        term = sgn * p_a / f\n",
    "        summ = summ + term\n",
    "    return summ\n",
    "\n",
    "sinn2(3.1415)\n",
    "\n",
    "#print(term)\n",
    "#print(summ)\n",
    "# print(summ)\n",
    "# print(np.sin(a))\n"
   ]
  },
  {
   "cell_type": "code",
   "execution_count": 127,
   "metadata": {},
   "outputs": [
    {
     "ename": "OverflowError",
     "evalue": "int too large to convert to float",
     "output_type": "error",
     "traceback": [
      "\u001b[0;31m---------------------------------------------------------------------------\u001b[0m",
      "\u001b[0;31mOverflowError\u001b[0m                             Traceback (most recent call last)",
      "\u001b[0;32m<ipython-input-127-63fcd05250b0>\u001b[0m in \u001b[0;36m<module>\u001b[0;34m\u001b[0m\n\u001b[1;32m     17\u001b[0m     \u001b[0;32mreturn\u001b[0m \u001b[0msumm\u001b[0m\u001b[0;34m\u001b[0m\u001b[0;34m\u001b[0m\u001b[0m\n\u001b[1;32m     18\u001b[0m \u001b[0;34m\u001b[0m\u001b[0m\n\u001b[0;32m---> 19\u001b[0;31m \u001b[0msinn2\u001b[0m\u001b[0;34m(\u001b[0m\u001b[0;36m3.14\u001b[0m\u001b[0;34m)\u001b[0m\u001b[0;34m\u001b[0m\u001b[0;34m\u001b[0m\u001b[0m\n\u001b[0m",
      "\u001b[0;32m<ipython-input-127-63fcd05250b0>\u001b[0m in \u001b[0;36msinn2\u001b[0;34m(a)\u001b[0m\n\u001b[1;32m     13\u001b[0m         \u001b[0;31m#print(\"i is {} p is {} f is {}\".format(i,p,f))\u001b[0m\u001b[0;34m\u001b[0m\u001b[0;34m\u001b[0m\u001b[0;34m\u001b[0m\u001b[0m\n\u001b[1;32m     14\u001b[0m         \u001b[0msgn\u001b[0m \u001b[0;34m=\u001b[0m \u001b[0msgn\u001b[0m \u001b[0;34m*\u001b[0m \u001b[0;34m(\u001b[0m\u001b[0;34m-\u001b[0m\u001b[0;36m1\u001b[0m\u001b[0;34m)\u001b[0m\u001b[0;34m\u001b[0m\u001b[0;34m\u001b[0m\u001b[0m\n\u001b[0;32m---> 15\u001b[0;31m         \u001b[0mterm\u001b[0m \u001b[0;34m=\u001b[0m \u001b[0mfloat\u001b[0m\u001b[0;34m(\u001b[0m\u001b[0msgn\u001b[0m \u001b[0;34m*\u001b[0m \u001b[0mp_a\u001b[0m \u001b[0;34m/\u001b[0m \u001b[0mf\u001b[0m\u001b[0;34m)\u001b[0m\u001b[0;34m\u001b[0m\u001b[0;34m\u001b[0m\u001b[0m\n\u001b[0m\u001b[1;32m     16\u001b[0m         \u001b[0msumm\u001b[0m \u001b[0;34m=\u001b[0m \u001b[0msumm\u001b[0m \u001b[0;34m+\u001b[0m \u001b[0mterm\u001b[0m\u001b[0;34m\u001b[0m\u001b[0;34m\u001b[0m\u001b[0m\n\u001b[1;32m     17\u001b[0m     \u001b[0;32mreturn\u001b[0m \u001b[0msumm\u001b[0m\u001b[0;34m\u001b[0m\u001b[0;34m\u001b[0m\u001b[0m\n",
      "\u001b[0;31mOverflowError\u001b[0m: int too large to convert to float"
     ]
    }
   ],
   "source": [
    "#%%timeit\n",
    "#optimization\n",
    "def sinn2(a):\n",
    "    #a = 3.1415\n",
    "    summ = 0\n",
    "    f = 1\n",
    "    p_a = 1/a\n",
    "    sgn = -1\n",
    "    for i in range(100):\n",
    "        p_a  = p_a * a * a\n",
    "        if i > 0:\n",
    "            f = f * (2 * i) * (2 * i + 1)\n",
    "        #print(\"i is {} p is {} f is {}\".format(i,p,f))\n",
    "        sgn = sgn * (-1)\n",
    "        term = float(sgn * p_a / f)\n",
    "        summ = summ + term\n",
    "    return summ\n",
    "\n",
    "sinn2(3.14)"
   ]
  },
  {
   "cell_type": "code",
   "execution_count": 14,
   "metadata": {},
   "outputs": [
    {
     "name": "stdout",
     "output_type": "stream",
     "text": [
      "61.9 µs ± 4.57 µs per loop (mean ± std. dev. of 7 runs, 10000 loops each)\n"
     ]
    }
   ],
   "source": [
    "%%timeit\n",
    "sin_wo(3.1415)"
   ]
  },
  {
   "cell_type": "code",
   "execution_count": null,
   "metadata": {},
   "outputs": [],
   "source": [
    "%%timeit\n",
    "sinn2(3.1415)"
   ]
  },
  {
   "cell_type": "code",
   "execution_count": 21,
   "metadata": {},
   "outputs": [
    {
     "name": "stdout",
     "output_type": "stream",
     "text": [
      "733 ns ± 45.1 ns per loop (mean ± std. dev. of 7 runs, 1000000 loops each)\n"
     ]
    }
   ],
   "source": [
    "%%timeit\n",
    "a = np.sin(3.1415)"
   ]
  }
 ],
 "metadata": {
  "kernelspec": {
   "display_name": "Python 3",
   "language": "python",
   "name": "python3"
  },
  "language_info": {
   "codemirror_mode": {
    "name": "ipython",
    "version": 3
   },
   "file_extension": ".py",
   "mimetype": "text/x-python",
   "name": "python",
   "nbconvert_exporter": "python",
   "pygments_lexer": "ipython3",
   "version": "3.7.3"
  }
 },
 "nbformat": 4,
 "nbformat_minor": 2
}
