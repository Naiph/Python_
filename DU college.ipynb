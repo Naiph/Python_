{
 "cells": [
  {
   "cell_type": "code",
   "execution_count": 45,
   "metadata": {},
   "outputs": [],
   "source": [
    "from selenium import webdriver\n",
    "from selenium.webdriver.support.ui import Select\n",
    "import os\n",
    "from selenium.common.exceptions import NoSuchElementException"
   ]
  },
  {
   "cell_type": "code",
   "execution_count": 81,
   "metadata": {},
   "outputs": [],
   "source": [
    "cal1 = []\n",
    "cal2 = []\n",
    "cal3 = []\n",
    "cal4 = []\n",
    "names = []\n",
    "\n",
    "for i in range(50):\n",
    "    \n",
    "    rollno = '170805630' + str(i).zfill(2)\n",
    "    browser = webdriver.Firefox()\n",
    "    browser.get('https://duresult.in/students/Combine_GradeCard.aspx')\n",
    "    elem1 = browser.find_element_by_id(\"txtrollno\")\n",
    "    elem1.send_keys(rollno)\n",
    "\n",
    "    #elem2 = browser.find_element_by_id(\"ddlcollege\")\n",
    "    #elem2.select_by_value('St. Stephens College')\n",
    "    browser.find_element_by_xpath(\"//select[@name='ddlcollege']/option[text()='St. Stephens College']\").click()\n",
    "\n",
    "    elem3 = browser.find_element_by_id('imgCaptcha').get_attribute('src')\n",
    "\n",
    "    cap = elem3[62:68]\n",
    "\n",
    "    elem4 = browser.find_element_by_id('txtcaptcha')\n",
    "    elem4.send_keys(cap)\n",
    "\n",
    "    elem5 = browser.find_element_by_id('btnsearch')\n",
    "    elem5.click()\n",
    "    \n",
    "    try:\n",
    "        elem6 = browser.find_element_by_id('lblname')\n",
    "        names.append(elem6.text)\n",
    "    except NoSuchElementException:\n",
    "        browser.quit()\n",
    "        continue\n",
    "        \n",
    "    #s1 = browser.find_element_by_xpath('')\n",
    "    s1gpa = browser.find_element_by_xpath('//*[@id=\"gvshow\"]/tbody/tr[3]/td[9]')\n",
    "    cal1.append(s1gpa.text)\n",
    "    \n",
    "    \n",
    "\n",
    "    s2gpa = browser.find_element_by_xpath('//*[@id=\"gvshow\"]/tbody/tr[8]/td[9]')\n",
    "    cal2.append(s2gpa.text)\n",
    "\n",
    "    s3gpa = browser.find_element_by_xpath('//*[@id=\"gvshow\"]/tbody/tr[13]/td[9]')\n",
    "    cal3.append(s3gpa.text)\n",
    "\n",
    "    s4gpa = browser.find_element_by_xpath('//*[@id=\"gvshow\"]/tbody/tr[16]/td[9]')\n",
    "    cal4.append(s4gpa.text)\n",
    "\n",
    "    browser.quit()"
   ]
  },
  {
   "cell_type": "code",
   "execution_count": 64,
   "metadata": {},
   "outputs": [
    {
     "data": {
      "text/plain": [
       "9"
      ]
     },
     "execution_count": 64,
     "metadata": {},
     "output_type": "execute_result"
    }
   ],
   "source": [
    "# 2 ,7, 12, 15"
   ]
  },
  {
   "cell_type": "code",
   "execution_count": 83,
   "metadata": {},
   "outputs": [
    {
     "name": "stdout",
     "output_type": "stream",
     "text": [
      "['9', '10', '8', '10', '8', '10', '9', '10', '9', '8', '9', '9', '10', '9', '10', '5', '10', '8', '6', '10', '8', '10', '10', '9', '10', '10', '10', '10', '10', '9', '6', '9', '10', '10', '7', '10', '8', '10', '9', '9', '10', '10', '10', '9', '5', '9', '10', '10']\n",
      "['0', '9', '9', '9', '8', '10', '10', '10', '8', '6', '8', '8', '10', '6', '9', '4', '9', '6', '7', '9', '6', '8', '10', '8', '10', '7', '10', '8', '10', '6', '0', '9', '10', '10', '6', '9', '8', '10', '9', '8', '10', '10', '10', '9', '4', '5', '9', '10']\n",
      "['9', '9', '9', '9', '8', '10', '10', '9', '9', '7', '9', '7', '10', '8', '8', '0', '9', '7', '6', '10', '8', '7', '10', '9', '10', '8', '10', '7', '9', '6', '6', '7', '9', '9', '5', '9', '8', '9', '8', '8', '9', '10', '10', '8', '6', '5', '10', '9']\n",
      "['0', '7', '7', '0', '8', '8', '8', '9', '9', '6', '8', '7', '9', '7', '6', '4', '9', '9', '7', '10', '0', '7', '9', '8', '10', '7', '9', '8', '9', '5', '5', '9', '9', '10', '6', '8', '6', '8', '10', '9', '7', '10', '10', '8', '6', '4', '10', '9']\n"
     ]
    }
   ],
   "source": [
    "print(cal1)\n",
    "print(cal2)\n",
    "print(cal3)\n",
    "print(cal4)\n"
   ]
  },
  {
   "cell_type": "code",
   "execution_count": 95,
   "metadata": {},
   "outputs": [],
   "source": [
    "cal1 = ['9', '10', '8', '10', '8', '10', '9', '10', '9', '8', '9', '9', '10', '9', '10', '5', '10', '8', '6', '10', '8', '10', '10', '9', '10', '10', '10', '10', '10', '9', '6', '9', '10', '10', '7', '10', '8', '10', '9', '9', '10', '10', '10', '9', '5', '9', '10', '10']\n",
    "cal2 = ['0', '9', '9', '9', '8', '10', '10', '10', '8', '6', '8', '8', '10', '6', '9', '4', '9', '6', '7', '9', '6', '8', '10', '8', '10', '7', '10', '8', '10', '6', '0', '9', '10', '10', '6', '9', '8', '10', '9', '8', '10', '10', '10', '9', '4', '5', '9', '10']\n",
    "cal3 = ['9', '9', '9', '9', '8', '10', '10', '9', '9', '7', '9', '7', '10', '8', '8', '0', '9', '7', '6', '10', '8', '7', '10', '9', '10', '8', '10', '7', '9', '6', '6', '7', '9', '9', '5', '9', '8', '9', '8', '8', '9', '10', '10', '8', '6', '5', '10', '9']\n",
    "cal4 = ['0', '7', '7', '0', '8', '8', '8', '9', '9', '6', '8', '7', '9', '7', '6', '4', '9', '9', '7', '10', '0', '7', '9', '8', '10', '7', '9', '8', '9', '5', '5', '9', '9', '10', '6', '8', '6', '8', '10', '9', '7', '10', '10', '8', '6', '4', '10', '9']"
   ]
  },
  {
   "cell_type": "code",
   "execution_count": 98,
   "metadata": {},
   "outputs": [],
   "source": [
    "summ1 = 0\n",
    "summ2 = 0\n",
    "summ3 = 0\n",
    "summ4 = 0\n",
    "for i in range(len(cal1)):\n",
    "    summ1 = summ1 + int(cal1[i])\n",
    "for i in range(len(cal1)):\n",
    "    summ2 = summ2 + int(cal2[i])\n",
    "for i in range(len(cal1)):\n",
    "    summ3 = summ3 + int(cal3[i])\n",
    "for i in range(len(cal1)):\n",
    "    summ4 = summ4 + int(cal4[i])\n"
   ]
  },
  {
   "cell_type": "code",
   "execution_count": 99,
   "metadata": {},
   "outputs": [
    {
     "name": "stdout",
     "output_type": "stream",
     "text": [
      "434\n",
      "384\n",
      "392\n",
      "354\n"
     ]
    }
   ],
   "source": [
    "print(summ1)\n",
    "print(summ2)\n",
    "print(summ3)\n",
    "print(summ4)"
   ]
  },
  {
   "cell_type": "code",
   "execution_count": 101,
   "metadata": {},
   "outputs": [],
   "source": [
    "def avg(a):\n",
    "    return a/len(cal1)"
   ]
  },
  {
   "cell_type": "code",
   "execution_count": 104,
   "metadata": {},
   "outputs": [
    {
     "name": "stdout",
     "output_type": "stream",
     "text": [
      "9.041666666666666\n",
      "8.0\n",
      "8.166666666666666\n",
      "7.375\n"
     ]
    }
   ],
   "source": [
    "print(avg(summ1))\n",
    "print(avg(summ2))\n",
    "print(avg(summ3))\n",
    "print(avg(summ4))"
   ]
  },
  {
   "cell_type": "code",
   "execution_count": 105,
   "metadata": {},
   "outputs": [
    {
     "data": {
      "text/plain": [
       "['AJINI A. VARGHESE',\n",
       " 'ALEX PRATEEK SHANKAR',\n",
       " 'AMAY CHARLES',\n",
       " 'ANDREW MARK VERDES',\n",
       " 'ANIRUDH BATRA',\n",
       " 'ANSHIKA SUNNY',\n",
       " 'ANUSHKA MARCH',\n",
       " 'AYSHA T.C',\n",
       " 'BABY ZOTHANKIMI',\n",
       " 'CHENTISANGLA LONGKUMER',\n",
       " 'CHRISTO BABU',\n",
       " 'DEVID KUMAR',\n",
       " 'GARIMA UPRETI',\n",
       " 'HARSHITH VARMA MANTHENA',\n",
       " 'JEBIN CHACKO JAMES',\n",
       " 'KAHMEI MEITHAINGAM',\n",
       " 'KARTIKEYA JAISWAL',\n",
       " 'KIRAN ELIZABETH JOSE',\n",
       " 'K KABIR JOHN',\n",
       " 'KRITIKA GULATI',\n",
       " 'F. LALTHANMAWII',\n",
       " 'MICHELLE LIZ ROBSON',\n",
       " 'MURTAZA FAROOQ',\n",
       " 'NEELAKANTHA BHANU PRAKASH J',\n",
       " 'NIDHI SAXENA',\n",
       " 'NIKHIL GEORGE VAKKAN V',\n",
       " 'OSHEEN GUPTA',\n",
       " 'PAUL ALIAS',\n",
       " 'PRIYANKA PRAKASH NAIR',\n",
       " 'RAHUL TOM THEKKEL',\n",
       " 'RAHUL VASISHTHA',\n",
       " 'RHEMA SIMON',\n",
       " 'RIDDHI KANSAL',\n",
       " 'RIYA',\n",
       " 'ROHAN REGI',\n",
       " 'ROSE MARY PAATTAM',\n",
       " 'RUPAK JAIN',\n",
       " 'SANDRA LIZ SUNNY',\n",
       " 'SHEFALIKA PANDEY',\n",
       " 'SHILPA J. ALAPPATT',\n",
       " 'SHOURYA AVINASH',\n",
       " 'SHRIKA KOHLI',\n",
       " 'SONAL KANODIA',\n",
       " 'SUMIRAN SAVANT',\n",
       " 'TARUN SHARMA',\n",
       " 'YASH KUMAR MISHRA',\n",
       " 'YASHASVINI',\n",
       " 'TUSITA']"
      ]
     },
     "execution_count": 105,
     "metadata": {},
     "output_type": "execute_result"
    }
   ],
   "source": [
    "names"
   ]
  },
  {
   "cell_type": "code",
   "execution_count": null,
   "metadata": {},
   "outputs": [],
   "source": []
  }
 ],
 "metadata": {
  "kernelspec": {
   "display_name": "Python 3",
   "language": "python",
   "name": "python3"
  },
  "language_info": {
   "codemirror_mode": {
    "name": "ipython",
    "version": 3
   },
   "file_extension": ".py",
   "mimetype": "text/x-python",
   "name": "python",
   "nbconvert_exporter": "python",
   "pygments_lexer": "ipython3",
   "version": "3.7.3"
  }
 },
 "nbformat": 4,
 "nbformat_minor": 2
}
